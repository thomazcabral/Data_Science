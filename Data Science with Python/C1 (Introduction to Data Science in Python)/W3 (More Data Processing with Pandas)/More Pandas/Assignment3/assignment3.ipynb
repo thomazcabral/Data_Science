{
 "cells": [
  {
   "cell_type": "markdown",
   "metadata": {
    "deletable": false,
    "editable": false,
    "nbgrader": {
     "checksum": "ab80976c194c2c1bfebb7f3a12fc4e58",
     "grade": false,
     "grade_id": "cell-018440ed2f1b6a62",
     "locked": true,
     "schema_version": 1,
     "solution": false
    }
   },
   "source": [
    "# Assignment 3\n",
    "All questions are weighted the same in this assignment. This assignment requires more individual learning then the last one did - you are encouraged to check out the [pandas documentation](http://pandas.pydata.org/pandas-docs/stable/) to find functions or methods you might not have used yet, or ask questions on [Stack Overflow](http://stackoverflow.com/) and tag them as pandas and python related. All questions are worth the same number of points except question 1 which is worth 17% of the assignment grade.\n",
    "\n",
    "**Note**: Questions 2-13 rely on your question 1 answer."
   ]
  },
  {
   "cell_type": "code",
   "execution_count": 8,
   "metadata": {},
   "outputs": [],
   "source": [
    "import pandas as pd\n",
    "import numpy as np\n",
    "\n",
    "# Filter all warnings\n",
    "import warnings\n",
    "warnings.filterwarnings('ignore')"
   ]
  },
  {
   "cell_type": "markdown",
   "metadata": {
    "deletable": false,
    "editable": false,
    "nbgrader": {
     "checksum": "68063b8b0783f3d8122b516e0cce5f45",
     "grade": false,
     "grade_id": "cell-7e5190c7ff1f2e42",
     "locked": true,
     "schema_version": 1,
     "solution": false
    }
   },
   "source": [
    "### Question 1\n",
    "Load the energy data from the file `assets/Energy Indicators.xls`, which is a list of indicators of [energy supply and renewable electricity production](assets/Energy%20Indicators.xls) from the [United Nations](http://unstats.un.org/unsd/environment/excel_file_tables/2013/Energy%20Indicators.xls) for the year 2013, and should be put into a DataFrame with the variable name of **Energy**.\n",
    "\n",
    "Keep in mind that this is an Excel file, and not a comma separated values file. Also, make sure to exclude the footer and header information from the datafile. The first two columns are unneccessary, so you should get rid of them, and you should change the column labels so that the columns are:\n",
    "\n",
    "`['Country', 'Energy Supply', 'Energy Supply per Capita', '% Renewable]`\n",
    "\n",
    "Convert `Energy Supply` to gigajoules (**Note: there are 1,000,000 gigajoules in a petajoule**). For all countries which have missing data (e.g. data with \"...\") make sure this is reflected as `np.NaN` values.\n",
    "\n",
    "Rename the following list of countries (for use in later questions):\n",
    "\n",
    "```\"Republic of Korea\": \"South Korea\",\n",
    "\"United States of America\": \"United States\",\n",
    "\"United Kingdom of Great Britain and Northern Ireland\": \"United Kingdom\",\n",
    "\"China, Hong Kong Special Administrative Region\": \"Hong Kong\"```\n",
    "\n",
    "There are also several countries with numbers and/or parenthesis in their name. Be sure to remove these, e.g. `'Bolivia (Plurinational State of)'` should be `'Bolivia'`.  `'Switzerland17'` should be `'Switzerland'`.\n",
    "\n",
    "Next, load the GDP data from the file `assets/world_bank.csv`, which is a csv containing countries' GDP from 1960 to 2015 from [World Bank](http://data.worldbank.org/indicator/NY.GDP.MKTP.CD). Call this DataFrame **GDP**. \n",
    "\n",
    "Make sure to skip the header, and rename the following list of countries:\n",
    "\n",
    "```\"Korea, Rep.\": \"South Korea\", \n",
    "\"Iran, Islamic Rep.\": \"Iran\",\n",
    "\"Hong Kong SAR, China\": \"Hong Kong\"```\n",
    "\n",
    "Finally, load the [Sciamgo Journal and Country Rank data for Energy Engineering and Power Technology](http://www.scimagojr.com/countryrank.php?category=2102) from the file `assets/scimagojr-3.xlsx`, which ranks countries based on their journal contributions in the aforementioned area. Call this DataFrame **ScimEn**.\n",
    "\n",
    "Join the three datasets: GDP, Energy, and ScimEn into a new dataset (using the intersection of country names). Use only the last 10 years (2006-2015) of GDP data and only the top 15 countries by Scimagojr 'Rank' (Rank 1 through 15). \n",
    "\n",
    "The index of this DataFrame should be the name of the country, and the columns should be ['Rank', 'Documents', 'Citable documents', 'Citations', 'Self-citations',\n",
    "       'Citations per document', 'H index', 'Energy Supply',\n",
    "       'Energy Supply per Capita', '% Renewable', '2006', '2007', '2008',\n",
    "       '2009', '2010', '2011', '2012', '2013', '2014', '2015'].\n",
    "\n",
    "*This function should return a DataFrame with 20 columns and 15 entries, and the rows of the DataFrame should be sorted by \"Rank\".*"
   ]
  },
  {
   "cell_type": "code",
   "execution_count": 33,
   "metadata": {},
   "outputs": [
    {
     "name": "stdout",
     "output_type": "stream",
     "text": [
      "0                          Afghanistan\n",
      "1                              Albania\n",
      "2                              Algeria\n",
      "3                       American Samoa\n",
      "4                              Andorra\n",
      "5                               Angola\n",
      "6                             Anguilla\n",
      "7                  Antigua and Barbuda\n",
      "8                            Argentina\n",
      "9                              Armenia\n",
      "10                               Aruba\n",
      "11                          Australia1\n",
      "12                             Austria\n",
      "13                          Azerbaijan\n",
      "14                             Bahamas\n",
      "15                             Bahrain\n",
      "16                          Bangladesh\n",
      "17                            Barbados\n",
      "18                             Belarus\n",
      "19                             Belgium\n",
      "20                              Belize\n",
      "21                               Benin\n",
      "22                             Bermuda\n",
      "23                              Bhutan\n",
      "24                             Bolivia\n",
      "25    Bonaire, Sint Eustatius and Saba\n",
      "26              Bosnia and Herzegovina\n",
      "27                            Botswana\n",
      "28                              Brazil\n",
      "29              British Virgin Islands\n",
      "Name: Country, dtype: object\n"
     ]
    }
   ],
   "source": [
    "data = pd.ExcelFile(\"EnergyIndicators.xls\")\n",
    "energy = pd.read_excel(data, skiprows=17, skipfooter=38) # numbers are given\n",
    "\n",
    "energy = energy.drop(energy.columns[1], axis=1) # excluding the columns\n",
    "energy = energy.drop(energy.columns[0], axis=1)\n",
    "\n",
    "energy.columns = [\"Country\", \"Energy Supply\", \"Energy Supply per Capita\", \"% Renewable\"] # renaming the columns\n",
    "\n",
    "energy = energy.replace({\"...\": np.nan})\n",
    "\n",
    "energy[\"Energy Supply\"] = energy[\"Energy Supply\"] * 1000000 # changing the joules\n",
    "\n",
    "energy[\"Country\"] = energy[\"Country\"].replace({\"United States of America\": \"United States\",\n",
    "                                            \"United Kingdom of Great Britain and Nothern Ireland\": \"United Kingdom\",\n",
    "                                            \"China, Hong Kong Special Administrative Region\": \"Hong Kong\"})\n",
    "\n",
    "energy['Country'] = energy[\"Country\"].replace(r' \\(.*\\)', '',regex=True) # regex to be replaced\n",
    "print(energy[\"Country\"].head(30))"
   ]
  },
  {
   "cell_type": "code",
   "execution_count": 38,
   "metadata": {
    "deletable": false,
    "nbgrader": {
     "checksum": "57e040f07954f979910eddc0f489ffe5",
     "grade": false,
     "grade_id": "cell-bce4d6f2ecdd1297",
     "locked": false,
     "schema_version": 1,
     "solution": true
    }
   },
   "outputs": [
    {
     "name": "stdout",
     "output_type": "stream",
     "text": [
      "         Country Name Country Code                            Indicator Name  \\\n",
      "0               Aruba          ABW  GDP at market prices (constant 2010 US$)   \n",
      "1             Andorra          AND  GDP at market prices (constant 2010 US$)   \n",
      "2         Afghanistan          AFG  GDP at market prices (constant 2010 US$)   \n",
      "3              Angola          AGO  GDP at market prices (constant 2010 US$)   \n",
      "4             Albania          ALB  GDP at market prices (constant 2010 US$)   \n",
      "..                ...          ...                                       ...   \n",
      "259       Yemen, Rep.          YEM  GDP at market prices (constant 2010 US$)   \n",
      "260      South Africa          ZAF  GDP at market prices (constant 2010 US$)   \n",
      "261  Congo, Dem. Rep.          COD  GDP at market prices (constant 2010 US$)   \n",
      "262            Zambia          ZMB  GDP at market prices (constant 2010 US$)   \n",
      "263          Zimbabwe          ZWE  GDP at market prices (constant 2010 US$)   \n",
      "\n",
      "     Indicator Code          1960          1961          1962          1963  \\\n",
      "0    NY.GDP.MKTP.KD           NaN           NaN           NaN           NaN   \n",
      "1    NY.GDP.MKTP.KD           NaN           NaN           NaN           NaN   \n",
      "2    NY.GDP.MKTP.KD           NaN           NaN           NaN           NaN   \n",
      "3    NY.GDP.MKTP.KD           NaN           NaN           NaN           NaN   \n",
      "4    NY.GDP.MKTP.KD           NaN           NaN           NaN           NaN   \n",
      "..              ...           ...           ...           ...           ...   \n",
      "259  NY.GDP.MKTP.KD           NaN           NaN           NaN           NaN   \n",
      "260  NY.GDP.MKTP.KD  7.707081e+10  8.003449e+10  8.497844e+10  9.124438e+10   \n",
      "261  NY.GDP.MKTP.KD  1.508024e+10  1.344383e+10  1.629401e+10  1.714358e+10   \n",
      "262  NY.GDP.MKTP.KD  4.592975e+09  4.655503e+09  4.539542e+09  4.688093e+09   \n",
      "263  NY.GDP.MKTP.KD  3.338344e+09  3.549199e+09  3.600111e+09  3.824915e+09   \n",
      "\n",
      "             1964          1965  ...          2006          2007  \\\n",
      "0             NaN           NaN  ...           NaN           NaN   \n",
      "1             NaN           NaN  ...  4.018196e+09  4.021331e+09   \n",
      "2             NaN           NaN  ...  1.030523e+10  1.172119e+10   \n",
      "3             NaN           NaN  ...  5.581103e+10  6.842044e+10   \n",
      "4             NaN           NaN  ...  9.771760e+09  1.034829e+10   \n",
      "..            ...           ...  ...           ...           ...   \n",
      "259           NaN           NaN  ...  2.672565e+10  2.761787e+10   \n",
      "260  9.848904e+10  1.072507e+11  ...  3.402852e+11  3.585261e+11   \n",
      "261  1.672524e+10  1.689205e+10  ...  1.650894e+10  1.754232e+10   \n",
      "262  5.260699e+09  6.136472e+09  ...  1.440569e+10  1.560892e+10   \n",
      "263  3.782605e+09  3.968352e+09  ...  1.006276e+10  9.695130e+09   \n",
      "\n",
      "             2008          2009          2010          2011          2012  \\\n",
      "0             NaN           NaN  2.467704e+09           NaN           NaN   \n",
      "1    3.675728e+09  3.535389e+09  3.346317e+09  3.185605e+09  3.129538e+09   \n",
      "2    1.214448e+10  1.469733e+10  1.593680e+10  1.691113e+10  1.935220e+10   \n",
      "3    7.787420e+10  7.975320e+10  8.247091e+10  8.570262e+10  9.012096e+10   \n",
      "4    1.112752e+10  1.150029e+10  1.192695e+10  1.223109e+10  1.240477e+10   \n",
      "..            ...           ...           ...           ...           ...   \n",
      "259  2.872656e+10  2.991436e+10  3.090675e+10  2.624342e+10  2.689160e+10   \n",
      "260  3.699668e+11  3.642764e+11  3.753494e+11  3.874074e+11  3.960071e+11   \n",
      "261  1.863448e+10  1.916651e+10  2.052329e+10  2.193213e+10  2.350200e+10   \n",
      "262  1.682234e+10  1.837342e+10  2.026555e+10  2.140358e+10  2.302438e+10   \n",
      "263  7.982103e+09  8.459783e+09  9.422161e+09  1.054391e+10  1.165789e+10   \n",
      "\n",
      "             2013          2014          2015  \n",
      "0             NaN           NaN           NaN  \n",
      "1    3.127550e+09           NaN           NaN  \n",
      "2    1.973134e+10  1.999032e+10  2.029415e+10  \n",
      "3    9.626143e+10  1.008863e+11  1.039106e+11  \n",
      "4    1.254247e+10  1.279331e+10  1.312082e+10  \n",
      "..            ...           ...           ...  \n",
      "259  2.800914e+10           NaN           NaN  \n",
      "260  4.047682e+11  4.110369e+11  4.163117e+11  \n",
      "261  2.550050e+10  2.778776e+10  2.970961e+10  \n",
      "262  2.420595e+10  2.542227e+10  2.624127e+10  \n",
      "263  1.218064e+10  1.264939e+10  1.278517e+10  \n",
      "\n",
      "[264 rows x 60 columns]\n"
     ]
    }
   ],
   "source": [
    "GDP = pd.read_csv(\"world_bank.csv\", skiprows=4)\n",
    "\n",
    "GDP[\"Country Name\"].replace({\"Korea, Rep.\": \"South Korea\", \"Iran, Islamic Rep.\": \"Iran\", \"Hong Kong SAR, China\": \"Hong Kong\"}, inplace=True)\n",
    "print(GDP)"
   ]
  },
  {
   "cell_type": "code",
   "execution_count": null,
   "metadata": {},
   "outputs": [],
   "source": [
    "ScimEn = pd.read_excel(\"scimagojr-3.xlsx\") # try to run cin"
   ]
  },
  {
   "cell_type": "code",
   "execution_count": null,
   "metadata": {},
   "outputs": [],
   "source": [
    "ScimEn = ScimEn[:15] #pick the initial 15 elements\n",
    "GDP.rename(columns={\"Country Name\": \"Country\"}, inplace=True)\n",
    "GDP = GDP[['Country Name', '2006', '2007', '2008', '2009', '2010', '2011', '2012', '2013', '2014', '2015']]\n",
    "\n",
    "initial_merge = pd.merge(GDP, energy, how=\"inner\", left_on=\"Country\", right_on=\"Country\")\n",
    "final_merge = pd.merge(initial_merge, ScimEn, how=\"inner\", left_on=\"Country\", right_on=\"Country\")\n",
    "final_merge.set_index(\"Country\")"
   ]
  },
  {
   "cell_type": "markdown",
   "metadata": {
    "deletable": false,
    "editable": false,
    "nbgrader": {
     "checksum": "596280cd22ed98c5540580c62954ec2f",
     "grade": false,
     "grade_id": "cell-babe0ff2a1fc6b17",
     "locked": true,
     "schema_version": 1,
     "solution": false
    }
   },
   "source": [
    "### Question 2\n",
    "The previous question joined three datasets then reduced this to just the top 15 entries. When you joined the datasets, but before you reduced this to the top 15 items, how many entries did you lose?\n",
    "\n",
    "*This function should return a single number.*"
   ]
  },
  {
   "cell_type": "markdown",
   "metadata": {
    "deletable": false,
    "editable": false,
    "nbgrader": {
     "checksum": "5af1b4f99cd383263130f4c00442a133",
     "grade": false,
     "grade_id": "cell-2e54816014e48c18",
     "locked": true,
     "schema_version": 1,
     "solution": false
    }
   },
   "source": [
    "### Question 3\n",
    "What are the top 15 countries for average GDP over the last 10 years?\n",
    "\n",
    "*This function should return a Series named `avgGDP` with 15 countries and their average GDP sorted in descending order.*"
   ]
  },
  {
   "cell_type": "markdown",
   "metadata": {},
   "source": [
    "### Question 4\n",
    "By how much had the GDP changed over the 10 year span for the country with the 6th largest average GDP?\n",
    "\n",
    "*This function should return a single number.*"
   ]
  },
  {
   "cell_type": "markdown",
   "metadata": {
    "deletable": false,
    "editable": false,
    "nbgrader": {
     "checksum": "ed6dbc94ff1b6268873413fee12741cd",
     "grade": false,
     "grade_id": "cell-617669111e38ca15",
     "locked": true,
     "schema_version": 1,
     "solution": false
    }
   },
   "source": [
    "### Question 5\n",
    "What is the mean energy supply per capita?\n",
    "\n",
    "*This function should return a single number.*"
   ]
  },
  {
   "cell_type": "markdown",
   "metadata": {
    "deletable": false,
    "editable": false,
    "nbgrader": {
     "checksum": "2c7a163ae96f56317756456b0d9d695b",
     "grade": false,
     "grade_id": "cell-5c11ddd12fd71b3f",
     "locked": true,
     "schema_version": 1,
     "solution": false
    }
   },
   "source": [
    "### Question 6\n",
    "What country has the maximum % Renewable and what is the percentage?\n",
    "\n",
    "*This function should return a tuple with the name of the country and the percentage.*"
   ]
  },
  {
   "cell_type": "markdown",
   "metadata": {
    "deletable": false,
    "editable": false,
    "nbgrader": {
     "checksum": "a7b561a486a28ee4ba80a40715617c6d",
     "grade": false,
     "grade_id": "cell-ddf52a85ad3d5a11",
     "locked": true,
     "schema_version": 1,
     "solution": false
    }
   },
   "source": [
    "### Question 7\n",
    "Create a new column that is the ratio of Self-Citations to Total Citations. \n",
    "What is the maximum value for this new column, and what country has the highest ratio?\n",
    "\n",
    "*This function should return a tuple with the name of the country and the ratio.*"
   ]
  },
  {
   "cell_type": "markdown",
   "metadata": {
    "deletable": false,
    "editable": false,
    "nbgrader": {
     "checksum": "7be7b86ee7467539dd88746818c78c0e",
     "grade": false,
     "grade_id": "cell-5c89296ab6f94218",
     "locked": true,
     "schema_version": 1,
     "solution": false
    }
   },
   "source": [
    "### Question 8\n",
    "\n",
    "Create a column that estimates the population using Energy Supply and Energy Supply per capita. \n",
    "What is the third most populous country according to this estimate?\n",
    "\n",
    "*This function should return the name of the country*"
   ]
  },
  {
   "cell_type": "markdown",
   "metadata": {
    "deletable": false,
    "editable": false,
    "nbgrader": {
     "checksum": "164cba98164a1045db7de10dd37115c8",
     "grade": false,
     "grade_id": "cell-2065207e66e5ec01",
     "locked": true,
     "schema_version": 1,
     "solution": false
    }
   },
   "source": [
    "### Question 9\n",
    "Create a column that estimates the number of citable documents per person. \n",
    "What is the correlation between the number of citable documents per capita and the energy supply per capita? Use the `.corr()` method, (Pearson's correlation).\n",
    "\n",
    "*This function should return a single number.*\n",
    "\n",
    "*(Optional: Use the built-in function `plot9()` to visualize the relationship between Energy Supply per Capita vs. Citable docs per Capita)*"
   ]
  },
  {
   "cell_type": "markdown",
   "metadata": {
    "deletable": false,
    "editable": false,
    "nbgrader": {
     "checksum": "8af5ffad89be1e5c6292438724d6f8d5",
     "grade": false,
     "grade_id": "cell-ad09765e29b91157",
     "locked": true,
     "schema_version": 1,
     "solution": false
    }
   },
   "source": [
    "### Question 10\n",
    "Create a new column with a 1 if the country's % Renewable value is at or above the median for all countries in the top 15, and a 0 if the country's % Renewable value is below the median.\n",
    "\n",
    "*This function should return a series named `HighRenew` whose index is the country name sorted in ascending order of rank.*"
   ]
  },
  {
   "cell_type": "markdown",
   "metadata": {
    "deletable": false,
    "editable": false,
    "nbgrader": {
     "checksum": "52f682e7066791c34cd3b2402855cbf5",
     "grade": false,
     "grade_id": "cell-677c51ba711c3af7",
     "locked": true,
     "schema_version": 1,
     "solution": false
    }
   },
   "source": [
    "### Question 11\n",
    "Use the following dictionary to group the Countries by Continent, then create a DataFrame that displays the sample size (the number of countries in each continent bin), and the sum, mean, and std deviation for the estimated population of each country.\n",
    "\n",
    "```python\n",
    "ContinentDict  = {'China':'Asia', \n",
    "                  'United States':'North America', \n",
    "                  'Japan':'Asia', \n",
    "                  'United Kingdom':'Europe', \n",
    "                  'Russian Federation':'Europe', \n",
    "                  'Canada':'North America', \n",
    "                  'Germany':'Europe', \n",
    "                  'India':'Asia',\n",
    "                  'France':'Europe', \n",
    "                  'South Korea':'Asia', \n",
    "                  'Italy':'Europe', \n",
    "                  'Spain':'Europe', \n",
    "                  'Iran':'Asia',\n",
    "                  'Australia':'Australia', \n",
    "                  'Brazil':'South America'}\n",
    "```\n",
    "\n",
    "*This function should return a DataFrame with index named Continent `['Asia', 'Australia', 'Europe', 'North America', 'South America']` and columns `['size', 'sum', 'mean', 'std']`*"
   ]
  },
  {
   "cell_type": "markdown",
   "metadata": {
    "deletable": false,
    "editable": false,
    "nbgrader": {
     "checksum": "78d9dbb8ff6e0a1ac1e0d16e026a7d98",
     "grade": false,
     "grade_id": "cell-fa26f5c1eac39c6c",
     "locked": true,
     "schema_version": 1,
     "solution": false
    }
   },
   "source": [
    "### Question 12\n",
    "Cut % Renewable into 5 bins. Group Top15 by the Continent, as well as these new % Renewable bins. How many countries are in each of these groups?\n",
    "\n",
    "*This function should return a Series with a MultiIndex of `Continent`, then the bins for `% Renewable`. Do not include groups with no countries.*"
   ]
  },
  {
   "cell_type": "markdown",
   "metadata": {
    "deletable": false,
    "editable": false,
    "nbgrader": {
     "checksum": "bdfd9b1bb897304b6337fdc47a05967c",
     "grade": false,
     "grade_id": "cell-4209a10d8f208739",
     "locked": true,
     "schema_version": 1,
     "solution": false
    }
   },
   "source": [
    "### Question 13\n",
    "Convert the Population Estimate series to a string with thousands separator (using commas). Use all significant digits (do not round the results).\n",
    "\n",
    "e.g. 12345678.90 -> 12,345,678.90\n",
    "\n",
    "*This function should return a series `PopEst` whose index is the country name and whose values are the population estimate string*"
   ]
  }
 ],
 "metadata": {
  "anaconda-cloud": {},
  "coursera": {
   "schema_names": [
    "mooc_adswpy_1_v2_assignment3"
   ]
  },
  "kernelspec": {
   "display_name": "Python 3",
   "language": "python",
   "name": "python3"
  },
  "language_info": {
   "codemirror_mode": {
    "name": "ipython",
    "version": 3
   },
   "file_extension": ".py",
   "mimetype": "text/x-python",
   "name": "python",
   "nbconvert_exporter": "python",
   "pygments_lexer": "ipython3",
   "version": "3.11.3"
  }
 },
 "nbformat": 4,
 "nbformat_minor": 4
}
