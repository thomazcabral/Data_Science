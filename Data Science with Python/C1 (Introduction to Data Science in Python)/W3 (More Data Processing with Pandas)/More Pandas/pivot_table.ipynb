{
 "cells": [
  {
   "cell_type": "code",
   "execution_count": 1,
   "metadata": {},
   "outputs": [],
   "source": [
    "import pandas as pd\n",
    "import numpy as np"
   ]
  },
  {
   "cell_type": "code",
   "execution_count": 2,
   "metadata": {},
   "outputs": [
    {
     "name": "stdout",
     "output_type": "stream",
     "text": [
      "   world_rank                            institution         country  \\\n",
      "0           1                     Harvard University             USA   \n",
      "1           2  Massachusetts Institute of Technology             USA   \n",
      "2           3                    Stanford University             USA   \n",
      "3           4                University of Cambridge  United Kingdom   \n",
      "4           5     California Institute of Technology             USA   \n",
      "\n",
      "   national_rank  quality_of_education  alumni_employment  quality_of_faculty  \\\n",
      "0              1                     7                  9                   1   \n",
      "1              2                     9                 17                   3   \n",
      "2              3                    17                 11                   5   \n",
      "3              1                    10                 24                   4   \n",
      "4              4                     2                 29                   7   \n",
      "\n",
      "   publications  influence  citations  broad_impact  patents   score  year  \n",
      "0             1          1          1           NaN        5  100.00  2012  \n",
      "1            12          4          4           NaN        1   91.67  2012  \n",
      "2             4          2          2           NaN       15   89.50  2012  \n",
      "3            16         16         11           NaN       50   86.17  2012  \n",
      "4            37         22         22           NaN       18   85.21  2012  \n"
     ]
    }
   ],
   "source": [
    "df = pd.read_csv(\"cwurData.csv\")\n",
    "print(df.head())"
   ]
  },
  {
   "cell_type": "code",
   "execution_count": 5,
   "metadata": {},
   "outputs": [
    {
     "name": "stdout",
     "output_type": "stream",
     "text": [
      "   world_rank                            institution         country  \\\n",
      "0           1                     Harvard University             USA   \n",
      "1           2  Massachusetts Institute of Technology             USA   \n",
      "2           3                    Stanford University             USA   \n",
      "3           4                University of Cambridge  United Kingdom   \n",
      "4           5     California Institute of Technology             USA   \n",
      "\n",
      "   national_rank  quality_of_education  alumni_employment  quality_of_faculty  \\\n",
      "0              1                     7                  9                   1   \n",
      "1              2                     9                 17                   3   \n",
      "2              3                    17                 11                   5   \n",
      "3              1                    10                 24                   4   \n",
      "4              4                     2                 29                   7   \n",
      "\n",
      "   publications  influence  citations  broad_impact  patents   score  year  \\\n",
      "0             1          1          1           NaN        5  100.00  2012   \n",
      "1            12          4          4           NaN        1   91.67  2012   \n",
      "2             4          2          2           NaN       15   89.50  2012   \n",
      "3            16         16         11           NaN       50   86.17  2012   \n",
      "4            37         22         22           NaN       18   85.21  2012   \n",
      "\n",
      "                  Rank_level  \n",
      "0  First Tier Top University  \n",
      "1  First Tier Top University  \n",
      "2  First Tier Top University  \n",
      "3  First Tier Top University  \n",
      "4  First Tier Top University  \n"
     ]
    }
   ],
   "source": [
    "def category(ranking):\n",
    "    if 1 <= ranking <= 100:\n",
    "        return \"First Tier Top University\"\n",
    "    if 101 <= ranking <= 200:\n",
    "        return \"Second Tier Top University\"\n",
    "    if 201 <= ranking <= 300:\n",
    "        return \"Third Tier Top University\"\n",
    "    return \"Other Top University\"\n",
    "\n",
    "df[\"Rank_level\"] = df[\"world_rank\"].apply(lambda x: category(x))\n",
    "print(df.head())"
   ]
  },
  {
   "cell_type": "code",
   "execution_count": 6,
   "metadata": {},
   "outputs": [
    {
     "name": "stdout",
     "output_type": "stream",
     "text": [
      "                                mean                       \\\n",
      "Rank_level First Tier Top University Other Top University   \n",
      "country                                                     \n",
      "Argentina                        NaN            44.672857   \n",
      "Australia                    47.9425            44.645750   \n",
      "Austria                          NaN            44.864286   \n",
      "Belgium                      51.8750            45.081000   \n",
      "Brazil                           NaN            44.499706   \n",
      "\n",
      "                                                                 \n",
      "Rank_level Second Tier Top University Third Tier Top University  \n",
      "country                                                          \n",
      "Argentina                         NaN                       NaN  \n",
      "Australia                     49.2425                 47.285000  \n",
      "Austria                           NaN                 47.066667  \n",
      "Belgium                       49.0840                 46.746667  \n",
      "Brazil                        49.5650                       NaN  \n"
     ]
    },
    {
     "name": "stderr",
     "output_type": "stream",
     "text": [
      "C:\\Users\\thoma\\AppData\\Local\\Temp\\ipykernel_21144\\619395703.py:1: FutureWarning: The provided callable <function mean at 0x000001F3EFDB1B20> is currently using DataFrameGroupBy.mean. In a future version of pandas, the provided callable will be used directly. To keep current behavior pass the string \"mean\" instead.\n",
      "  print(df.pivot_table(values=\"score\", index=\"country\", columns=\"Rank_level\", aggfunc=[np.mean]).head())\n"
     ]
    }
   ],
   "source": [
    "print(df.pivot_table(values=\"score\", index=\"country\", columns=\"Rank_level\", aggfunc=[np.mean]).head())\n",
    "# pivot table used to compare some values inside a column\n",
    "# values is the row to be analized\n",
    "# columns will take the column name in which we will delve deeper into its categories\n",
    "# aggfunc is the aggregation function which we will use with the values"
   ]
  },
  {
   "cell_type": "code",
   "execution_count": 7,
   "metadata": {},
   "outputs": [
    {
     "name": "stdout",
     "output_type": "stream",
     "text": [
      "                                mean                       \\\n",
      "Rank_level First Tier Top University Other Top University   \n",
      "country                                                     \n",
      "Argentina                        NaN            44.672857   \n",
      "Australia                    47.9425            44.645750   \n",
      "Austria                          NaN            44.864286   \n",
      "Belgium                      51.8750            45.081000   \n",
      "Brazil                           NaN            44.499706   \n",
      "\n",
      "                                                                 \\\n",
      "Rank_level Second Tier Top University Third Tier Top University   \n",
      "country                                                           \n",
      "Argentina                         NaN                       NaN   \n",
      "Australia                     49.2425                 47.285000   \n",
      "Austria                           NaN                 47.066667   \n",
      "Belgium                       49.0840                 46.746667   \n",
      "Brazil                        49.5650                       NaN   \n",
      "\n",
      "                                 max                       \\\n",
      "Rank_level First Tier Top University Other Top University   \n",
      "country                                                     \n",
      "Argentina                        NaN                45.66   \n",
      "Australia                      51.61                45.97   \n",
      "Austria                          NaN                46.29   \n",
      "Belgium                        52.03                46.21   \n",
      "Brazil                           NaN                46.08   \n",
      "\n",
      "                                                                 \n",
      "Rank_level Second Tier Top University Third Tier Top University  \n",
      "country                                                          \n",
      "Argentina                         NaN                       NaN  \n",
      "Australia                       50.40                     47.47  \n",
      "Austria                           NaN                     47.78  \n",
      "Belgium                         49.73                     47.14  \n",
      "Brazil                          49.82                       NaN  \n"
     ]
    },
    {
     "name": "stderr",
     "output_type": "stream",
     "text": [
      "C:\\Users\\thoma\\AppData\\Local\\Temp\\ipykernel_21144\\2482982390.py:1: FutureWarning: The provided callable <function mean at 0x000001F3EFDB1B20> is currently using DataFrameGroupBy.mean. In a future version of pandas, the provided callable will be used directly. To keep current behavior pass the string \"mean\" instead.\n",
      "  print(df.pivot_table(values=\"score\", index=\"country\", columns=\"Rank_level\", aggfunc=[np.mean, np.max]).head())\n",
      "C:\\Users\\thoma\\AppData\\Local\\Temp\\ipykernel_21144\\2482982390.py:1: FutureWarning: The provided callable <function max at 0x000001F3EFDB1120> is currently using DataFrameGroupBy.max. In a future version of pandas, the provided callable will be used directly. To keep current behavior pass the string \"max\" instead.\n",
      "  print(df.pivot_table(values=\"score\", index=\"country\", columns=\"Rank_level\", aggfunc=[np.mean, np.max]).head())\n"
     ]
    }
   ],
   "source": [
    "print(df.pivot_table(values=\"score\", index=\"country\", columns=\"Rank_level\", aggfunc=[np.mean, np.max]).head())\n",
    "# we can pass more than 1 aggfunc"
   ]
  },
  {
   "cell_type": "code",
   "execution_count": 8,
   "metadata": {},
   "outputs": [
    {
     "name": "stdout",
     "output_type": "stream",
     "text": [
      "                                mean                       \\\n",
      "Rank_level First Tier Top University Other Top University   \n",
      "country                                                     \n",
      "Argentina                        NaN            44.672857   \n",
      "Australia                    47.9425            44.645750   \n",
      "Austria                          NaN            44.864286   \n",
      "Belgium                      51.8750            45.081000   \n",
      "Brazil                           NaN            44.499706   \n",
      "\n",
      "                                                                            \\\n",
      "Rank_level Second Tier Top University Third Tier Top University        All   \n",
      "country                                                                      \n",
      "Argentina                         NaN                       NaN  44.672857   \n",
      "Australia                     49.2425                 47.285000  45.825517   \n",
      "Austria                           NaN                 47.066667  45.139583   \n",
      "Belgium                       49.0840                 46.746667  47.011000   \n",
      "Brazil                        49.5650                       NaN  44.781111   \n",
      "\n",
      "                                 max                       \\\n",
      "Rank_level First Tier Top University Other Top University   \n",
      "country                                                     \n",
      "Argentina                        NaN                45.66   \n",
      "Australia                      51.61                45.97   \n",
      "Austria                          NaN                46.29   \n",
      "Belgium                        52.03                46.21   \n",
      "Brazil                           NaN                46.08   \n",
      "\n",
      "                                                                        \n",
      "Rank_level Second Tier Top University Third Tier Top University    All  \n",
      "country                                                                 \n",
      "Argentina                         NaN                       NaN  45.66  \n",
      "Australia                       50.40                     47.47  51.61  \n",
      "Austria                           NaN                     47.78  47.78  \n",
      "Belgium                         49.73                     47.14  52.03  \n",
      "Brazil                          49.82                       NaN  49.82  \n"
     ]
    },
    {
     "name": "stderr",
     "output_type": "stream",
     "text": [
      "C:\\Users\\thoma\\AppData\\Local\\Temp\\ipykernel_21144\\640591357.py:1: FutureWarning: The provided callable <function mean at 0x000001F3EFDB1B20> is currently using DataFrameGroupBy.mean. In a future version of pandas, the provided callable will be used directly. To keep current behavior pass the string \"mean\" instead.\n",
      "  print(df.pivot_table(values=\"score\", index=\"country\", columns=\"Rank_level\", aggfunc=[np.mean, np.max], margins=True).head())\n",
      "C:\\Users\\thoma\\AppData\\Local\\Temp\\ipykernel_21144\\640591357.py:1: FutureWarning: The provided callable <function mean at 0x000001F3EFDB1B20> is currently using DataFrameGroupBy.mean. In a future version of pandas, the provided callable will be used directly. To keep current behavior pass the string \"mean\" instead.\n",
      "  print(df.pivot_table(values=\"score\", index=\"country\", columns=\"Rank_level\", aggfunc=[np.mean, np.max], margins=True).head())\n",
      "C:\\Users\\thoma\\AppData\\Local\\Temp\\ipykernel_21144\\640591357.py:1: FutureWarning: The provided callable <function mean at 0x000001F3EFDB1B20> is currently using DataFrameGroupBy.mean. In a future version of pandas, the provided callable will be used directly. To keep current behavior pass the string \"mean\" instead.\n",
      "  print(df.pivot_table(values=\"score\", index=\"country\", columns=\"Rank_level\", aggfunc=[np.mean, np.max], margins=True).head())\n",
      "C:\\Users\\thoma\\AppData\\Local\\Temp\\ipykernel_21144\\640591357.py:1: FutureWarning: The provided callable <function max at 0x000001F3EFDB1120> is currently using DataFrameGroupBy.max. In a future version of pandas, the provided callable will be used directly. To keep current behavior pass the string \"max\" instead.\n",
      "  print(df.pivot_table(values=\"score\", index=\"country\", columns=\"Rank_level\", aggfunc=[np.mean, np.max], margins=True).head())\n",
      "C:\\Users\\thoma\\AppData\\Local\\Temp\\ipykernel_21144\\640591357.py:1: FutureWarning: The provided callable <function max at 0x000001F3EFDB1120> is currently using DataFrameGroupBy.max. In a future version of pandas, the provided callable will be used directly. To keep current behavior pass the string \"max\" instead.\n",
      "  print(df.pivot_table(values=\"score\", index=\"country\", columns=\"Rank_level\", aggfunc=[np.mean, np.max], margins=True).head())\n",
      "C:\\Users\\thoma\\AppData\\Local\\Temp\\ipykernel_21144\\640591357.py:1: FutureWarning: The provided callable <function max at 0x000001F3EFDB1120> is currently using DataFrameGroupBy.max. In a future version of pandas, the provided callable will be used directly. To keep current behavior pass the string \"max\" instead.\n",
      "  print(df.pivot_table(values=\"score\", index=\"country\", columns=\"Rank_level\", aggfunc=[np.mean, np.max], margins=True).head())\n"
     ]
    }
   ],
   "source": [
    "print(df.pivot_table(values=\"score\", index=\"country\", columns=\"Rank_level\", aggfunc=[np.mean, np.max], margins=True).head())\n",
    "# now it does the whole average with the margins parameter"
   ]
  },
  {
   "cell_type": "code",
   "execution_count": 20,
   "metadata": {},
   "outputs": [
    {
     "name": "stdout",
     "output_type": "stream",
     "text": [
      "Index(['Argentina', 'Australia', 'Austria', 'Belgium', 'Brazil', 'Bulgaria',\n",
      "       'Canada', 'Chile', 'China', 'Colombia', 'Croatia', 'Cyprus',\n",
      "       'Czech Republic', 'Denmark', 'Egypt', 'Estonia', 'Finland', 'France',\n",
      "       'Germany', 'Greece', 'Hong Kong', 'Hungary', 'Iceland', 'India', 'Iran',\n",
      "       'Ireland', 'Israel', 'Italy', 'Japan', 'Lebanon', 'Lithuania',\n",
      "       'Malaysia', 'Mexico', 'Netherlands', 'New Zealand', 'Norway', 'Poland',\n",
      "       'Portugal', 'Puerto Rico', 'Romania', 'Russia', 'Saudi Arabia',\n",
      "       'Serbia', 'Singapore', 'Slovak Republic', 'Slovenia', 'South Africa',\n",
      "       'South Korea', 'Spain', 'Sweden', 'Switzerland', 'Taiwan', 'Thailand',\n",
      "       'Turkey', 'USA', 'Uganda', 'United Arab Emirates', 'United Kingdom',\n",
      "       'Uruguay', 'All'],\n",
      "      dtype='object', name='country')\n",
      "\n",
      "\n",
      "MultiIndex([('mean',  'First Tier Top University'),\n",
      "            ('mean',       'Other Top University'),\n",
      "            ('mean', 'Second Tier Top University'),\n",
      "            ('mean',  'Third Tier Top University'),\n",
      "            ('mean',                        'All'),\n",
      "            ( 'max',  'First Tier Top University'),\n",
      "            ( 'max',       'Other Top University'),\n",
      "            ( 'max', 'Second Tier Top University'),\n",
      "            ( 'max',  'Third Tier Top University'),\n",
      "            ( 'max',                        'All')],\n",
      "           names=[None, 'Rank_level'])\n"
     ]
    },
    {
     "name": "stderr",
     "output_type": "stream",
     "text": [
      "C:\\Users\\thoma\\AppData\\Local\\Temp\\ipykernel_21144\\1997170964.py:1: FutureWarning: The provided callable <function mean at 0x000001F3EFDB1B20> is currently using DataFrameGroupBy.mean. In a future version of pandas, the provided callable will be used directly. To keep current behavior pass the string \"mean\" instead.\n",
      "  new_df = df.pivot_table(values=\"score\", index=\"country\", columns=\"Rank_level\", aggfunc=[np.mean, np.max], margins=True)\n",
      "C:\\Users\\thoma\\AppData\\Local\\Temp\\ipykernel_21144\\1997170964.py:1: FutureWarning: The provided callable <function mean at 0x000001F3EFDB1B20> is currently using DataFrameGroupBy.mean. In a future version of pandas, the provided callable will be used directly. To keep current behavior pass the string \"mean\" instead.\n",
      "  new_df = df.pivot_table(values=\"score\", index=\"country\", columns=\"Rank_level\", aggfunc=[np.mean, np.max], margins=True)\n",
      "C:\\Users\\thoma\\AppData\\Local\\Temp\\ipykernel_21144\\1997170964.py:1: FutureWarning: The provided callable <function mean at 0x000001F3EFDB1B20> is currently using DataFrameGroupBy.mean. In a future version of pandas, the provided callable will be used directly. To keep current behavior pass the string \"mean\" instead.\n",
      "  new_df = df.pivot_table(values=\"score\", index=\"country\", columns=\"Rank_level\", aggfunc=[np.mean, np.max], margins=True)\n",
      "C:\\Users\\thoma\\AppData\\Local\\Temp\\ipykernel_21144\\1997170964.py:1: FutureWarning: The provided callable <function max at 0x000001F3EFDB1120> is currently using DataFrameGroupBy.max. In a future version of pandas, the provided callable will be used directly. To keep current behavior pass the string \"max\" instead.\n",
      "  new_df = df.pivot_table(values=\"score\", index=\"country\", columns=\"Rank_level\", aggfunc=[np.mean, np.max], margins=True)\n",
      "C:\\Users\\thoma\\AppData\\Local\\Temp\\ipykernel_21144\\1997170964.py:1: FutureWarning: The provided callable <function max at 0x000001F3EFDB1120> is currently using DataFrameGroupBy.max. In a future version of pandas, the provided callable will be used directly. To keep current behavior pass the string \"max\" instead.\n",
      "  new_df = df.pivot_table(values=\"score\", index=\"country\", columns=\"Rank_level\", aggfunc=[np.mean, np.max], margins=True)\n",
      "C:\\Users\\thoma\\AppData\\Local\\Temp\\ipykernel_21144\\1997170964.py:1: FutureWarning: The provided callable <function max at 0x000001F3EFDB1120> is currently using DataFrameGroupBy.max. In a future version of pandas, the provided callable will be used directly. To keep current behavior pass the string \"max\" instead.\n",
      "  new_df = df.pivot_table(values=\"score\", index=\"country\", columns=\"Rank_level\", aggfunc=[np.mean, np.max], margins=True)\n"
     ]
    }
   ],
   "source": [
    "new_df = df.pivot_table(values=\"score\", index=\"country\", columns=\"Rank_level\", aggfunc=[np.mean, np.max], margins=True)\n",
    "print(new_df.index)\n",
    "print(\"\\n\")\n",
    "print(new_df.columns)"
   ]
  },
  {
   "cell_type": "code",
   "execution_count": 21,
   "metadata": {},
   "outputs": [
    {
     "name": "stdout",
     "output_type": "stream",
     "text": [
      "country\n",
      "Argentina        NaN\n",
      "Australia    47.9425\n",
      "Austria          NaN\n",
      "Belgium      51.8750\n",
      "Brazil           NaN\n",
      "Name: First Tier Top University, dtype: float64\n"
     ]
    }
   ],
   "source": [
    "print(new_df[\"mean\"][\"First Tier Top University\"].head())\n",
    "# it is a series"
   ]
  },
  {
   "cell_type": "code",
   "execution_count": 22,
   "metadata": {},
   "outputs": [
    {
     "name": "stdout",
     "output_type": "stream",
     "text": [
      "United Kingdom\n"
     ]
    }
   ],
   "source": [
    "print(new_df[\"mean\"][\"First Tier Top University\"].idxmax())\n",
    "# country that has the maximum average scire on first tier top"
   ]
  },
  {
   "cell_type": "code",
   "execution_count": 23,
   "metadata": {},
   "outputs": [
    {
     "name": "stdout",
     "output_type": "stream",
     "text": [
      "                                mean                       \\\n",
      "Rank_level First Tier Top University Other Top University   \n",
      "country                                                     \n",
      "Argentina                        NaN            44.672857   \n",
      "Australia                    47.9425            44.645750   \n",
      "Austria                          NaN            44.864286   \n",
      "Belgium                      51.8750            45.081000   \n",
      "Brazil                           NaN            44.499706   \n",
      "\n",
      "                                                                            \\\n",
      "Rank_level Second Tier Top University Third Tier Top University        All   \n",
      "country                                                                      \n",
      "Argentina                         NaN                       NaN  44.672857   \n",
      "Australia                     49.2425                 47.285000  45.825517   \n",
      "Austria                           NaN                 47.066667  45.139583   \n",
      "Belgium                       49.0840                 46.746667  47.011000   \n",
      "Brazil                        49.5650                       NaN  44.781111   \n",
      "\n",
      "                                 max                       \\\n",
      "Rank_level First Tier Top University Other Top University   \n",
      "country                                                     \n",
      "Argentina                        NaN                45.66   \n",
      "Australia                      51.61                45.97   \n",
      "Austria                          NaN                46.29   \n",
      "Belgium                        52.03                46.21   \n",
      "Brazil                           NaN                46.08   \n",
      "\n",
      "                                                                        \n",
      "Rank_level Second Tier Top University Third Tier Top University    All  \n",
      "country                                                                 \n",
      "Argentina                         NaN                       NaN  45.66  \n",
      "Australia                       50.40                     47.47  51.61  \n",
      "Austria                           NaN                     47.78  47.78  \n",
      "Belgium                         49.73                     47.14  52.03  \n",
      "Brazil                          49.82                       NaN  49.82  \n"
     ]
    }
   ],
   "source": [
    "print(new_df.head())"
   ]
  },
  {
   "cell_type": "code",
   "execution_count": 24,
   "metadata": {},
   "outputs": [
    {
     "name": "stdout",
     "output_type": "stream",
     "text": [
      "                                           mean    max\n",
      "country   Rank_level                                  \n",
      "Argentina Other Top University        44.672857  45.66\n",
      "          All                         44.672857  45.66\n",
      "Australia First Tier Top University   47.942500  51.61\n",
      "          Other Top University        44.645750  45.97\n",
      "          Second Tier Top University  49.242500  50.40\n"
     ]
    }
   ],
   "source": [
    "new_df = new_df.stack()\n",
    "print(new_df.head())\n",
    "# with the stack function, the rank level is now in the rows since they were the lowermost column"
   ]
  },
  {
   "cell_type": "code",
   "execution_count": 25,
   "metadata": {},
   "outputs": [
    {
     "name": "stdout",
     "output_type": "stream",
     "text": [
      "                                mean                       \\\n",
      "Rank_level First Tier Top University Other Top University   \n",
      "country                                                     \n",
      "All                        58.350675            44.738871   \n",
      "Argentina                        NaN            44.672857   \n",
      "Australia                  47.942500            44.645750   \n",
      "Austria                          NaN            44.864286   \n",
      "Belgium                    51.875000            45.081000   \n",
      "\n",
      "                                                                            \\\n",
      "Rank_level Second Tier Top University Third Tier Top University        All   \n",
      "country                                                                      \n",
      "All                          49.06545                 46.843450  47.798395   \n",
      "Argentina                         NaN                       NaN  44.672857   \n",
      "Australia                    49.24250                 47.285000  45.825517   \n",
      "Austria                           NaN                 47.066667  45.139583   \n",
      "Belgium                      49.08400                 46.746667  47.011000   \n",
      "\n",
      "                                 max                       \\\n",
      "Rank_level First Tier Top University Other Top University   \n",
      "country                                                     \n",
      "All                           100.00                46.34   \n",
      "Argentina                        NaN                45.66   \n",
      "Australia                      51.61                45.97   \n",
      "Austria                          NaN                46.29   \n",
      "Belgium                        52.03                46.21   \n",
      "\n",
      "                                                                         \n",
      "Rank_level Second Tier Top University Third Tier Top University     All  \n",
      "country                                                                  \n",
      "All                             51.29                     47.93  100.00  \n",
      "Argentina                         NaN                       NaN   45.66  \n",
      "Australia                       50.40                     47.47   51.61  \n",
      "Austria                           NaN                     47.78   47.78  \n",
      "Belgium                         49.73                     47.14   52.03  \n"
     ]
    }
   ],
   "source": [
    "print(new_df.unstack().head())\n",
    "# does the opposite of .stack()"
   ]
  },
  {
   "cell_type": "code",
   "execution_count": 26,
   "metadata": {},
   "outputs": [
    {
     "data": {
      "text/plain": [
       "      Rank_level                 country  \n",
       "mean  First Tier Top University  All          58.350675\n",
       "                                 Argentina          NaN\n",
       "                                 Australia    47.942500\n",
       "                                 Austria            NaN\n",
       "                                 Belgium      51.875000\n",
       "dtype: float64"
      ]
     },
     "execution_count": 26,
     "metadata": {},
     "output_type": "execute_result"
    }
   ],
   "source": [
    "print(new_df.unstack().unstack().head()) # the rows become columns"
   ]
  }
 ],
 "metadata": {
  "kernelspec": {
   "display_name": "Python 3",
   "language": "python",
   "name": "python3"
  },
  "language_info": {
   "codemirror_mode": {
    "name": "ipython",
    "version": 3
   },
   "file_extension": ".py",
   "mimetype": "text/x-python",
   "name": "python",
   "nbconvert_exporter": "python",
   "pygments_lexer": "ipython3",
   "version": "3.11.3"
  }
 },
 "nbformat": 4,
 "nbformat_minor": 2
}
