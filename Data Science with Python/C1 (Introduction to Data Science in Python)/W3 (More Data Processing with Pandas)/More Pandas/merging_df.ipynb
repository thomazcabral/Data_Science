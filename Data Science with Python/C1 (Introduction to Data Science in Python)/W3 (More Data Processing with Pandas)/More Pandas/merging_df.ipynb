{
 "cells": [
  {
   "cell_type": "code",
   "execution_count": 1,
   "metadata": {},
   "outputs": [],
   "source": [
    "import pandas as pd"
   ]
  },
  {
   "cell_type": "code",
   "execution_count": 3,
   "metadata": {},
   "outputs": [
    {
     "name": "stdout",
     "output_type": "stream",
     "text": [
      "                 Role\n",
      "Name                 \n",
      "Kelly  Director of HR\n",
      "Sally  Course liasion\n",
      "James          Grader\n",
      "\n",
      "\n",
      "            School\n",
      "Name              \n",
      "James     Business\n",
      "Mike           Law\n",
      "Sally  Engineering\n"
     ]
    }
   ],
   "source": [
    "staff_df = pd.DataFrame([{\"Name\": \"Kelly\", \"Role\": \"Director of HR\"}, \n",
    "                        {\"Name\": \"Sally\", \"Role\": \"Course liasion\"},\n",
    "                        {\"Name\": \"James\", \"Role\": \"Grader\"}])\n",
    "staff_df.set_index(\"Name\", inplace=True)\n",
    "\n",
    "student_df = pd.DataFrame([{\"Name\": \"James\", \"School\": \"Business\"},\n",
    "                        {\"Name\": \"Mike\", \"School\": \"Law\"},\n",
    "                        {\"Name\": \"Sally\", \"School\": \"Engineering\"}])\n",
    "student_df.set_index(\"Name\", inplace=True)\n",
    "\n",
    "print(staff_df)\n",
    "print(\"\\n\")\n",
    "print(student_df)"
   ]
  },
  {
   "cell_type": "code",
   "execution_count": 7,
   "metadata": {},
   "outputs": [
    {
     "name": "stdout",
     "output_type": "stream",
     "text": [
      "                 Role       School\n",
      "Name                              \n",
      "James          Grader     Business\n",
      "Kelly  Director of HR          NaN\n",
      "Mike              NaN          Law\n",
      "Sally  Course liasion  Engineering\n"
     ]
    }
   ],
   "source": [
    "print(pd.merge(staff_df, student_df, how=\"outer\", left_index=True, right_index=True))\n",
    "# staff is left and student is right\n",
    "# outer to consider all people\n",
    "# left and right index = True to consider all columns"
   ]
  },
  {
   "cell_type": "code",
   "execution_count": 8,
   "metadata": {},
   "outputs": [
    {
     "name": "stdout",
     "output_type": "stream",
     "text": [
      "                 Role       School\n",
      "Name                              \n",
      "Sally  Course liasion  Engineering\n",
      "James          Grader     Business\n"
     ]
    }
   ],
   "source": [
    "print(pd.merge(staff_df, student_df, how=\"inner\", left_index=True, right_index=True))\n",
    "# inner to consider people in both dataframes"
   ]
  },
  {
   "cell_type": "code",
   "execution_count": 9,
   "metadata": {},
   "outputs": [
    {
     "name": "stdout",
     "output_type": "stream",
     "text": [
      "                 Role       School\n",
      "Name                              \n",
      "Kelly  Director of HR          NaN\n",
      "Sally  Course liasion  Engineering\n",
      "James          Grader     Business\n"
     ]
    }
   ],
   "source": [
    "print(pd.merge(staff_df, student_df, how=\"left\", left_index=True, right_index=True))\n",
    "# left join to consider all people who have a role"
   ]
  },
  {
   "cell_type": "code",
   "execution_count": 10,
   "metadata": {},
   "outputs": [
    {
     "name": "stdout",
     "output_type": "stream",
     "text": [
      "                 Role       School\n",
      "Name                              \n",
      "James          Grader     Business\n",
      "Mike              NaN          Law\n",
      "Sally  Course liasion  Engineering\n"
     ]
    }
   ],
   "source": [
    "print(pd.merge(staff_df, student_df, how=\"right\", left_index=True, right_index=True))\n",
    "# right join to consider all people who have a school"
   ]
  },
  {
   "cell_type": "code",
   "execution_count": 11,
   "metadata": {},
   "outputs": [
    {
     "name": "stdout",
     "output_type": "stream",
     "text": [
      "    Name            Role       School\n",
      "0  James          Grader     Business\n",
      "1   Mike             NaN          Law\n",
      "2  Sally  Course liasion  Engineering\n"
     ]
    }
   ],
   "source": [
    "staff_df.reset_index(inplace=True)\n",
    "student_df.reset_index(inplace=True)\n",
    "\n",
    "print(pd.merge(staff_df, student_df, how=\"right\", on=\"Name\"))\n",
    "# we use on when we want to merge based in a column which is not the index"
   ]
  },
  {
   "cell_type": "code",
   "execution_count": 12,
   "metadata": {},
   "outputs": [
    {
     "name": "stdout",
     "output_type": "stream",
     "text": [
      "    Name            Role         Location_x       School            Location_y\n",
      "0  Kelly  Director of HR       State Street          NaN                   NaN\n",
      "1  Sally  Course liasion  Washington Avenue  Engineering   512 Wilson Crescent\n",
      "2  James          Grader  Washington Avenue     Business  1024 Billiard Avenue\n"
     ]
    }
   ],
   "source": [
    "staff_df = pd.DataFrame([{\"Name\": \"Kelly\", \"Role\": \"Director of HR\", \"Location\": \"State Street\"},\n",
    "                        {\"Name\": \"Sally\", \"Role\": \"Course liasion\", \"Location\": \"Washington Avenue\"},\n",
    "                        {\"Name\": \"James\", \"Role\": \"Grader\", \"Location\": \"Washington Avenue\"}])\n",
    "\n",
    "student_df = pd.DataFrame([{\"Name\": \"James\", \"School\": \"Business\", \"Location\": \"1024 Billiard Avenue\"},\n",
    "                        {\"Name\": \"Mike\", \"School\": \"Law\", \"Location\": \"Fraternity House #22\"},\n",
    "                        {\"Name\": \"Sally\", \"School\": \"Engineering\", \"Location\": \"512 Wilson Crescent\"}])\n",
    "\n",
    "print(pd.merge(staff_df, student_df, how=\"left\", on=\"Name\"))"
   ]
  },
  {
   "cell_type": "code",
   "execution_count": 22,
   "metadata": {},
   "outputs": [
    {
     "name": "stdout",
     "output_type": "stream",
     "text": [
      "  First Name Last Name            Role       School\n",
      "0      Sally    Brooks  Course liasion  Engineering\n"
     ]
    }
   ],
   "source": [
    "staff_df = pd.DataFrame([{'First Name': 'Kelly', 'Last Name': 'Desjardins', \n",
    "                        'Role': 'Director of HR'},\n",
    "                        {'First Name': 'Sally', 'Last Name': 'Brooks', \n",
    "                        'Role': 'Course liasion'},\n",
    "                        {'First Name': 'James', 'Last Name': 'Wilde', \n",
    "                        'Role': 'Grader'}])\n",
    "\n",
    "student_df = pd.DataFrame([{'First Name': 'James', 'Last Name': 'Hammond', \n",
    "                            'School': 'Business'},\n",
    "                            {'First Name': 'Mike', 'Last Name': 'Smith', \n",
    "                            'School': 'Law'},\n",
    "                            {'First Name': 'Sally', 'Last Name': 'Brooks', \n",
    "                            'School': 'Engineering'}])\n",
    "\n",
    "print(pd.merge(staff_df, student_df, how=\"inner\", on=[\"First Name\", \"Last Name\"]))\n",
    "# if I were to put on=\"First Name\", both James would appear even though they are not the same person"
   ]
  },
  {
   "cell_type": "code",
   "execution_count": 23,
   "metadata": {},
   "outputs": [
    {
     "name": "stdout",
     "output_type": "stream",
     "text": [
      "       Name  Calories\n",
      "0     Apple        95\n",
      "1    Banana       105\n",
      "2    Orange        62\n",
      "3  Broccoli        31\n",
      "4    Carrot        52\n",
      "5   Spinach         7\n"
     ]
    }
   ],
   "source": [
    "fruits = pd.DataFrame([{\"Name\": \"Apple\", \"Calories\": 95},\n",
    "                    {\"Name\": \"Banana\", \"Calories\": 105},\n",
    "                    {\"Name\": \"Orange\", \"Calories\": 62}])\n",
    "\n",
    "vegetables = pd.DataFrame([{\"Name\": \"Broccoli\", \"Calories\": 31}, \n",
    "                        {\"Name\": \"Carrot\", \"Calories\": 52},\n",
    "                        {\"Name\": \"Spinach\", \"Calories\": 7}])\n",
    "\n",
    "df_merged = pd.concat([fruits, vegetables], ignore_index=True) # ignore index to create new indexes for each element\n",
    "print(df_merged)"
   ]
  }
 ],
 "metadata": {
  "kernelspec": {
   "display_name": "Python 3",
   "language": "python",
   "name": "python3"
  },
  "language_info": {
   "codemirror_mode": {
    "name": "ipython",
    "version": 3
   },
   "file_extension": ".py",
   "mimetype": "text/x-python",
   "name": "python",
   "nbconvert_exporter": "python",
   "pygments_lexer": "ipython3",
   "version": "3.11.3"
  }
 },
 "nbformat": 4,
 "nbformat_minor": 2
}
