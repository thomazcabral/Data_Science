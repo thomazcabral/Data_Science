{
 "cells": [
  {
   "cell_type": "code",
   "execution_count": 1,
   "metadata": {},
   "outputs": [],
   "source": [
    "import pandas as pd\n",
    "import numpy as np "
   ]
  },
  {
   "cell_type": "markdown",
   "metadata": {},
   "source": [
    "# Timestamp"
   ]
  },
  {
   "cell_type": "code",
   "execution_count": 3,
   "metadata": {},
   "outputs": [
    {
     "name": "stdout",
     "output_type": "stream",
     "text": [
      "2019-09-01 10:05:00\n"
     ]
    }
   ],
   "source": [
    "print(pd.Timestamp(\"9/1/2019 10:05 AM\"))"
   ]
  },
  {
   "cell_type": "code",
   "execution_count": 8,
   "metadata": {},
   "outputs": [
    {
     "name": "stdout",
     "output_type": "stream",
     "text": [
      "2019-12-20 00:00:00\n"
     ]
    }
   ],
   "source": [
    "print(pd.Timestamp(2019, 12, 20, 0, 0, 0))\n",
    "# year, month, date, hour, minute, second"
   ]
  },
  {
   "cell_type": "code",
   "execution_count": 5,
   "metadata": {},
   "outputs": [
    {
     "name": "stdout",
     "output_type": "stream",
     "text": [
      "5\n"
     ]
    }
   ],
   "source": [
    "print(pd.Timestamp(2019, 12, 20, 0, 0).isoweekday())\n",
    "# 1 represents monday and 7 represents sunday"
   ]
  },
  {
   "cell_type": "code",
   "execution_count": 9,
   "metadata": {},
   "outputs": [
    {
     "name": "stdout",
     "output_type": "stream",
     "text": [
      "23\n"
     ]
    }
   ],
   "source": [
    "print(pd.Timestamp(2019, 12, 20, 2, 23).minute)"
   ]
  },
  {
   "cell_type": "markdown",
   "metadata": {},
   "source": [
    "# Period"
   ]
  },
  {
   "cell_type": "code",
   "execution_count": 11,
   "metadata": {},
   "outputs": [
    {
     "data": {
      "text/plain": [
       "Period('2016-01', 'M')"
      ]
     },
     "execution_count": 11,
     "metadata": {},
     "output_type": "execute_result"
    }
   ],
   "source": [
    "pd.Period(\"1/2016\") # M for month"
   ]
  },
  {
   "cell_type": "code",
   "execution_count": 12,
   "metadata": {},
   "outputs": [
    {
     "data": {
      "text/plain": [
       "Period('2016-03-05', 'D')"
      ]
     },
     "execution_count": 12,
     "metadata": {},
     "output_type": "execute_result"
    }
   ],
   "source": [
    "pd.Period(\"3/5/2016\") # D for day"
   ]
  },
  {
   "cell_type": "code",
   "execution_count": 13,
   "metadata": {},
   "outputs": [
    {
     "data": {
      "text/plain": [
       "Period('2016-06', 'M')"
      ]
     },
     "execution_count": 13,
     "metadata": {},
     "output_type": "execute_result"
    }
   ],
   "source": [
    "pd.Period(\"1/2016\") + 5 # 5 months after january 2016"
   ]
  },
  {
   "cell_type": "code",
   "execution_count": 14,
   "metadata": {},
   "outputs": [
    {
     "data": {
      "text/plain": [
       "Period('2016-03-03', 'D')"
      ]
     },
     "execution_count": 14,
     "metadata": {},
     "output_type": "execute_result"
    }
   ],
   "source": [
    "pd.Period(\"3/5/2016\") - 2 # 2 days before this date"
   ]
  },
  {
   "cell_type": "markdown",
   "metadata": {},
   "source": [
    "# DatetimeIndex and PeriodIndex"
   ]
  },
  {
   "cell_type": "code",
   "execution_count": 15,
   "metadata": {},
   "outputs": [
    {
     "name": "stdout",
     "output_type": "stream",
     "text": [
      "2016-09-01    a\n",
      "2016-09-02    b\n",
      "2016-09-03    c\n",
      "dtype: object\n"
     ]
    }
   ],
   "source": [
    "t1 = pd.Series(list(\"abc\"), [pd.Timestamp(\"2016-09-01\"), pd.Timestamp(\"2016-09-02\"), pd.Timestamp(\"2016-09-03\")])\n",
    "print(t1)"
   ]
  },
  {
   "cell_type": "code",
   "execution_count": 16,
   "metadata": {},
   "outputs": [
    {
     "name": "stdout",
     "output_type": "stream",
     "text": [
      "<class 'pandas.core.indexes.datetimes.DatetimeIndex'>\n"
     ]
    }
   ],
   "source": [
    "print(type(t1.index)) #DatetimeIndex"
   ]
  },
  {
   "cell_type": "code",
   "execution_count": 17,
   "metadata": {},
   "outputs": [
    {
     "name": "stdout",
     "output_type": "stream",
     "text": [
      "2016-09-01    d\n",
      "2016-10-01    e\n",
      "2016-11-01    f\n",
      "dtype: object\n"
     ]
    }
   ],
   "source": [
    "t2 = pd.Series(list(\"def\"), [pd.Timestamp(\"2016-09\"), pd.Timestamp(\"2016-10\"), pd.Timestamp(\"2016-11\")])\n",
    "print(t2)"
   ]
  },
  {
   "cell_type": "code",
   "execution_count": 19,
   "metadata": {},
   "outputs": [
    {
     "name": "stdout",
     "output_type": "stream",
     "text": [
      "<class 'pandas.core.indexes.datetimes.DatetimeIndex'>\n"
     ]
    }
   ],
   "source": [
    "print(type(t2.index)) # also DatetimeIndex"
   ]
  },
  {
   "cell_type": "markdown",
   "metadata": {},
   "source": [
    "# Converting to Datetime"
   ]
  },
  {
   "cell_type": "code",
   "execution_count": 28,
   "metadata": {},
   "outputs": [
    {
     "name": "stdout",
     "output_type": "stream",
     "text": [
      "               a   b\n",
      "2 June 2013   93  20\n",
      "Aug 29, 2014  43  89\n",
      "2015-06-26    78  73\n",
      "7/12/16       45  51\n"
     ]
    }
   ],
   "source": [
    "d1 = [\"2 June 2013\", \"Aug 29, 2014\", \"2015-06-26\", \"7/12/16\"]\n",
    "\n",
    "ts3 = pd.DataFrame(np.random.randint(10, 100, (4,2)), index=d1, columns=list(\"ab\"))\n",
    "print(ts3)"
   ]
  },
  {
   "cell_type": "code",
   "execution_count": null,
   "metadata": {},
   "outputs": [],
   "source": [
    "ts3.index = pd.to_datetime(ts3.index)\n",
    "print(ts3)\n",
    "# dont know why isnt working"
   ]
  },
  {
   "cell_type": "code",
   "execution_count": 30,
   "metadata": {},
   "outputs": [
    {
     "name": "stdout",
     "output_type": "stream",
     "text": [
      "2012-07-04 00:00:00\n"
     ]
    }
   ],
   "source": [
    "print(pd.to_datetime(\"4.7.12\", dayfirst=True)) # day is the first number"
   ]
  },
  {
   "cell_type": "markdown",
   "metadata": {},
   "source": [
    "# Timedelta"
   ]
  },
  {
   "cell_type": "code",
   "execution_count": 31,
   "metadata": {},
   "outputs": [
    {
     "name": "stdout",
     "output_type": "stream",
     "text": [
      "2 days 00:00:00\n"
     ]
    }
   ],
   "source": [
    "print(pd.Timestamp(\"9/3/2016\") - pd.Timestamp(\"9/1/2016\"))"
   ]
  },
  {
   "cell_type": "code",
   "execution_count": 32,
   "metadata": {},
   "outputs": [
    {
     "name": "stdout",
     "output_type": "stream",
     "text": [
      "2016-09-14 11:10:00\n"
     ]
    }
   ],
   "source": [
    "print(pd.Timestamp(\"9/2/2016 8:10 AM\") + pd.Timedelta(\"12D 3H\"))"
   ]
  },
  {
   "cell_type": "markdown",
   "metadata": {},
   "source": [
    "# Offset"
   ]
  },
  {
   "cell_type": "code",
   "execution_count": 33,
   "metadata": {},
   "outputs": [
    {
     "name": "stdout",
     "output_type": "stream",
     "text": [
      "6\n"
     ]
    }
   ],
   "source": [
    "print(pd.Timestamp(\"9/4/2016\").weekday())"
   ]
  },
  {
   "cell_type": "code",
   "execution_count": 35,
   "metadata": {},
   "outputs": [
    {
     "name": "stdout",
     "output_type": "stream",
     "text": [
      "2016-09-11 00:00:00\n"
     ]
    }
   ],
   "source": [
    "print(pd.Timestamp(\"9/4/2016\") + pd.offsets.Week()) # adding a week"
   ]
  },
  {
   "cell_type": "code",
   "execution_count": 36,
   "metadata": {},
   "outputs": [
    {
     "name": "stdout",
     "output_type": "stream",
     "text": [
      "2016-09-30 00:00:00\n"
     ]
    }
   ],
   "source": [
    "print(pd.Timestamp(\"9/4/2016\") + pd.offsets.MonthEnd()) # adding the month end"
   ]
  },
  {
   "cell_type": "markdown",
   "metadata": {},
   "source": [
    "# Working with Dates in a DataFrame"
   ]
  },
  {
   "cell_type": "code",
   "execution_count": 37,
   "metadata": {},
   "outputs": [
    {
     "name": "stdout",
     "output_type": "stream",
     "text": [
      "DatetimeIndex(['2016-10-02', '2016-10-16', '2016-10-30', '2016-11-13',\n",
      "               '2016-11-27', '2016-12-11', '2016-12-25', '2017-01-08',\n",
      "               '2017-01-22'],\n",
      "              dtype='datetime64[ns]', freq='2W-SUN')\n"
     ]
    }
   ],
   "source": [
    "dates = pd.date_range(\"10-01-2016\", periods=9, freq=\"2W-SUN\")\n",
    "# starts at 10-01-2016, 9 dates, every 2 sundays\n",
    "print(dates)"
   ]
  },
  {
   "cell_type": "code",
   "execution_count": 38,
   "metadata": {},
   "outputs": [
    {
     "name": "stdout",
     "output_type": "stream",
     "text": [
      "DatetimeIndex(['2016-10-03', '2016-10-04', '2016-10-05', '2016-10-06',\n",
      "               '2016-10-07', '2016-10-10', '2016-10-11', '2016-10-12',\n",
      "               '2016-10-13'],\n",
      "              dtype='datetime64[ns]', freq='B')\n"
     ]
    }
   ],
   "source": [
    "print(pd.date_range(\"10-01-2016\", periods=9, freq='B'))\n",
    "# B for business days"
   ]
  },
  {
   "cell_type": "code",
   "execution_count": 39,
   "metadata": {},
   "outputs": [
    {
     "name": "stdout",
     "output_type": "stream",
     "text": [
      "DatetimeIndex(['2016-06-01', '2016-09-01', '2016-12-01', '2017-03-01',\n",
      "               '2017-06-01', '2017-09-01', '2017-12-01', '2018-03-01',\n",
      "               '2018-06-01'],\n",
      "              dtype='datetime64[ns]', freq='QS-JUN')\n"
     ]
    }
   ],
   "source": [
    "print(pd.date_range(\"04-01-2016\", periods=9, freq=\"QS-JUN\"))\n",
    "# QS-JUN to do it quarterly starting from june"
   ]
  },
  {
   "cell_type": "code",
   "execution_count": 40,
   "metadata": {},
   "outputs": [
    {
     "name": "stdout",
     "output_type": "stream",
     "text": [
      "            Count 1  Count 2\n",
      "2016-10-02      103      124\n",
      "2016-10-16      109      121\n",
      "2016-10-30      111      120\n",
      "2016-11-13      117      119\n",
      "2016-11-27      120      117\n",
      "2016-12-11      122      122\n",
      "2016-12-25      125      123\n",
      "2017-01-08      130      122\n",
      "2017-01-22      131      121\n"
     ]
    }
   ],
   "source": [
    "dates = pd.date_range(\"10-01-2016\", periods=9, freq=\"2W-SUN\")\n",
    "\n",
    "df = pd.DataFrame({\"Count 1\": 100 + np.random.randint(-5, 10, 9).cumsum(),\n",
    "                \"Count 2\": 120 + np.random.randint(-5, 10, 9)}, index=dates)\n",
    "\n",
    "print(df)"
   ]
  },
  {
   "cell_type": "code",
   "execution_count": 44,
   "metadata": {},
   "outputs": [
    {
     "name": "stdout",
     "output_type": "stream",
     "text": [
      "            Count 1  Count 2\n",
      "2016-10-02      NaN      NaN\n",
      "2016-10-16      6.0     -3.0\n",
      "2016-10-30      2.0     -1.0\n",
      "2016-11-13      6.0     -1.0\n",
      "2016-11-27      3.0     -2.0\n",
      "2016-12-11      2.0      5.0\n",
      "2016-12-25      3.0      1.0\n",
      "2017-01-08      5.0     -1.0\n",
      "2017-01-22      1.0     -1.0\n"
     ]
    }
   ],
   "source": [
    "print(df.diff()) # difference between each date's values"
   ]
  },
  {
   "cell_type": "code",
   "execution_count": 48,
   "metadata": {},
   "outputs": [
    {
     "name": "stdout",
     "output_type": "stream",
     "text": [
      "            Count 1  Count 2\n",
      "2016-12-11      122      122\n",
      "2016-12-25      125      123\n",
      "2017-01-08      130      122\n",
      "2017-01-22      131      121\n"
     ]
    }
   ],
   "source": [
    "print(df[\"2016-12\":]) # values from Dec 2016 onwards"
   ]
  }
 ],
 "metadata": {
  "kernelspec": {
   "display_name": "Python 3",
   "language": "python",
   "name": "python3"
  },
  "language_info": {
   "codemirror_mode": {
    "name": "ipython",
    "version": 3
   },
   "file_extension": ".py",
   "mimetype": "text/x-python",
   "name": "python",
   "nbconvert_exporter": "python",
   "pygments_lexer": "ipython3",
   "version": "3.11.3"
  }
 },
 "nbformat": 4,
 "nbformat_minor": 2
}
