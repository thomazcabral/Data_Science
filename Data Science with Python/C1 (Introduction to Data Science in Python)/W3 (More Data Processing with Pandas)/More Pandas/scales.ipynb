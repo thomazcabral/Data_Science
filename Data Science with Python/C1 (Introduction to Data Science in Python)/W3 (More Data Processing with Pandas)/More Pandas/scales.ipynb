{
 "cells": [
  {
   "cell_type": "code",
   "execution_count": 1,
   "metadata": {},
   "outputs": [],
   "source": [
    "import pandas as pd\n",
    "import numpy as np"
   ]
  },
  {
   "cell_type": "code",
   "execution_count": 2,
   "metadata": {},
   "outputs": [
    {
     "name": "stdout",
     "output_type": "stream",
     "text": [
      "          Grades\n",
      "excellent     A+\n",
      "excellent      A\n",
      "excellent     A-\n",
      "good          B+\n",
      "good           B\n",
      "good          B-\n",
      "ok            C+\n",
      "ok             C\n",
      "ok            C-\n",
      "poor          D+\n",
      "poor           D\n"
     ]
    }
   ],
   "source": [
    "df=pd.DataFrame([\"A+\", \"A\", \"A-\", \"B+\", \"B\", \"B-\", \"C+\", \"C\", \"C-\", \"D+\", \"D\"],\n",
    "                index=[\"excellent\", \"excellent\", \"excellent\", \"good\", \"good\", \"good\", \n",
    "                \"ok\", \"ok\", \"ok\", \"poor\", \"poor\"],\n",
    "                columns=[\"Grades\"])\n",
    "print(df)"
   ]
  },
  {
   "cell_type": "code",
   "execution_count": 3,
   "metadata": {},
   "outputs": [
    {
     "name": "stdout",
     "output_type": "stream",
     "text": [
      "Grades    object\n",
      "dtype: object\n"
     ]
    }
   ],
   "source": [
    "print(df.dtypes)"
   ]
  },
  {
   "cell_type": "code",
   "execution_count": 6,
   "metadata": {},
   "outputs": [
    {
     "name": "stdout",
     "output_type": "stream",
     "text": [
      "excellent    A+\n",
      "excellent     A\n",
      "excellent    A-\n",
      "good         B+\n",
      "good          B\n",
      "Name: Grades, dtype: category\n",
      "Categories (11, object): ['A', 'A+', 'A-', 'B', ..., 'C+', 'C-', 'D', 'D+']\n"
     ]
    }
   ],
   "source": [
    "print(df[\"Grades\"].astype(\"category\").head())\n",
    "# the data is sorted and pandas knows the categories"
   ]
  },
  {
   "cell_type": "code",
   "execution_count": 7,
   "metadata": {},
   "outputs": [
    {
     "name": "stdout",
     "output_type": "stream",
     "text": [
      "excellent    A+\n",
      "excellent     A\n",
      "excellent    A-\n",
      "good         B+\n",
      "good          B\n",
      "Name: Grades, dtype: category\n",
      "Categories (11, object): ['D' < 'D+' < 'C-' < 'C' ... 'B+' < 'A-' < 'A' < 'A+']\n"
     ]
    }
   ],
   "source": [
    "my_categories = pd.CategoricalDtype(categories=[\"D\", \"D+\", \"C-\", \"C\", \"C+\", \"B-\", \"B\", \"B+\", \"A-\", \"A\", \"A+\"], ordered=True)\n",
    "grades = df[\"Grades\"].astype(my_categories)\n",
    "print(grades.head())\n",
    "# now it knows the right order of these categories"
   ]
  },
  {
   "cell_type": "code",
   "execution_count": 8,
   "metadata": {},
   "outputs": [
    {
     "name": "stdout",
     "output_type": "stream",
     "text": [
      "     Grades\n",
      "ok       C+\n",
      "ok       C-\n",
      "poor     D+\n",
      "poor      D\n"
     ]
    }
   ],
   "source": [
    "print(df[df[\"Grades\"] > \"C\"])\n",
    "# it is wrong because it is comparing the values lexicographically"
   ]
  },
  {
   "cell_type": "code",
   "execution_count": 9,
   "metadata": {},
   "outputs": [
    {
     "name": "stdout",
     "output_type": "stream",
     "text": [
      "excellent    A+\n",
      "excellent     A\n",
      "excellent    A-\n",
      "good         B+\n",
      "good          B\n",
      "good         B-\n",
      "ok           C+\n",
      "Name: Grades, dtype: category\n",
      "Categories (11, object): ['D' < 'D+' < 'C-' < 'C' ... 'B+' < 'A-' < 'A' < 'A+']\n"
     ]
    }
   ],
   "source": [
    "print(grades[grades > \"C\"])\n",
    "# once we set grades with astype(my_categories), it is in the correct order"
   ]
  },
  {
   "cell_type": "code",
   "execution_count": 15,
   "metadata": {},
   "outputs": [
    {
     "name": "stdout",
     "output_type": "stream",
     "text": [
      "STNAME\n",
      "Alabama        71339.343284\n",
      "Alaska         24490.724138\n",
      "Arizona       426134.466667\n",
      "Arkansas       38878.906667\n",
      "California    642309.586207\n",
      "Name: CENSUS2010POP, dtype: float64\n"
     ]
    }
   ],
   "source": [
    "df = pd.read_csv(\"census.csv\")\n",
    "df = df[df[\"SUMLEV\"] == 50]\n",
    "df = df.set_index(\"STNAME\").groupby(level=0)[\"CENSUS2010POP\"].agg(np.average)\n",
    "print(df.head())"
   ]
  },
  {
   "cell_type": "code",
   "execution_count": 16,
   "metadata": {},
   "outputs": [
    {
     "name": "stdout",
     "output_type": "stream",
     "text": [
      "STNAME\n",
      "Alabama                   (11706.087, 75333.413]\n",
      "Alaska                    (11706.087, 75333.413]\n",
      "Arizona                 (390320.176, 453317.529]\n",
      "Arkansas                  (11706.087, 75333.413]\n",
      "California              (579312.234, 642309.586]\n",
      "Colorado                 (75333.413, 138330.766]\n",
      "Connecticut             (390320.176, 453317.529]\n",
      "Delaware                (264325.471, 327322.823]\n",
      "District of Columbia    (579312.234, 642309.586]\n",
      "Florida                 (264325.471, 327322.823]\n",
      "Georgia                   (11706.087, 75333.413]\n",
      "Hawaii                  (264325.471, 327322.823]\n",
      "Idaho                     (11706.087, 75333.413]\n",
      "Illinois                 (75333.413, 138330.766]\n",
      "Indiana                   (11706.087, 75333.413]\n",
      "Iowa                      (11706.087, 75333.413]\n",
      "Kansas                    (11706.087, 75333.413]\n",
      "Kentucky                  (11706.087, 75333.413]\n",
      "Louisiana                 (11706.087, 75333.413]\n",
      "Maine                    (75333.413, 138330.766]\n",
      "Maryland                (201328.118, 264325.471]\n",
      "Massachusetts           (453317.529, 516314.881]\n",
      "Michigan                 (75333.413, 138330.766]\n",
      "Minnesota                 (11706.087, 75333.413]\n",
      "Mississippi               (11706.087, 75333.413]\n",
      "Missouri                  (11706.087, 75333.413]\n",
      "Montana                   (11706.087, 75333.413]\n",
      "Nebraska                  (11706.087, 75333.413]\n",
      "Nevada                  (138330.766, 201328.118]\n",
      "New Hampshire            (75333.413, 138330.766]\n",
      "New Jersey              (390320.176, 453317.529]\n",
      "New Mexico                (11706.087, 75333.413]\n",
      "New York                (264325.471, 327322.823]\n",
      "North Carolina           (75333.413, 138330.766]\n",
      "North Dakota              (11706.087, 75333.413]\n",
      "Ohio                     (75333.413, 138330.766]\n",
      "Oklahoma                  (11706.087, 75333.413]\n",
      "Oregon                   (75333.413, 138330.766]\n",
      "Pennsylvania            (138330.766, 201328.118]\n",
      "Rhode Island            (201328.118, 264325.471]\n",
      "South Carolina           (75333.413, 138330.766]\n",
      "South Dakota              (11706.087, 75333.413]\n",
      "Tennessee                 (11706.087, 75333.413]\n",
      "Texas                    (75333.413, 138330.766]\n",
      "Utah                     (75333.413, 138330.766]\n",
      "Vermont                   (11706.087, 75333.413]\n",
      "Virginia                  (11706.087, 75333.413]\n",
      "Washington              (138330.766, 201328.118]\n",
      "West Virginia             (11706.087, 75333.413]\n",
      "Wisconsin                (75333.413, 138330.766]\n",
      "Wyoming                   (11706.087, 75333.413]\n",
      "Name: CENSUS2010POP, dtype: category\n",
      "Categories (10, interval[float64, right]): [(11706.087, 75333.413] < (75333.413, 138330.766] < (138330.766, 201328.118] < (201328.118, 264325.471] ... (390320.176, 453317.529] < (453317.529, 516314.881] < (516314.881, 579312.234] < (579312.234, 642309.586]]\n"
     ]
    }
   ],
   "source": [
    "print(pd.cut(df, 10)) # 10 bins"
   ]
  }
 ],
 "metadata": {
  "kernelspec": {
   "display_name": "Python 3",
   "language": "python",
   "name": "python3"
  },
  "language_info": {
   "codemirror_mode": {
    "name": "ipython",
    "version": 3
   },
   "file_extension": ".py",
   "mimetype": "text/x-python",
   "name": "python",
   "nbconvert_exporter": "python",
   "pygments_lexer": "ipython3",
   "version": "3.11.3"
  }
 },
 "nbformat": 4,
 "nbformat_minor": 2
}
