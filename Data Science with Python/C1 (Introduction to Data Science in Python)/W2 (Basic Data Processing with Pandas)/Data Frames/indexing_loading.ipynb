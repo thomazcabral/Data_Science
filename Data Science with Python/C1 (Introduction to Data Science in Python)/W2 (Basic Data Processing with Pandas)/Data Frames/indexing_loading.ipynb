{
 "cells": [
  {
   "cell_type": "code",
   "execution_count": 3,
   "metadata": {},
   "outputs": [],
   "source": [
    "import pandas as pd"
   ]
  },
  {
   "cell_type": "code",
   "execution_count": 4,
   "metadata": {},
   "outputs": [
    {
     "name": "stdout",
     "output_type": "stream",
     "text": [
      "   Serial No.  GRE Score  TOEFL Score  University Rating  SOP  LOR   CGPA  \\\n",
      "0           1        337          118                  4  4.5   4.5  9.65   \n",
      "1           2        324          107                  4  4.0   4.5  8.87   \n",
      "2           3        316          104                  3  3.0   3.5  8.00   \n",
      "3           4        322          110                  3  3.5   2.5  8.67   \n",
      "4           5        314          103                  2  2.0   3.0  8.21   \n",
      "\n",
      "   Research  Chance of Admit   \n",
      "0         1              0.92  \n",
      "1         1              0.76  \n",
      "2         1              0.72  \n",
      "3         1              0.80  \n",
      "4         0              0.65  \n"
     ]
    }
   ],
   "source": [
    "df = pd.read_csv(\"Admission_Predict.csv\")\n",
    "print(df.head())"
   ]
  },
  {
   "cell_type": "code",
   "execution_count": 5,
   "metadata": {},
   "outputs": [
    {
     "name": "stdout",
     "output_type": "stream",
     "text": [
      "            GRE Score  TOEFL Score  University Rating  SOP  LOR   CGPA  \\\n",
      "Serial No.                                                               \n",
      "1                 337          118                  4  4.5   4.5  9.65   \n",
      "2                 324          107                  4  4.0   4.5  8.87   \n",
      "3                 316          104                  3  3.0   3.5  8.00   \n",
      "4                 322          110                  3  3.5   2.5  8.67   \n",
      "5                 314          103                  2  2.0   3.0  8.21   \n",
      "\n",
      "            Research  Chance of Admit   \n",
      "Serial No.                              \n",
      "1                  1              0.92  \n",
      "2                  1              0.76  \n",
      "3                  1              0.72  \n",
      "4                  1              0.80  \n",
      "5                  0              0.65  \n"
     ]
    }
   ],
   "source": [
    "df = pd.read_csv(\"Admission_Predict.csv\", index_col=0)\n",
    "# we do not want to see the column index 0 which Pandas has created\n",
    "print(df.head())"
   ]
  },
  {
   "cell_type": "code",
   "execution_count": 6,
   "metadata": {},
   "outputs": [
    {
     "name": "stdout",
     "output_type": "stream",
     "text": [
      "            GRE Score  TOEFL Score  University Rating  Statement of Purpose  \\\n",
      "Serial No.                                                                    \n",
      "1                 337          118                  4                   4.5   \n",
      "2                 324          107                  4                   4.0   \n",
      "3                 316          104                  3                   3.0   \n",
      "4                 322          110                  3                   3.5   \n",
      "5                 314          103                  2                   2.0   \n",
      "\n",
      "            LOR   CGPA  Research  Chance of Admit   \n",
      "Serial No.                                          \n",
      "1            4.5  9.65         1              0.92  \n",
      "2            4.5  8.87         1              0.76  \n",
      "3            3.5  8.00         1              0.72  \n",
      "4            2.5  8.67         1              0.80  \n",
      "5            3.0  8.21         0              0.65  \n"
     ]
    }
   ],
   "source": [
    "new_df = df.rename(columns={\"GRE Score\": \"GRE Score\", \"TOEFL Score\": \"TOEFL Score\", \n",
    "                        \"University Ranking\": \"University Ranking\",\n",
    "                        \"SOP\" : \"Statement of Purpose\", \"LOR\": \"Letter of Recomendation\",\n",
    "                        \"CGPA\": \"CGPA\", \"Research\": \"Research\", \"Chance of Admit\": \"Chance of Admit\"})\n",
    "\n",
    "print(new_df.head())\n",
    "# LOR is still unchanged"
   ]
  },
  {
   "cell_type": "code",
   "execution_count": 7,
   "metadata": {},
   "outputs": [
    {
     "name": "stdout",
     "output_type": "stream",
     "text": [
      "Index(['GRE Score', 'TOEFL Score', 'University Rating', 'Statement of Purpose',\n",
      "       'LOR ', 'CGPA', 'Research', 'Chance of Admit '],\n",
      "      dtype='object')\n"
     ]
    }
   ],
   "source": [
    "print(new_df.columns)\n",
    "# the .rename() is not working properly beacuse we mispelled the LOR and the Chance of Admit column names"
   ]
  },
  {
   "cell_type": "code",
   "execution_count": 8,
   "metadata": {},
   "outputs": [
    {
     "name": "stdout",
     "output_type": "stream",
     "text": [
      "            GRE Score  TOEFL Score  University Rating  Statement of Purpose  \\\n",
      "Serial No.                                                                    \n",
      "1                 337          118                  4                   4.5   \n",
      "2                 324          107                  4                   4.0   \n",
      "3                 316          104                  3                   3.0   \n",
      "4                 322          110                  3                   3.5   \n",
      "5                 314          103                  2                   2.0   \n",
      "\n",
      "            Letter of Recomendation  CGPA  Research  Chance of Admit   \n",
      "Serial No.                                                             \n",
      "1                               4.5  9.65         1              0.92  \n",
      "2                               4.5  8.87         1              0.76  \n",
      "3                               3.5  8.00         1              0.72  \n",
      "4                               2.5  8.67         1              0.80  \n",
      "5                               3.0  8.21         0              0.65  \n"
     ]
    }
   ],
   "source": [
    "new_df = new_df.rename(columns={\"LOR \": \"Letter of Recomendation\"})\n",
    "print(new_df.head())"
   ]
  },
  {
   "cell_type": "code",
   "execution_count": 9,
   "metadata": {},
   "outputs": [
    {
     "name": "stdout",
     "output_type": "stream",
     "text": [
      "            GRE Score  TOEFL Score  University Rating  Statement of Purpose  \\\n",
      "Serial No.                                                                    \n",
      "1                 337          118                  4                   4.5   \n",
      "2                 324          107                  4                   4.0   \n",
      "3                 316          104                  3                   3.0   \n",
      "4                 322          110                  3                   3.5   \n",
      "5                 314          103                  2                   2.0   \n",
      "\n",
      "            Letter of Recomendation  CGPA  Research  Chance of Admit  \n",
      "Serial No.                                                            \n",
      "1                               4.5  9.65         1             0.92  \n",
      "2                               4.5  8.87         1             0.76  \n",
      "3                               3.5  8.00         1             0.72  \n",
      "4                               2.5  8.67         1             0.80  \n",
      "5                               3.0  8.21         0             0.65  \n"
     ]
    }
   ],
   "source": [
    "new_df = new_df.rename(mapper=str.strip, axis=\"columns\")\n",
    "# this corrects the name of the columns due to the python .strip() function\n",
    "print(new_df.head())"
   ]
  },
  {
   "cell_type": "code",
   "execution_count": 11,
   "metadata": {},
   "outputs": [
    {
     "name": "stdout",
     "output_type": "stream",
     "text": [
      "            gre score  toefl score  university rating  sop  lor  cgpa  \\\n",
      "Serial No.                                                              \n",
      "1                 337          118                  4  4.5  4.5  9.65   \n",
      "2                 324          107                  4  4.0  4.5  8.87   \n",
      "3                 316          104                  3  3.0  3.5  8.00   \n",
      "4                 322          110                  3  3.5  2.5  8.67   \n",
      "5                 314          103                  2  2.0  3.0  8.21   \n",
      "\n",
      "            research  chance of admit  \n",
      "Serial No.                             \n",
      "1                  1             0.92  \n",
      "2                  1             0.76  \n",
      "3                  1             0.72  \n",
      "4                  1             0.80  \n",
      "5                  0             0.65  \n"
     ]
    }
   ],
   "source": [
    "cols = list(df.columns)\n",
    "cols = [x.lower().strip() for x in cols] # corrected names in lower case\n",
    "df.columns = cols # change the name of the columns of the data Frame\n",
    "print(df.head())"
   ]
  }
 ],
 "metadata": {
  "kernelspec": {
   "display_name": "Python 3",
   "language": "python",
   "name": "python3"
  },
  "language_info": {
   "codemirror_mode": {
    "name": "ipython",
    "version": 3
   },
   "file_extension": ".py",
   "mimetype": "text/x-python",
   "name": "python",
   "nbconvert_exporter": "python",
   "pygments_lexer": "ipython3",
   "version": "3.11.3"
  }
 },
 "nbformat": 4,
 "nbformat_minor": 2
}
