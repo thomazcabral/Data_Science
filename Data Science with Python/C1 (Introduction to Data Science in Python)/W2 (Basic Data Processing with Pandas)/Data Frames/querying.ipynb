{
 "cells": [
  {
   "cell_type": "code",
   "execution_count": 2,
   "metadata": {},
   "outputs": [],
   "source": [
    "import pandas as pd"
   ]
  },
  {
   "cell_type": "code",
   "execution_count": 3,
   "metadata": {},
   "outputs": [
    {
     "name": "stdout",
     "output_type": "stream",
     "text": [
      "            gre score  toefl score  university rating  sop  lor  cgpa  \\\n",
      "Serial No.                                                              \n",
      "1                 337          118                  4  4.5  4.5  9.65   \n",
      "2                 324          107                  4  4.0  4.5  8.87   \n",
      "3                 316          104                  3  3.0  3.5  8.00   \n",
      "4                 322          110                  3  3.5  2.5  8.67   \n",
      "5                 314          103                  2  2.0  3.0  8.21   \n",
      "\n",
      "            research  chance of admit  \n",
      "Serial No.                             \n",
      "1                  1             0.92  \n",
      "2                  1             0.76  \n",
      "3                  1             0.72  \n",
      "4                  1             0.80  \n",
      "5                  0             0.65  \n"
     ]
    }
   ],
   "source": [
    "df = pd.read_csv(\"Admission_Predict.csv\", index_col=0)\n",
    "df.columns = [x.lower().strip() for x in df.columns]\n",
    "print(df.head())"
   ]
  },
  {
   "cell_type": "code",
   "execution_count": 4,
   "metadata": {},
   "outputs": [
    {
     "name": "stdout",
     "output_type": "stream",
     "text": [
      "Serial No.\n",
      "1       True\n",
      "2       True\n",
      "3       True\n",
      "4       True\n",
      "5      False\n",
      "       ...  \n",
      "396     True\n",
      "397     True\n",
      "398     True\n",
      "399    False\n",
      "400     True\n",
      "Name: chance of admit, Length: 400, dtype: bool\n"
     ]
    }
   ],
   "source": [
    "admit_mask = df[\"chance of admit\"] > 0.7\n",
    "print(admit_mask)\n",
    "# true or false values depending upon the results of the comparison"
   ]
  },
  {
   "cell_type": "code",
   "execution_count": 6,
   "metadata": {},
   "outputs": [
    {
     "name": "stdout",
     "output_type": "stream",
     "text": [
      "            gre score  toefl score  university rating  sop  lor  cgpa  \\\n",
      "Serial No.                                                              \n",
      "1               337.0        118.0                4.0  4.5  4.5  9.65   \n",
      "2               324.0        107.0                4.0  4.0  4.5  8.87   \n",
      "3               316.0        104.0                3.0  3.0  3.5  8.00   \n",
      "4               322.0        110.0                3.0  3.5  2.5  8.67   \n",
      "5                 NaN          NaN                NaN  NaN  NaN   NaN   \n",
      "\n",
      "            research  chance of admit  \n",
      "Serial No.                             \n",
      "1                1.0             0.92  \n",
      "2                1.0             0.76  \n",
      "3                1.0             0.72  \n",
      "4                1.0             0.80  \n",
      "5                NaN              NaN  \n"
     ]
    }
   ],
   "source": [
    "print(df.where(admit_mask).head())\n",
    "# prints all the rows where admit_mask is true"
   ]
  },
  {
   "cell_type": "code",
   "execution_count": 7,
   "metadata": {},
   "outputs": [
    {
     "name": "stdout",
     "output_type": "stream",
     "text": [
      "            gre score  toefl score  university rating  sop  lor  cgpa  \\\n",
      "Serial No.                                                              \n",
      "1               337.0        118.0                4.0  4.5  4.5  9.65   \n",
      "2               324.0        107.0                4.0  4.0  4.5  8.87   \n",
      "3               316.0        104.0                3.0  3.0  3.5  8.00   \n",
      "4               322.0        110.0                3.0  3.5  2.5  8.67   \n",
      "6               330.0        115.0                5.0  4.5  3.0  9.34   \n",
      "\n",
      "            research  chance of admit  \n",
      "Serial No.                             \n",
      "1                1.0             0.92  \n",
      "2                1.0             0.76  \n",
      "3                1.0             0.72  \n",
      "4                1.0             0.80  \n",
      "6                1.0             0.90  \n"
     ]
    }
   ],
   "source": [
    "print(df.where(admit_mask).dropna().head())\n",
    "# dropna removes the NaN rows"
   ]
  },
  {
   "cell_type": "code",
   "execution_count": 8,
   "metadata": {},
   "outputs": [
    {
     "name": "stdout",
     "output_type": "stream",
     "text": [
      "            gre score  toefl score  university rating  sop  lor  cgpa  \\\n",
      "Serial No.                                                              \n",
      "1                 337          118                  4  4.5  4.5  9.65   \n",
      "2                 324          107                  4  4.0  4.5  8.87   \n",
      "3                 316          104                  3  3.0  3.5  8.00   \n",
      "4                 322          110                  3  3.5  2.5  8.67   \n",
      "6                 330          115                  5  4.5  3.0  9.34   \n",
      "\n",
      "            research  chance of admit  \n",
      "Serial No.                             \n",
      "1                  1             0.92  \n",
      "2                  1             0.76  \n",
      "3                  1             0.72  \n",
      "4                  1             0.80  \n",
      "6                  1             0.90  \n"
     ]
    }
   ],
   "source": [
    "print(df[df[\"chance of admit\"] > 0.7].head())\n",
    "# this does dropna and where at the same time"
   ]
  },
  {
   "cell_type": "code",
   "execution_count": 9,
   "metadata": {},
   "outputs": [
    {
     "name": "stdout",
     "output_type": "stream",
     "text": [
      "Serial No.\n",
      "1    337\n",
      "2    324\n",
      "3    316\n",
      "4    322\n",
      "5    314\n",
      "Name: gre score, dtype: int64\n"
     ]
    }
   ],
   "source": [
    "print(df[\"gre score\"].head())"
   ]
  },
  {
   "cell_type": "code",
   "execution_count": 10,
   "metadata": {},
   "outputs": [
    {
     "name": "stdout",
     "output_type": "stream",
     "text": [
      "            gre score  toefl score\n",
      "Serial No.                        \n",
      "1                 337          118\n",
      "2                 324          107\n",
      "3                 316          104\n",
      "4                 322          110\n",
      "5                 314          103\n"
     ]
    }
   ],
   "source": [
    "print(df[[\"gre score\", \"toefl score\"]].head())\n",
    "# a list of columns as strings"
   ]
  },
  {
   "cell_type": "code",
   "execution_count": 11,
   "metadata": {},
   "outputs": [
    {
     "name": "stdout",
     "output_type": "stream",
     "text": [
      "            gre score  toefl score  university rating  sop  lor  cgpa  \\\n",
      "Serial No.                                                              \n",
      "1                 337          118                  4  4.5  4.5  9.65   \n",
      "2                 324          107                  4  4.0  4.5  8.87   \n",
      "4                 322          110                  3  3.5  2.5  8.67   \n",
      "6                 330          115                  5  4.5  3.0  9.34   \n",
      "7                 321          109                  3  3.0  4.0  8.20   \n",
      "\n",
      "            research  chance of admit  \n",
      "Serial No.                             \n",
      "1                  1             0.92  \n",
      "2                  1             0.76  \n",
      "4                  1             0.80  \n",
      "6                  1             0.90  \n",
      "7                  1             0.75  \n"
     ]
    }
   ],
   "source": [
    "print(df[df[\"gre score\"] > 320].head())\n",
    "# some options of what we can do with this manipulation"
   ]
  },
  {
   "cell_type": "code",
   "execution_count": 12,
   "metadata": {},
   "outputs": [
    {
     "ename": "ValueError",
     "evalue": "The truth value of a Series is ambiguous. Use a.empty, a.bool(), a.item(), a.any() or a.all().",
     "output_type": "error",
     "traceback": [
      "\u001b[1;31m---------------------------------------------------------------------------\u001b[0m",
      "\u001b[1;31mValueError\u001b[0m                                Traceback (most recent call last)",
      "\u001b[1;32m~\\AppData\\Local\\Temp\\ipykernel_16916\\212851201.py\u001b[0m in \u001b[0;36m?\u001b[1;34m()\u001b[0m\n\u001b[1;32m----> 1\u001b[1;33m \u001b[0mprint\u001b[0m\u001b[1;33m(\u001b[0m\u001b[0mdf\u001b[0m\u001b[1;33m[\u001b[0m\u001b[1;34m\"chance of admit\"\u001b[0m\u001b[1;33m]\u001b[0m \u001b[1;33m>\u001b[0m \u001b[1;36m0.7\u001b[0m \u001b[1;32mand\u001b[0m \u001b[0mdf\u001b[0m\u001b[1;33m[\u001b[0m\u001b[1;34m\"chance of admit\"\u001b[0m\u001b[1;33m]\u001b[0m \u001b[1;33m<\u001b[0m \u001b[1;36m0.9\u001b[0m\u001b[1;33m)\u001b[0m\u001b[1;33m\u001b[0m\u001b[1;33m\u001b[0m\u001b[0m\n\u001b[0m",
      "\u001b[1;32mc:\\Users\\thoma\\AppData\\Local\\Programs\\Python\\Python311\\Lib\\site-packages\\pandas\\core\\generic.py\u001b[0m in \u001b[0;36m?\u001b[1;34m(self)\u001b[0m\n\u001b[0;32m   1517\u001b[0m     \u001b[1;33m@\u001b[0m\u001b[0mfinal\u001b[0m\u001b[1;33m\u001b[0m\u001b[1;33m\u001b[0m\u001b[0m\n\u001b[0;32m   1518\u001b[0m     \u001b[1;32mdef\u001b[0m \u001b[0m__nonzero__\u001b[0m\u001b[1;33m(\u001b[0m\u001b[0mself\u001b[0m\u001b[1;33m)\u001b[0m \u001b[1;33m->\u001b[0m \u001b[0mNoReturn\u001b[0m\u001b[1;33m:\u001b[0m\u001b[1;33m\u001b[0m\u001b[1;33m\u001b[0m\u001b[0m\n\u001b[1;32m-> 1519\u001b[1;33m         raise ValueError(\n\u001b[0m\u001b[0;32m   1520\u001b[0m             \u001b[1;34mf\"The truth value of a {type(self).__name__} is ambiguous. \"\u001b[0m\u001b[1;33m\u001b[0m\u001b[1;33m\u001b[0m\u001b[0m\n\u001b[0;32m   1521\u001b[0m             \u001b[1;34m\"Use a.empty, a.bool(), a.item(), a.any() or a.all().\"\u001b[0m\u001b[1;33m\u001b[0m\u001b[1;33m\u001b[0m\u001b[0m\n\u001b[0;32m   1522\u001b[0m         )\n",
      "\u001b[1;31mValueError\u001b[0m: The truth value of a Series is ambiguous. Use a.empty, a.bool(), a.item(), a.any() or a.all()."
     ]
    }
   ],
   "source": [
    "print(df[\"chance of admit\"] > 0.7 and df[\"chance of admit\"] < 0.9) \n",
    "# this does not work since python cannot compre two series using and/or"
   ]
  },
  {
   "cell_type": "code",
   "execution_count": 14,
   "metadata": {},
   "outputs": [
    {
     "name": "stdout",
     "output_type": "stream",
     "text": [
      "Serial No.\n",
      "1      False\n",
      "2       True\n",
      "3       True\n",
      "4       True\n",
      "5      False\n",
      "       ...  \n",
      "396     True\n",
      "397     True\n",
      "398    False\n",
      "399    False\n",
      "400    False\n",
      "Name: chance of admit, Length: 400, dtype: bool\n"
     ]
    }
   ],
   "source": [
    "print((df[\"chance of admit\"] > 0.7) & (df[\"chance of admit\"] < 0.9))\n",
    "# instead we must use the & and | operators to represent and/or, respectively \n",
    "# it only works with the parentheses separating each part of the expression"
   ]
  },
  {
   "cell_type": "code",
   "execution_count": 16,
   "metadata": {},
   "outputs": [
    {
     "name": "stdout",
     "output_type": "stream",
     "text": [
      "Serial No.\n",
      "1      False\n",
      "2       True\n",
      "3       True\n",
      "4       True\n",
      "5      False\n",
      "       ...  \n",
      "396     True\n",
      "397     True\n",
      "398    False\n",
      "399    False\n",
      "400    False\n",
      "Name: chance of admit, Length: 400, dtype: bool\n"
     ]
    }
   ],
   "source": [
    "print((df[\"chance of admit\"].gt(0.7)) & (df[\"chance of admit\"].lt(0.9)))\n",
    "# gt represents greater than and lt represents less than"
   ]
  },
  {
   "cell_type": "code",
   "execution_count": 17,
   "metadata": {},
   "outputs": [
    {
     "name": "stdout",
     "output_type": "stream",
     "text": [
      "Serial No.\n",
      "1      False\n",
      "2      False\n",
      "3      False\n",
      "4      False\n",
      "5       True\n",
      "       ...  \n",
      "396    False\n",
      "397    False\n",
      "398    False\n",
      "399     True\n",
      "400    False\n",
      "Name: chance of admit, Length: 400, dtype: bool\n"
     ]
    }
   ],
   "source": [
    "print(df[\"chance of admit\"].gt(0.7).lt(0.9))\n",
    "# same thing but minimized and readable"
   ]
  }
 ],
 "metadata": {
  "kernelspec": {
   "display_name": "Python 3",
   "language": "python",
   "name": "python3"
  },
  "language_info": {
   "codemirror_mode": {
    "name": "ipython",
    "version": 3
   },
   "file_extension": ".py",
   "mimetype": "text/x-python",
   "name": "python",
   "nbconvert_exporter": "python",
   "pygments_lexer": "ipython3",
   "version": "3.11.3"
  }
 },
 "nbformat": 4,
 "nbformat_minor": 2
}
