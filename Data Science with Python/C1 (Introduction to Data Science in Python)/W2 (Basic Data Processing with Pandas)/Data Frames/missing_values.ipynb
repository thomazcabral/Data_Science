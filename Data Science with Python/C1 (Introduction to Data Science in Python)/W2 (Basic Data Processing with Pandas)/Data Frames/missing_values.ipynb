{
 "cells": [
  {
   "cell_type": "code",
   "execution_count": 1,
   "metadata": {},
   "outputs": [],
   "source": [
    "import pandas as pd"
   ]
  },
  {
   "cell_type": "code",
   "execution_count": 2,
   "metadata": {},
   "outputs": [
    {
     "name": "stdout",
     "output_type": "stream",
     "text": [
      "   Prefix  Assignment  Tutorial  Midterm  TakeHome  Final\n",
      "0       5       57.14     34.09    64.38     51.48  52.50\n",
      "1       8       95.05    105.49    67.50     99.07  68.33\n",
      "2       8       83.70     83.17      NaN     63.15  48.89\n",
      "3       7         NaN       NaN    49.38    105.93  80.56\n",
      "4       8       91.32     93.64    95.00    107.41  73.89\n",
      "5       7       95.00     92.58    93.12     97.78  68.06\n",
      "6       8       95.05    102.99    56.25     99.07  50.00\n",
      "7       7       72.85     86.85    60.00       NaN  56.11\n",
      "8       8       84.26     93.10    47.50     18.52  50.83\n",
      "9       7       90.10     97.55    51.25     88.89  63.61\n"
     ]
    }
   ],
   "source": [
    "df = pd.read_csv(\"class_grades.csv\")\n",
    "print(df.head(10))"
   ]
  },
  {
   "cell_type": "code",
   "execution_count": 3,
   "metadata": {},
   "outputs": [
    {
     "name": "stdout",
     "output_type": "stream",
     "text": [
      "   Prefix  Assignment  Tutorial  Midterm  TakeHome  Final\n",
      "0   False       False     False    False     False  False\n",
      "1   False       False     False    False     False  False\n",
      "2   False       False     False     True     False  False\n",
      "3   False        True      True    False     False  False\n",
      "4   False       False     False    False     False  False\n",
      "5   False       False     False    False     False  False\n",
      "6   False       False     False    False     False  False\n",
      "7   False       False     False    False      True  False\n",
      "8   False       False     False    False     False  False\n",
      "9   False       False     False    False     False  False\n"
     ]
    }
   ],
   "source": [
    "mask = df.isnull() # checks if there is missing data\n",
    "print(mask.head(10))"
   ]
  },
  {
   "cell_type": "code",
   "execution_count": 4,
   "metadata": {},
   "outputs": [
    {
     "name": "stdout",
     "output_type": "stream",
     "text": [
      "    Prefix  Assignment  Tutorial  Midterm  TakeHome  Final\n",
      "0        5       57.14     34.09    64.38     51.48  52.50\n",
      "1        8       95.05    105.49    67.50     99.07  68.33\n",
      "4        8       91.32     93.64    95.00    107.41  73.89\n",
      "5        7       95.00     92.58    93.12     97.78  68.06\n",
      "6        8       95.05    102.99    56.25     99.07  50.00\n",
      "8        8       84.26     93.10    47.50     18.52  50.83\n",
      "9        7       90.10     97.55    51.25     88.89  63.61\n",
      "10       7       80.44     90.20    75.00     91.48  39.72\n",
      "12       8       97.16    103.71    72.50     93.52  63.33\n",
      "13       7       91.28     83.53    81.25     99.81  92.22\n"
     ]
    }
   ],
   "source": [
    "print(df.dropna().head(10))\n",
    "# \"deletes\" the row with any NaN value"
   ]
  },
  {
   "cell_type": "code",
   "execution_count": 6,
   "metadata": {},
   "outputs": [
    {
     "name": "stdout",
     "output_type": "stream",
     "text": [
      "   Prefix  Assignment  Tutorial  Midterm  TakeHome  Final\n",
      "0       5       57.14     34.09    64.38     51.48  52.50\n",
      "1       8       95.05    105.49    67.50     99.07  68.33\n",
      "2       8       83.70     83.17     0.00     63.15  48.89\n",
      "3       7        0.00      0.00    49.38    105.93  80.56\n",
      "4       8       91.32     93.64    95.00    107.41  73.89\n",
      "5       7       95.00     92.58    93.12     97.78  68.06\n",
      "6       8       95.05    102.99    56.25     99.07  50.00\n",
      "7       7       72.85     86.85    60.00      0.00  56.11\n",
      "8       8       84.26     93.10    47.50     18.52  50.83\n",
      "9       7       90.10     97.55    51.25     88.89  63.61\n"
     ]
    }
   ],
   "source": [
    "df.fillna(0, inplace=True) # change the NaN to a 0 value\n",
    "print(df.head(10))"
   ]
  },
  {
   "cell_type": "code",
   "execution_count": 7,
   "metadata": {},
   "outputs": [
    {
     "name": "stdout",
     "output_type": "stream",
     "text": [
      "          time    user          video  playback position paused  volume\n",
      "0   1469974424  cheryl     intro.html                  5  False    10.0\n",
      "1   1469974454  cheryl     intro.html                  6    NaN     NaN\n",
      "2   1469974544  cheryl     intro.html                  9    NaN     NaN\n",
      "3   1469974574  cheryl     intro.html                 10    NaN     NaN\n",
      "4   1469977514     bob     intro.html                  1    NaN     NaN\n",
      "5   1469977544     bob     intro.html                  1    NaN     NaN\n",
      "6   1469977574     bob     intro.html                  1    NaN     NaN\n",
      "7   1469977604     bob     intro.html                  1    NaN     NaN\n",
      "8   1469974604  cheryl     intro.html                 11    NaN     NaN\n",
      "9   1469974694  cheryl     intro.html                 14    NaN     NaN\n",
      "10  1469974724  cheryl     intro.html                 15    NaN     NaN\n",
      "11  1469974454     sue  advanced.html                 24    NaN     NaN\n",
      "12  1469974524     sue  advanced.html                 25    NaN     NaN\n",
      "13  1469974424     sue  advanced.html                 23  False    10.0\n",
      "14  1469974554     sue  advanced.html                 26    NaN     NaN\n",
      "15  1469974624     sue  advanced.html                 27    NaN     NaN\n",
      "16  1469974654     sue  advanced.html                 28    NaN     5.0\n",
      "17  1469974724     sue  advanced.html                 29    NaN     NaN\n",
      "18  1469974484  cheryl     intro.html                  7    NaN     NaN\n",
      "19  1469974514  cheryl     intro.html                  8    NaN     NaN\n"
     ]
    }
   ],
   "source": [
    "df = pd.read_csv(\"log.csv\")\n",
    "print(df.head(20))"
   ]
  },
  {
   "cell_type": "code",
   "execution_count": 8,
   "metadata": {},
   "outputs": [
    {
     "name": "stdout",
     "output_type": "stream",
     "text": [
      "              user          video  playback position paused  volume\n",
      "time                                                               \n",
      "1469974424  cheryl     intro.html                  5  False    10.0\n",
      "1469974424     sue  advanced.html                 23  False    10.0\n",
      "1469974454  cheryl     intro.html                  6    NaN     NaN\n",
      "1469974454     sue  advanced.html                 24    NaN     NaN\n",
      "1469974484  cheryl     intro.html                  7    NaN     NaN\n",
      "1469974514  cheryl     intro.html                  8    NaN     NaN\n",
      "1469974524     sue  advanced.html                 25    NaN     NaN\n",
      "1469974544  cheryl     intro.html                  9    NaN     NaN\n",
      "1469974554     sue  advanced.html                 26    NaN     NaN\n",
      "1469974574  cheryl     intro.html                 10    NaN     NaN\n",
      "1469974604  cheryl     intro.html                 11    NaN     NaN\n",
      "1469974624     sue  advanced.html                 27    NaN     NaN\n",
      "1469974634  cheryl     intro.html                 12    NaN     NaN\n",
      "1469974654     sue  advanced.html                 28    NaN     5.0\n",
      "1469974664  cheryl     intro.html                 13    NaN     NaN\n",
      "1469974694  cheryl     intro.html                 14    NaN     NaN\n",
      "1469974724  cheryl     intro.html                 15    NaN     NaN\n",
      "1469974724     sue  advanced.html                 29    NaN     NaN\n",
      "1469974754     sue  advanced.html                 30    NaN     NaN\n",
      "1469974824     sue  advanced.html                 31    NaN     NaN\n"
     ]
    }
   ],
   "source": [
    "df = df.set_index(\"time\")\n",
    "df = df.sort_index()\n",
    "print(df.head(20))"
   ]
  },
  {
   "cell_type": "code",
   "execution_count": 9,
   "metadata": {},
   "outputs": [
    {
     "name": "stdout",
     "output_type": "stream",
     "text": [
      "                           video  playback position paused  volume\n",
      "time       user                                                   \n",
      "1469974424 cheryl     intro.html                  5  False    10.0\n",
      "           sue     advanced.html                 23  False    10.0\n",
      "1469974454 cheryl     intro.html                  6    NaN     NaN\n",
      "           sue     advanced.html                 24    NaN     NaN\n",
      "1469974484 cheryl     intro.html                  7    NaN     NaN\n",
      "1469974514 cheryl     intro.html                  8    NaN     NaN\n",
      "1469974524 sue     advanced.html                 25    NaN     NaN\n",
      "1469974544 cheryl     intro.html                  9    NaN     NaN\n",
      "1469974554 sue     advanced.html                 26    NaN     NaN\n",
      "1469974574 cheryl     intro.html                 10    NaN     NaN\n",
      "1469974604 cheryl     intro.html                 11    NaN     NaN\n",
      "1469974624 sue     advanced.html                 27    NaN     NaN\n",
      "1469974634 cheryl     intro.html                 12    NaN     NaN\n",
      "1469974654 sue     advanced.html                 28    NaN     5.0\n",
      "1469974664 cheryl     intro.html                 13    NaN     NaN\n",
      "1469974694 cheryl     intro.html                 14    NaN     NaN\n",
      "1469974724 cheryl     intro.html                 15    NaN     NaN\n",
      "           sue     advanced.html                 29    NaN     NaN\n",
      "1469974754 sue     advanced.html                 30    NaN     NaN\n",
      "1469974824 sue     advanced.html                 31    NaN     NaN\n"
     ]
    }
   ],
   "source": [
    "df = df.reset_index()\n",
    "df = df.set_index([\"time\", \"user\"])\n",
    "print(df.head(20))\n",
    "# time is the first criteria of sorting and user is the second"
   ]
  },
  {
   "cell_type": "code",
   "execution_count": 10,
   "metadata": {},
   "outputs": [
    {
     "name": "stdout",
     "output_type": "stream",
     "text": [
      "                           video  playback position  paused  volume\n",
      "time       user                                                    \n",
      "1469974424 cheryl     intro.html                  5   False    10.0\n",
      "           sue     advanced.html                 23   False    10.0\n",
      "1469974454 cheryl     intro.html                  6   False    10.0\n",
      "           sue     advanced.html                 24   False    10.0\n",
      "1469974484 cheryl     intro.html                  7   False    10.0\n"
     ]
    },
    {
     "name": "stderr",
     "output_type": "stream",
     "text": [
      "C:\\Users\\thoma\\AppData\\Local\\Temp\\ipykernel_10072\\1639958039.py:1: FutureWarning: DataFrame.fillna with 'method' is deprecated and will raise in a future version. Use obj.ffill() or obj.bfill() instead.\n",
      "  df = df.fillna(method=\"ffill\")\n"
     ]
    }
   ],
   "source": [
    "df = df.fillna(method=\"ffill\")\n",
    "# ffill stands for forward filling and it fills the value from a previous row\n",
    "print(df.head())"
   ]
  },
  {
   "cell_type": "code",
   "execution_count": 11,
   "metadata": {},
   "outputs": [
    {
     "name": "stdout",
     "output_type": "stream",
     "text": [
      "   A  B  C\n",
      "0  1  3  a\n",
      "1  1  6  b\n",
      "2  2  3  c\n",
      "3  3  8  d\n",
      "4  4  9  e\n"
     ]
    }
   ],
   "source": [
    "df = pd.DataFrame({\"A\": [1, 1, 2, 3, 4], \"B\": [3, 6, 3, 8, 9], \"C\": [\"a\", \"b\", \"c\", \"d\", \"e\"]})\n",
    "print(df)"
   ]
  },
  {
   "cell_type": "code",
   "execution_count": 13,
   "metadata": {},
   "outputs": [
    {
     "name": "stdout",
     "output_type": "stream",
     "text": [
      "     A  B  C\n",
      "0  100  3  a\n",
      "1  100  6  b\n",
      "2    2  3  c\n",
      "3    3  8  d\n",
      "4    4  9  e\n"
     ]
    }
   ],
   "source": [
    "print(df.replace(1, 100))"
   ]
  },
  {
   "cell_type": "code",
   "execution_count": 14,
   "metadata": {},
   "outputs": [
    {
     "name": "stdout",
     "output_type": "stream",
     "text": [
      "     A    B  C\n",
      "0  100  300  a\n",
      "1  100    6  b\n",
      "2    2  300  c\n",
      "3  300    8  d\n",
      "4    4    9  e\n"
     ]
    }
   ],
   "source": [
    "print(df.replace([1, 3], [100, 300]))"
   ]
  },
  {
   "cell_type": "code",
   "execution_count": 15,
   "metadata": {},
   "outputs": [
    {
     "name": "stdout",
     "output_type": "stream",
     "text": [
      "          time    user          video  playback position paused  volume\n",
      "0   1469974424  cheryl     intro.html                  5  False    10.0\n",
      "1   1469974454  cheryl     intro.html                  6    NaN     NaN\n",
      "2   1469974544  cheryl     intro.html                  9    NaN     NaN\n",
      "3   1469974574  cheryl     intro.html                 10    NaN     NaN\n",
      "4   1469977514     bob     intro.html                  1    NaN     NaN\n",
      "5   1469977544     bob     intro.html                  1    NaN     NaN\n",
      "6   1469977574     bob     intro.html                  1    NaN     NaN\n",
      "7   1469977604     bob     intro.html                  1    NaN     NaN\n",
      "8   1469974604  cheryl     intro.html                 11    NaN     NaN\n",
      "9   1469974694  cheryl     intro.html                 14    NaN     NaN\n",
      "10  1469974724  cheryl     intro.html                 15    NaN     NaN\n",
      "11  1469974454     sue  advanced.html                 24    NaN     NaN\n",
      "12  1469974524     sue  advanced.html                 25    NaN     NaN\n",
      "13  1469974424     sue  advanced.html                 23  False    10.0\n",
      "14  1469974554     sue  advanced.html                 26    NaN     NaN\n",
      "15  1469974624     sue  advanced.html                 27    NaN     NaN\n",
      "16  1469974654     sue  advanced.html                 28    NaN     5.0\n",
      "17  1469974724     sue  advanced.html                 29    NaN     NaN\n",
      "18  1469974484  cheryl     intro.html                  7    NaN     NaN\n",
      "19  1469974514  cheryl     intro.html                  8    NaN     NaN\n"
     ]
    }
   ],
   "source": [
    "df = pd.read_csv(\"log.csv\")\n",
    "print(df.head(20))"
   ]
  },
  {
   "cell_type": "code",
   "execution_count": 16,
   "metadata": {},
   "outputs": [
    {
     "name": "stdout",
     "output_type": "stream",
     "text": [
      "          time    user    video  playback position paused  volume\n",
      "0   1469974424  cheryl  webpage                  5  False    10.0\n",
      "1   1469974454  cheryl  webpage                  6    NaN     NaN\n",
      "2   1469974544  cheryl  webpage                  9    NaN     NaN\n",
      "3   1469974574  cheryl  webpage                 10    NaN     NaN\n",
      "4   1469977514     bob  webpage                  1    NaN     NaN\n",
      "5   1469977544     bob  webpage                  1    NaN     NaN\n",
      "6   1469977574     bob  webpage                  1    NaN     NaN\n",
      "7   1469977604     bob  webpage                  1    NaN     NaN\n",
      "8   1469974604  cheryl  webpage                 11    NaN     NaN\n",
      "9   1469974694  cheryl  webpage                 14    NaN     NaN\n",
      "10  1469974724  cheryl  webpage                 15    NaN     NaN\n",
      "11  1469974454     sue  webpage                 24    NaN     NaN\n",
      "12  1469974524     sue  webpage                 25    NaN     NaN\n",
      "13  1469974424     sue  webpage                 23  False    10.0\n",
      "14  1469974554     sue  webpage                 26    NaN     NaN\n",
      "15  1469974624     sue  webpage                 27    NaN     NaN\n",
      "16  1469974654     sue  webpage                 28    NaN     5.0\n",
      "17  1469974724     sue  webpage                 29    NaN     NaN\n",
      "18  1469974484  cheryl  webpage                  7    NaN     NaN\n",
      "19  1469974514  cheryl  webpage                  8    NaN     NaN\n",
      "20  1469974754     sue  webpage                 30    NaN     NaN\n",
      "21  1469974824     sue  webpage                 31    NaN     NaN\n",
      "22  1469974854     sue  webpage                 32    NaN     NaN\n",
      "23  1469974924     sue  webpage                 33    NaN     NaN\n",
      "24  1469977424     bob  webpage                  1   True    10.0\n",
      "25  1469977454     bob  webpage                  1    NaN     NaN\n",
      "26  1469977484     bob  webpage                  1    NaN     NaN\n",
      "27  1469977634     bob  webpage                  1    NaN     NaN\n",
      "28  1469977664     bob  webpage                  1    NaN     NaN\n",
      "29  1469974634  cheryl  webpage                 12    NaN     NaN\n",
      "30  1469974664  cheryl  webpage                 13    NaN     NaN\n",
      "31  1469977694     bob  webpage                  1    NaN     NaN\n",
      "32  1469977724     bob  webpage                  1    NaN     NaN\n"
     ]
    }
   ],
   "source": [
    "print(df.replace(to_replace=\".*.html$\", value=\"webpage\", regex=True))"
   ]
  }
 ],
 "metadata": {
  "kernelspec": {
   "display_name": "Python 3",
   "language": "python",
   "name": "python3"
  },
  "language_info": {
   "codemirror_mode": {
    "name": "ipython",
    "version": 3
   },
   "file_extension": ".py",
   "mimetype": "text/x-python",
   "name": "python",
   "nbconvert_exporter": "python",
   "pygments_lexer": "ipython3",
   "version": "3.11.3"
  }
 },
 "nbformat": 4,
 "nbformat_minor": 2
}
