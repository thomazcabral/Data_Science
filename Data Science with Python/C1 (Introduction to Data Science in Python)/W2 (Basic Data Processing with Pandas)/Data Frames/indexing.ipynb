{
 "cells": [
  {
   "cell_type": "code",
   "execution_count": 1,
   "metadata": {},
   "outputs": [],
   "source": [
    "import pandas as pd"
   ]
  },
  {
   "cell_type": "code",
   "execution_count": 2,
   "metadata": {},
   "outputs": [
    {
     "name": "stdout",
     "output_type": "stream",
     "text": [
      "            GRE Score  TOEFL Score  University Rating  SOP  LOR   CGPA  \\\n",
      "Serial No.                                                               \n",
      "1                 337          118                  4  4.5   4.5  9.65   \n",
      "2                 324          107                  4  4.0   4.5  8.87   \n",
      "3                 316          104                  3  3.0   3.5  8.00   \n",
      "4                 322          110                  3  3.5   2.5  8.67   \n",
      "5                 314          103                  2  2.0   3.0  8.21   \n",
      "\n",
      "            Research  Chance of Admit   \n",
      "Serial No.                              \n",
      "1                  1              0.92  \n",
      "2                  1              0.76  \n",
      "3                  1              0.72  \n",
      "4                  1              0.80  \n",
      "5                  0              0.65  \n"
     ]
    }
   ],
   "source": [
    "df = pd.read_csv(\"Admission_Predict.csv\", index_col=0)\n",
    "print(df.head())"
   ]
  },
  {
   "cell_type": "code",
   "execution_count": 7,
   "metadata": {},
   "outputs": [
    {
     "name": "stdout",
     "output_type": "stream",
     "text": [
      "                  GRE Score  TOEFL Score  University Rating  SOP  LOR   CGPA  \\\n",
      "Chance of Admit                                                                \n",
      "0.92                    337          118                  4  4.5   4.5  9.65   \n",
      "0.76                    324          107                  4  4.0   4.5  8.87   \n",
      "0.72                    316          104                  3  3.0   3.5  8.00   \n",
      "0.80                    322          110                  3  3.5   2.5  8.67   \n",
      "0.65                    314          103                  2  2.0   3.0  8.21   \n",
      "\n",
      "                  Research  Serial Number  \n",
      "Chance of Admit                            \n",
      "0.92                     1              1  \n",
      "0.76                     1              2  \n",
      "0.72                     1              3  \n",
      "0.80                     1              4  \n",
      "0.65                     0              5  \n"
     ]
    }
   ],
   "source": [
    "df[\"Serial Number\"] = df.index\n",
    "df = df.set_index(\"Chance of Admit \") # now the index is \"chance of admit\"\n",
    "print(df.head())"
   ]
  },
  {
   "cell_type": "code",
   "execution_count": 8,
   "metadata": {},
   "outputs": [
    {
     "name": "stdout",
     "output_type": "stream",
     "text": [
      "   Chance of Admit   GRE Score  TOEFL Score  University Rating  SOP  LOR   \\\n",
      "0              0.92        337          118                  4  4.5   4.5   \n",
      "1              0.76        324          107                  4  4.0   4.5   \n",
      "2              0.72        316          104                  3  3.0   3.5   \n",
      "3              0.80        322          110                  3  3.5   2.5   \n",
      "4              0.65        314          103                  2  2.0   3.0   \n",
      "\n",
      "   CGPA  Research  Serial Number  \n",
      "0  9.65         1              1  \n",
      "1  8.87         1              2  \n",
      "2  8.00         1              3  \n",
      "3  8.67         1              4  \n",
      "4  8.21         0              5  \n"
     ]
    }
   ],
   "source": [
    "df = df.reset_index()\n",
    "print(df.head())\n",
    "# creates a special column to represent the index with default numbers"
   ]
  },
  {
   "cell_type": "code",
   "execution_count": 9,
   "metadata": {},
   "outputs": [
    {
     "name": "stdout",
     "output_type": "stream",
     "text": [
      "   SUMLEV  REGION  DIVISION  STATE  COUNTY   STNAME         CTYNAME  \\\n",
      "0      40       3         6      1       0  Alabama         Alabama   \n",
      "1      50       3         6      1       1  Alabama  Autauga County   \n",
      "2      50       3         6      1       3  Alabama  Baldwin County   \n",
      "3      50       3         6      1       5  Alabama  Barbour County   \n",
      "4      50       3         6      1       7  Alabama     Bibb County   \n",
      "\n",
      "   CENSUS2010POP  ESTIMATESBASE2010  POPESTIMATE2010  ...  RDOMESTICMIG2011  \\\n",
      "0        4779736            4780127          4785161  ...          0.002295   \n",
      "1          54571              54571            54660  ...          7.242091   \n",
      "2         182265             182265           183193  ...         14.832960   \n",
      "3          27457              27457            27341  ...         -4.728132   \n",
      "4          22915              22919            22861  ...         -5.527043   \n",
      "\n",
      "   RDOMESTICMIG2012  RDOMESTICMIG2013  RDOMESTICMIG2014  RDOMESTICMIG2015  \\\n",
      "0         -0.193196          0.381066          0.582002         -0.467369   \n",
      "1         -2.915927         -3.012349          2.265971         -2.530799   \n",
      "2         17.647293         21.845705         19.243287         17.197872   \n",
      "3         -2.500690         -7.056824         -3.904217        -10.543299   \n",
      "4         -5.068871         -6.201001         -0.177537          0.177258   \n",
      "\n",
      "   RNETMIG2011  RNETMIG2012  RNETMIG2013  RNETMIG2014  RNETMIG2015  \n",
      "0     1.030015     0.826644     1.383282     1.724718     0.712594  \n",
      "1     7.606016    -2.626146    -2.722002     2.592270    -2.187333  \n",
      "2    15.844176    18.559627    22.727626    20.317142    18.293499  \n",
      "3    -4.874741    -2.758113    -7.167664    -3.978583   -10.543299  \n",
      "4    -5.088389    -4.363636    -5.403729     0.754533     1.107861  \n",
      "\n",
      "[5 rows x 100 columns]\n"
     ]
    }
   ],
   "source": [
    "df = pd.read_csv(\"census.csv\")\n",
    "print(df.head())"
   ]
  },
  {
   "cell_type": "code",
   "execution_count": 10,
   "metadata": {},
   "outputs": [
    {
     "name": "stdout",
     "output_type": "stream",
     "text": [
      "[40 50]\n"
     ]
    }
   ],
   "source": [
    "print(df[\"SUMLEV\"].unique())\n",
    "# here we can see the set of the values for SUMLEV (40 and 50)"
   ]
  },
  {
   "cell_type": "code",
   "execution_count": 11,
   "metadata": {},
   "outputs": [
    {
     "name": "stdout",
     "output_type": "stream",
     "text": [
      "   SUMLEV  REGION  DIVISION  STATE  COUNTY   STNAME         CTYNAME  \\\n",
      "1      50       3         6      1       1  Alabama  Autauga County   \n",
      "2      50       3         6      1       3  Alabama  Baldwin County   \n",
      "3      50       3         6      1       5  Alabama  Barbour County   \n",
      "4      50       3         6      1       7  Alabama     Bibb County   \n",
      "5      50       3         6      1       9  Alabama   Blount County   \n",
      "\n",
      "   CENSUS2010POP  ESTIMATESBASE2010  POPESTIMATE2010  ...  RDOMESTICMIG2011  \\\n",
      "1          54571              54571            54660  ...          7.242091   \n",
      "2         182265             182265           183193  ...         14.832960   \n",
      "3          27457              27457            27341  ...         -4.728132   \n",
      "4          22915              22919            22861  ...         -5.527043   \n",
      "5          57322              57322            57373  ...          1.807375   \n",
      "\n",
      "   RDOMESTICMIG2012  RDOMESTICMIG2013  RDOMESTICMIG2014  RDOMESTICMIG2015  \\\n",
      "1         -2.915927         -3.012349          2.265971         -2.530799   \n",
      "2         17.647293         21.845705         19.243287         17.197872   \n",
      "3         -2.500690         -7.056824         -3.904217        -10.543299   \n",
      "4         -5.068871         -6.201001         -0.177537          0.177258   \n",
      "5         -1.177622         -1.748766         -2.062535         -1.369970   \n",
      "\n",
      "   RNETMIG2011  RNETMIG2012  RNETMIG2013  RNETMIG2014  RNETMIG2015  \n",
      "1     7.606016    -2.626146    -2.722002     2.592270    -2.187333  \n",
      "2    15.844176    18.559627    22.727626    20.317142    18.293499  \n",
      "3    -4.874741    -2.758113    -7.167664    -3.978583   -10.543299  \n",
      "4    -5.088389    -4.363636    -5.403729     0.754533     1.107861  \n",
      "5     1.859511    -0.848580    -1.402476    -1.577232    -0.884411  \n",
      "\n",
      "[5 rows x 100 columns]\n"
     ]
    }
   ],
   "source": [
    "df = df[df[\"SUMLEV\"] == 50]\n",
    "print(df.head())"
   ]
  },
  {
   "cell_type": "code",
   "execution_count": 13,
   "metadata": {},
   "outputs": [
    {
     "name": "stdout",
     "output_type": "stream",
     "text": [
      "    STNAME         CTYNAME  BIRTHS2010  BIRTHS2011  BIRTHS2012  BIRTHS2013  \\\n",
      "1  Alabama  Autauga County         151         636         615         574   \n",
      "2  Alabama  Baldwin County         517        2187        2092        2160   \n",
      "3  Alabama  Barbour County          70         335         300         283   \n",
      "4  Alabama     Bibb County          44         266         245         259   \n",
      "5  Alabama   Blount County         183         744         710         646   \n",
      "\n",
      "   BIRTHS2014  BIRTHS2015  POPESTIMATE2010  POPESTIMATE2011  POPESTIMATE2012  \\\n",
      "1         623         600            54660            55253            55175   \n",
      "2        2186        2240           183193           186659           190396   \n",
      "3         260         269            27341            27226            27159   \n",
      "4         247         253            22861            22733            22642   \n",
      "5         618         603            57373            57711            57776   \n",
      "\n",
      "   POPESTIMATE2013  POPESTIMATE2014  POPESTIMATE2015  \n",
      "1            55038            55290            55347  \n",
      "2           195126           199713           203709  \n",
      "3            26973            26815            26489  \n",
      "4            22512            22549            22583  \n",
      "5            57734            57658            57673  \n"
     ]
    }
   ],
   "source": [
    "columns_to_keep = [\"STNAME\", \"CTYNAME\", \"BIRTHS2010\", \"BIRTHS2011\", \n",
    "                    \"BIRTHS2012\", \"BIRTHS2013\", \"BIRTHS2014\", \"BIRTHS2015\", \n",
    "                    \"POPESTIMATE2010\", \"POPESTIMATE2011\", \"POPESTIMATE2012\", \n",
    "                    \"POPESTIMATE2013\", \"POPESTIMATE2014\", \"POPESTIMATE2015\"]\n",
    "df = df[columns_to_keep] # reduced data\n",
    "print(df.head())"
   ]
  },
  {
   "cell_type": "code",
   "execution_count": 14,
   "metadata": {},
   "outputs": [
    {
     "name": "stdout",
     "output_type": "stream",
     "text": [
      "                        BIRTHS2010  BIRTHS2011  BIRTHS2012  BIRTHS2013  \\\n",
      "STNAME  CTYNAME                                                          \n",
      "Alabama Autauga County         151         636         615         574   \n",
      "        Baldwin County         517        2187        2092        2160   \n",
      "        Barbour County          70         335         300         283   \n",
      "        Bibb County             44         266         245         259   \n",
      "        Blount County          183         744         710         646   \n",
      "\n",
      "                        BIRTHS2014  BIRTHS2015  POPESTIMATE2010  \\\n",
      "STNAME  CTYNAME                                                   \n",
      "Alabama Autauga County         623         600            54660   \n",
      "        Baldwin County        2186        2240           183193   \n",
      "        Barbour County         260         269            27341   \n",
      "        Bibb County            247         253            22861   \n",
      "        Blount County          618         603            57373   \n",
      "\n",
      "                        POPESTIMATE2011  POPESTIMATE2012  POPESTIMATE2013  \\\n",
      "STNAME  CTYNAME                                                             \n",
      "Alabama Autauga County            55253            55175            55038   \n",
      "        Baldwin County           186659           190396           195126   \n",
      "        Barbour County            27226            27159            26973   \n",
      "        Bibb County               22733            22642            22512   \n",
      "        Blount County             57711            57776            57734   \n",
      "\n",
      "                        POPESTIMATE2014  POPESTIMATE2015  \n",
      "STNAME  CTYNAME                                           \n",
      "Alabama Autauga County            55290            55347  \n",
      "        Baldwin County           199713           203709  \n",
      "        Barbour County            26815            26489  \n",
      "        Bibb County               22549            22583  \n",
      "        Blount County             57658            57673  \n"
     ]
    }
   ],
   "source": [
    "df = df.set_index([\"STNAME\", \"CTYNAME\"]) # by state and by city name\n",
    "print(df.head()) \n",
    "# inside of the index, each columns is a level and the outermost column is level zero"
   ]
  },
  {
   "cell_type": "code",
   "execution_count": 15,
   "metadata": {},
   "outputs": [
    {
     "name": "stdout",
     "output_type": "stream",
     "text": [
      "BIRTHS2010            977\n",
      "BIRTHS2011           3826\n",
      "BIRTHS2012           3780\n",
      "BIRTHS2013           3662\n",
      "BIRTHS2014           3683\n",
      "BIRTHS2015           3709\n",
      "POPESTIMATE2010    345563\n",
      "POPESTIMATE2011    349048\n",
      "POPESTIMATE2012    351213\n",
      "POPESTIMATE2013    354289\n",
      "POPESTIMATE2014    357029\n",
      "POPESTIMATE2015    358880\n",
      "Name: (Michigan, Washtenaw County), dtype: int64\n"
     ]
    }
   ],
   "source": [
    "print(df.loc[\"Michigan\", \"Washtenaw County\"])\n",
    "# informations about this city from the state of Michigan"
   ]
  },
  {
   "cell_type": "code",
   "execution_count": 18,
   "metadata": {},
   "outputs": [
    {
     "data": {
      "text/html": [
       "<div>\n",
       "<style scoped>\n",
       "    .dataframe tbody tr th:only-of-type {\n",
       "        vertical-align: middle;\n",
       "    }\n",
       "\n",
       "    .dataframe tbody tr th {\n",
       "        vertical-align: top;\n",
       "    }\n",
       "\n",
       "    .dataframe thead th {\n",
       "        text-align: right;\n",
       "    }\n",
       "</style>\n",
       "<table border=\"1\" class=\"dataframe\">\n",
       "  <thead>\n",
       "    <tr style=\"text-align: right;\">\n",
       "      <th></th>\n",
       "      <th></th>\n",
       "      <th>BIRTHS2010</th>\n",
       "      <th>BIRTHS2011</th>\n",
       "      <th>BIRTHS2012</th>\n",
       "      <th>BIRTHS2013</th>\n",
       "      <th>BIRTHS2014</th>\n",
       "      <th>BIRTHS2015</th>\n",
       "      <th>POPESTIMATE2010</th>\n",
       "      <th>POPESTIMATE2011</th>\n",
       "      <th>POPESTIMATE2012</th>\n",
       "      <th>POPESTIMATE2013</th>\n",
       "      <th>POPESTIMATE2014</th>\n",
       "      <th>POPESTIMATE2015</th>\n",
       "    </tr>\n",
       "    <tr>\n",
       "      <th>STNAME</th>\n",
       "      <th>CTYNAME</th>\n",
       "      <th></th>\n",
       "      <th></th>\n",
       "      <th></th>\n",
       "      <th></th>\n",
       "      <th></th>\n",
       "      <th></th>\n",
       "      <th></th>\n",
       "      <th></th>\n",
       "      <th></th>\n",
       "      <th></th>\n",
       "      <th></th>\n",
       "      <th></th>\n",
       "    </tr>\n",
       "  </thead>\n",
       "  <tbody>\n",
       "    <tr>\n",
       "      <th rowspan=\"2\" valign=\"top\">Michigan</th>\n",
       "      <th>Washtenaw County</th>\n",
       "      <td>977</td>\n",
       "      <td>3826</td>\n",
       "      <td>3780</td>\n",
       "      <td>3662</td>\n",
       "      <td>3683</td>\n",
       "      <td>3709</td>\n",
       "      <td>345563</td>\n",
       "      <td>349048</td>\n",
       "      <td>351213</td>\n",
       "      <td>354289</td>\n",
       "      <td>357029</td>\n",
       "      <td>358880</td>\n",
       "    </tr>\n",
       "    <tr>\n",
       "      <th>Wayne County</th>\n",
       "      <td>5918</td>\n",
       "      <td>23819</td>\n",
       "      <td>23270</td>\n",
       "      <td>23377</td>\n",
       "      <td>23607</td>\n",
       "      <td>23586</td>\n",
       "      <td>1815199</td>\n",
       "      <td>1801273</td>\n",
       "      <td>1792514</td>\n",
       "      <td>1775713</td>\n",
       "      <td>1766008</td>\n",
       "      <td>1759335</td>\n",
       "    </tr>\n",
       "  </tbody>\n",
       "</table>\n",
       "</div>"
      ],
      "text/plain": [
       "                           BIRTHS2010  BIRTHS2011  BIRTHS2012  BIRTHS2013  \\\n",
       "STNAME   CTYNAME                                                            \n",
       "Michigan Washtenaw County         977        3826        3780        3662   \n",
       "         Wayne County            5918       23819       23270       23377   \n",
       "\n",
       "                           BIRTHS2014  BIRTHS2015  POPESTIMATE2010  \\\n",
       "STNAME   CTYNAME                                                     \n",
       "Michigan Washtenaw County        3683        3709           345563   \n",
       "         Wayne County           23607       23586          1815199   \n",
       "\n",
       "                           POPESTIMATE2011  POPESTIMATE2012  POPESTIMATE2013  \\\n",
       "STNAME   CTYNAME                                                               \n",
       "Michigan Washtenaw County           349048           351213           354289   \n",
       "         Wayne County              1801273          1792514          1775713   \n",
       "\n",
       "                           POPESTIMATE2014  POPESTIMATE2015  \n",
       "STNAME   CTYNAME                                             \n",
       "Michigan Washtenaw County           357029           358880  \n",
       "         Wayne County              1766008          1759335  "
      ]
     },
     "execution_count": 18,
     "metadata": {},
     "output_type": "execute_result"
    }
   ],
   "source": [
    "df.loc[[(\"Michigan\", \"Washtenaw County\"), (\"Michigan\", \"Wayne County\")]]\n",
    "# it should be a list of tuples when we want to know info about more than 1 city"
   ]
  }
 ],
 "metadata": {
  "kernelspec": {
   "display_name": "Python 3",
   "language": "python",
   "name": "python3"
  },
  "language_info": {
   "codemirror_mode": {
    "name": "ipython",
    "version": 3
   },
   "file_extension": ".py",
   "mimetype": "text/x-python",
   "name": "python",
   "nbconvert_exporter": "python",
   "pygments_lexer": "ipython3",
   "version": "3.11.3"
  }
 },
 "nbformat": 4,
 "nbformat_minor": 2
}
