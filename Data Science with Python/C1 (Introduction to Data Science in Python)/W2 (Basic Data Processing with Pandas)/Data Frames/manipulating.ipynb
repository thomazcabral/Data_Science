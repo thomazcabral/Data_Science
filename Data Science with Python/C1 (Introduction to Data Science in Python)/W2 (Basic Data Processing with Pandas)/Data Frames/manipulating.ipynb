{
 "cells": [
  {
   "cell_type": "code",
   "execution_count": 1,
   "metadata": {},
   "outputs": [],
   "source": [
    "import pandas as pd"
   ]
  },
  {
   "cell_type": "code",
   "execution_count": 2,
   "metadata": {},
   "outputs": [
    {
     "name": "stdout",
     "output_type": "stream",
     "text": [
      "   #          President             Born      Age atstart of presidency  \\\n",
      "0  1  George Washington  Feb 22, 1732[a]  57 years, 67 daysApr 30, 1789   \n",
      "1  2         John Adams  Oct 30, 1735[a]  61 years, 125 daysMar 4, 1797   \n",
      "2  3   Thomas Jefferson  Apr 13, 1743[a]  57 years, 325 daysMar 4, 1801   \n",
      "3  4      James Madison  Mar 16, 1751[a]  57 years, 353 daysMar 4, 1809   \n",
      "4  5       James Monroe     Apr 28, 1758  58 years, 310 daysMar 4, 1817   \n",
      "\n",
      "         Age atend of presidency Post-presidencytimespan          Died  \\\n",
      "0   65 years, 10 daysMar 4, 1797       2 years, 285 days  Dec 14, 1799   \n",
      "1  65 years, 125 daysMar 4, 1801      25 years, 122 days   Jul 4, 1826   \n",
      "2  65 years, 325 daysMar 4, 1809      17 years, 122 days   Jul 4, 1826   \n",
      "3  65 years, 353 daysMar 4, 1817      19 years, 116 days  Jun 28, 1836   \n",
      "4  66 years, 310 daysMar 4, 1825       6 years, 122 days   Jul 4, 1831   \n",
      "\n",
      "                  Age  \n",
      "0  67 years, 295 days  \n",
      "1  90 years, 247 days  \n",
      "2   83 years, 82 days  \n",
      "3  85 years, 104 days  \n",
      "4   73 years, 67 days  \n"
     ]
    }
   ],
   "source": [
    "df = pd.read_csv(\"presidents.csv\")\n",
    "print(df.head())"
   ]
  },
  {
   "cell_type": "code",
   "execution_count": 3,
   "metadata": {},
   "outputs": [
    {
     "name": "stdout",
     "output_type": "stream",
     "text": [
      "   #          President             Born      Age atstart of presidency  \\\n",
      "0  1  George Washington  Feb 22, 1732[a]  57 years, 67 daysApr 30, 1789   \n",
      "1  2         John Adams  Oct 30, 1735[a]  61 years, 125 daysMar 4, 1797   \n",
      "2  3   Thomas Jefferson  Apr 13, 1743[a]  57 years, 325 daysMar 4, 1801   \n",
      "3  4      James Madison  Mar 16, 1751[a]  57 years, 353 daysMar 4, 1809   \n",
      "4  5       James Monroe     Apr 28, 1758  58 years, 310 daysMar 4, 1817   \n",
      "\n",
      "         Age atend of presidency Post-presidencytimespan          Died  \\\n",
      "0   65 years, 10 daysMar 4, 1797       2 years, 285 days  Dec 14, 1799   \n",
      "1  65 years, 125 daysMar 4, 1801      25 years, 122 days   Jul 4, 1826   \n",
      "2  65 years, 325 daysMar 4, 1809      17 years, 122 days   Jul 4, 1826   \n",
      "3  65 years, 353 daysMar 4, 1817      19 years, 116 days  Jun 28, 1836   \n",
      "4  66 years, 310 daysMar 4, 1825       6 years, 122 days   Jul 4, 1831   \n",
      "\n",
      "                  Age   First  \n",
      "0  67 years, 295 days  George  \n",
      "1  90 years, 247 days    John  \n",
      "2   83 years, 82 days  Thomas  \n",
      "3  85 years, 104 days   James  \n",
      "4   73 years, 67 days   James  \n"
     ]
    }
   ],
   "source": [
    "df[\"First\"] = df[\"President\"]\n",
    "df[\"First\"] = df[\"First\"].replace(\"[ ].*\", \"\", regex=True)\n",
    "print(df.head())\n",
    "# many copies and very slow"
   ]
  },
  {
   "cell_type": "code",
   "execution_count": 8,
   "metadata": {},
   "outputs": [
    {
     "name": "stdout",
     "output_type": "stream",
     "text": [
      "   #          President             Born      Age atstart of presidency  \\\n",
      "0  1  George Washington  Feb 22, 1732[a]  57 years, 67 daysApr 30, 1789   \n",
      "1  2         John Adams  Oct 30, 1735[a]  61 years, 125 daysMar 4, 1797   \n",
      "2  3   Thomas Jefferson  Apr 13, 1743[a]  57 years, 325 daysMar 4, 1801   \n",
      "3  4      James Madison  Mar 16, 1751[a]  57 years, 353 daysMar 4, 1809   \n",
      "4  5       James Monroe     Apr 28, 1758  58 years, 310 daysMar 4, 1817   \n",
      "\n",
      "         Age atend of presidency Post-presidencytimespan          Died  \\\n",
      "0   65 years, 10 daysMar 4, 1797       2 years, 285 days  Dec 14, 1799   \n",
      "1  65 years, 125 daysMar 4, 1801      25 years, 122 days   Jul 4, 1826   \n",
      "2  65 years, 325 daysMar 4, 1809      17 years, 122 days   Jul 4, 1826   \n",
      "3  65 years, 353 daysMar 4, 1817      19 years, 116 days  Jun 28, 1836   \n",
      "4  66 years, 310 daysMar 4, 1825       6 years, 122 days   Jul 4, 1831   \n",
      "\n",
      "                  Age   First        Last  \n",
      "0  67 years, 295 days  George  Washington  \n",
      "1  90 years, 247 days    John       Adams  \n",
      "2   83 years, 82 days  Thomas   Jefferson  \n",
      "3  85 years, 104 days   James     Madison  \n",
      "4   73 years, 67 days   James      Monroe  \n"
     ]
    }
   ],
   "source": [
    "def split_name(row):\n",
    "    row[\"First\"] = row[\"President\"].split(\" \")[0]\n",
    "    row[\"Last\"] = row[\"President\"].split(\" \")[-1] # avoid middle names\n",
    "    return row\n",
    "\n",
    "df = df.apply(split_name, axis=\"columns\") # apparently faster than the code above\n",
    "print(df.head())"
   ]
  },
  {
   "cell_type": "code",
   "execution_count": 12,
   "metadata": {},
   "outputs": [
    {
     "name": "stdout",
     "output_type": "stream",
     "text": [
      "        0           1\n",
      "0  George  Washington\n",
      "1    John       Adams\n",
      "2  Thomas   Jefferson\n",
      "3   James     Madison\n",
      "4   James      Monroe\n"
     ]
    }
   ],
   "source": [
    "pattern = \"(^[\\w]*)(?:.* )([\\w]*$)\"\n",
    "# 1st group: any char until a space in the beggining\n",
    "# 2nd group: any char and space\n",
    "# 3rd group: any char in the end\n",
    "\n",
    "print(df[\"President\"].str.extract(pattern).head())"
   ]
  },
  {
   "cell_type": "code",
   "execution_count": 13,
   "metadata": {},
   "outputs": [
    {
     "name": "stdout",
     "output_type": "stream",
     "text": [
      "    First        Last\n",
      "0  George  Washington\n",
      "1    John       Adams\n",
      "2  Thomas   Jefferson\n",
      "3   James     Madison\n",
      "4   James      Monroe\n"
     ]
    }
   ],
   "source": [
    "pattern = \"(?P<First>^[\\w]*)(?:.* )(?P<Last>[\\w]*$)\" # naming the groups\n",
    "names = df[\"President\"].str.extract(pattern).head()\n",
    "print(names)"
   ]
  },
  {
   "cell_type": "code",
   "execution_count": 14,
   "metadata": {},
   "outputs": [
    {
     "name": "stdout",
     "output_type": "stream",
     "text": [
      "   #          President             Born      Age atstart of presidency  \\\n",
      "0  1  George Washington  Feb 22, 1732[a]  57 years, 67 daysApr 30, 1789   \n",
      "1  2         John Adams  Oct 30, 1735[a]  61 years, 125 daysMar 4, 1797   \n",
      "2  3   Thomas Jefferson  Apr 13, 1743[a]  57 years, 325 daysMar 4, 1801   \n",
      "3  4      James Madison  Mar 16, 1751[a]  57 years, 353 daysMar 4, 1809   \n",
      "4  5       James Monroe     Apr 28, 1758  58 years, 310 daysMar 4, 1817   \n",
      "\n",
      "         Age atend of presidency Post-presidencytimespan          Died  \\\n",
      "0   65 years, 10 daysMar 4, 1797       2 years, 285 days  Dec 14, 1799   \n",
      "1  65 years, 125 daysMar 4, 1801      25 years, 122 days   Jul 4, 1826   \n",
      "2  65 years, 325 daysMar 4, 1809      17 years, 122 days   Jul 4, 1826   \n",
      "3  65 years, 353 daysMar 4, 1817      19 years, 116 days  Jun 28, 1836   \n",
      "4  66 years, 310 daysMar 4, 1825       6 years, 122 days   Jul 4, 1831   \n",
      "\n",
      "                  Age   First        Last  \n",
      "0  67 years, 295 days  George  Washington  \n",
      "1  90 years, 247 days    John       Adams  \n",
      "2   83 years, 82 days  Thomas   Jefferson  \n",
      "3  85 years, 104 days   James     Madison  \n",
      "4   73 years, 67 days   James      Monroe  \n"
     ]
    }
   ],
   "source": [
    "df[\"First\"] = names[\"First\"]\n",
    "df[\"Last\"] = names[\"Last\"]\n",
    "print(df.head())"
   ]
  },
  {
   "cell_type": "code",
   "execution_count": null,
   "metadata": {},
   "outputs": [],
   "source": [
    "df[\"Born\"]=df[\"Born\"].str.extract(\"([\\w]{3} [\\w]{1,2}, [\\w]{4})\")\n",
    "df[\"Born\"].head()\n",
    "# this was supposed to unify the dates but for some reason it is not working properly"
   ]
  },
  {
   "cell_type": "code",
   "execution_count": null,
   "metadata": {},
   "outputs": [],
   "source": [
    "df[\"Born\"] = pd.to_datetime(df[\"Born\"])\n",
    "df[\"Born\"].head()\n",
    "# this was supposed to convert the date to literal date time, which is an interesting Pandas feature"
   ]
  }
 ],
 "metadata": {
  "kernelspec": {
   "display_name": "Python 3",
   "language": "python",
   "name": "python3"
  },
  "language_info": {
   "codemirror_mode": {
    "name": "ipython",
    "version": 3
   },
   "file_extension": ".py",
   "mimetype": "text/x-python",
   "name": "python",
   "nbconvert_exporter": "python",
   "pygments_lexer": "ipython3",
   "version": "3.11.3"
  }
 },
 "nbformat": 4,
 "nbformat_minor": 2
}
