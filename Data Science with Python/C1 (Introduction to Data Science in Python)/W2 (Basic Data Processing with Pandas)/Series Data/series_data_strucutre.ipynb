{
 "cells": [
  {
   "cell_type": "code",
   "execution_count": 12,
   "metadata": {},
   "outputs": [],
   "source": [
    "import pandas as pd\n",
    "import numpy as np"
   ]
  },
  {
   "cell_type": "code",
   "execution_count": 7,
   "metadata": {},
   "outputs": [
    {
     "name": "stdout",
     "output_type": "stream",
     "text": [
      "0    Alice\n",
      "1     Jack\n",
      "2    Molly\n",
      "dtype: object\n"
     ]
    }
   ],
   "source": [
    "students = [\"Alice\", \"Jack\", \"Molly\"]\n",
    "print(pd.Series(students))\n",
    "# series is a data structure which is a cross between a list and a dictionary"
   ]
  },
  {
   "cell_type": "code",
   "execution_count": 8,
   "metadata": {},
   "outputs": [
    {
     "name": "stdout",
     "output_type": "stream",
     "text": [
      "0    1\n",
      "1    2\n",
      "2    3\n",
      "dtype: int64\n"
     ]
    }
   ],
   "source": [
    "numbers = [1, 2, 3]\n",
    "print(pd.Series(numbers))"
   ]
  },
  {
   "cell_type": "code",
   "execution_count": 9,
   "metadata": {},
   "outputs": [
    {
     "name": "stdout",
     "output_type": "stream",
     "text": [
      "0    Alice\n",
      "1     Jack\n",
      "2     None\n",
      "dtype: object\n"
     ]
    }
   ],
   "source": [
    "students = [\"Alice\", \"Jack\", None]\n",
    "print(pd.Series(students))"
   ]
  },
  {
   "cell_type": "code",
   "execution_count": 15,
   "metadata": {},
   "outputs": [
    {
     "name": "stdout",
     "output_type": "stream",
     "text": [
      "0    1.0\n",
      "1    2.0\n",
      "2    NaN\n",
      "dtype: float64\n",
      "False\n"
     ]
    }
   ],
   "source": [
    "numbers = [1, 2, None]\n",
    "print(pd.Series(numbers))\n",
    "# NaN stands for Not a Number\n",
    "# dtype here is float because pandas represents NaN as a floating point number\n",
    "# NaN is not equivalent to None even though both represent lack of data\n",
    "print(np.nan == None)"
   ]
  },
  {
   "cell_type": "code",
   "execution_count": 18,
   "metadata": {},
   "outputs": [
    {
     "name": "stdout",
     "output_type": "stream",
     "text": [
      "Alice      Physics\n",
      "Jack     Chemistry\n",
      "Molly      English\n",
      "dtype: object\n"
     ]
    }
   ],
   "source": [
    "students_dict = {\"Alice\": \"Physics\", \"Jack\": \"Chemistry\", \"Molly\": \"English\"}\n",
    "series = pd.Series(students_dict)\n",
    "print(series)"
   ]
  },
  {
   "cell_type": "code",
   "execution_count": 19,
   "metadata": {},
   "outputs": [
    {
     "name": "stdout",
     "output_type": "stream",
     "text": [
      "Index(['Alice', 'Jack', 'Molly'], dtype='object')\n"
     ]
    }
   ],
   "source": [
    "print(series.index) # a lot of things are implemented as a numpy array"
   ]
  },
  {
   "cell_type": "code",
   "execution_count": 20,
   "metadata": {},
   "outputs": [
    {
     "name": "stdout",
     "output_type": "stream",
     "text": [
      "0    (Alice, Brown)\n",
      "1     (Jack, White)\n",
      "2    (Molly, Green)\n",
      "dtype: object\n"
     ]
    }
   ],
   "source": [
    "students = [(\"Alice\", \"Brown\"), (\"Jack\", \"White\"), (\"Molly\", \"Green\")]\n",
    "print(pd.Series(students))"
   ]
  },
  {
   "cell_type": "code",
   "execution_count": 21,
   "metadata": {},
   "outputs": [
    {
     "name": "stdout",
     "output_type": "stream",
     "text": [
      "Alice      Physics\n",
      "Jack     Chemistry\n",
      "Molly      English\n",
      "dtype: object\n"
     ]
    }
   ],
   "source": [
    "series = pd.Series([\"Physics\", \"Chemistry\", \"English\"], index=[\"Alice\", \"Jack\", \"Molly\"])\n",
    "print(series)"
   ]
  },
  {
   "cell_type": "code",
   "execution_count": 23,
   "metadata": {},
   "outputs": [
    {
     "name": "stdout",
     "output_type": "stream",
     "text": [
      "Alice    Physics\n",
      "Molly    English\n",
      "Sam          NaN\n",
      "dtype: object\n"
     ]
    }
   ],
   "source": [
    "students_dict = {\"Alice\": \"Physics\", \"Jack\": \"Chemistry\", \"Molly\": \"English\"}\n",
    "series = pd.Series(students_dict, index=[\"Alice\", \"Molly\", \"Sam\"])\n",
    "print(series)\n",
    "# It only appears the people mentioned in the index parameter"
   ]
  }
 ],
 "metadata": {
  "kernelspec": {
   "display_name": "Python 3",
   "language": "python",
   "name": "python3"
  },
  "language_info": {
   "codemirror_mode": {
    "name": "ipython",
    "version": 3
   },
   "file_extension": ".py",
   "mimetype": "text/x-python",
   "name": "python",
   "nbconvert_exporter": "python",
   "pygments_lexer": "ipython3",
   "version": "3.11.3"
  }
 },
 "nbformat": 4,
 "nbformat_minor": 2
}
