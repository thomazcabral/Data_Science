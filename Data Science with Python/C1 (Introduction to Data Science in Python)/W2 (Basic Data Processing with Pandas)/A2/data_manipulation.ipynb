{
 "cells": [
  {
   "cell_type": "code",
   "execution_count": 1,
   "metadata": {},
   "outputs": [],
   "source": [
    "import pandas as pd\n",
    "import numpy as np \n",
    "import re"
   ]
  },
  {
   "cell_type": "code",
   "execution_count": 14,
   "metadata": {},
   "outputs": [
    {
     "name": "stdout",
     "output_type": "stream",
     "text": [
      "Index(['Id', 'Model', 'Price', 'Age_08_04', 'Mfg_Month', 'Mfg_Year', 'KM',\n",
      "       'Fuel_Type', 'HP', 'Met_Color', 'Color', 'Automatic', 'CC', 'Doors',\n",
      "       'Cylinders', 'Gears', 'Quarterly_Tax', 'Weight', 'Mfr_Guarantee',\n",
      "       'BOVAG_Guarantee', 'Guarantee_Period', 'ABS', 'Airbag_1', 'Airbag_2',\n",
      "       'Airco', 'Automatic_airco', 'Boardcomputer', 'CD_Player',\n",
      "       'Central_Lock', 'Powered_Windows', 'Power_Steering', 'Radio',\n",
      "       'Mistlamps', 'Sport_Model', 'Backseat_Divider', 'Metallic_Rim',\n",
      "       'Radio_cassette', 'Parking_Assistant', 'Tow_Bar'],\n",
      "      dtype='object')\n"
     ]
    }
   ],
   "source": [
    "file = pd.read_csv(\"ToyotaCorolla.csv\")\n",
    "df = pd.DataFrame(file)\n",
    "print(df.columns)"
   ]
  },
  {
   "cell_type": "code",
   "execution_count": 15,
   "metadata": {},
   "outputs": [
    {
     "name": "stdout",
     "output_type": "stream",
     "text": [
      "                                            Model  Price  Age_08_04  \\\n",
      "Id                                                                    \n",
      "1   TOYOTA Corolla 2.0 D4D HATCHB TERRA 2/3-Doors  13500         23   \n",
      "2   TOYOTA Corolla 2.0 D4D HATCHB TERRA 2/3-Doors  13750         23   \n",
      "3   TOYOTA Corolla 2.0 D4D HATCHB TERRA 2/3-Doors  13950         24   \n",
      "4   TOYOTA Corolla 2.0 D4D HATCHB TERRA 2/3-Doors  14950         26   \n",
      "5     TOYOTA Corolla 2.0 D4D HATCHB SOL 2/3-Doors  13750         30   \n",
      "\n",
      "    Mfg_Month  Mfg_Year     KM Fuel_Type  HP  Met_Color   Color  ...  \\\n",
      "Id                                                               ...   \n",
      "1          10      2002  46986    Diesel  90          1    Blue  ...   \n",
      "2          10      2002  72937    Diesel  90          1  Silver  ...   \n",
      "3           9      2002  41711    Diesel  90          1    Blue  ...   \n",
      "4           7      2002  48000    Diesel  90          0   Black  ...   \n",
      "5           3      2002  38500    Diesel  90          0   Black  ...   \n",
      "\n",
      "    Powered_Windows  Power_Steering  Radio  Mistlamps  Sport_Model  \\\n",
      "Id                                                                   \n",
      "1                 1               1      0          0            0   \n",
      "2                 0               1      0          0            0   \n",
      "3                 0               1      0          0            0   \n",
      "4                 0               1      0          0            0   \n",
      "5                 1               1      0          1            0   \n",
      "\n",
      "    Backseat_Divider  Metallic_Rim  Radio_cassette  Parking_Assistant  Tow_Bar  \n",
      "Id                                                                              \n",
      "1                  1             0               0                  0        0  \n",
      "2                  1             0               0                  0        0  \n",
      "3                  1             0               0                  0        0  \n",
      "4                  1             0               0                  0        0  \n",
      "5                  1             0               0                  0        0  \n",
      "\n",
      "[5 rows x 38 columns]\n"
     ]
    }
   ],
   "source": [
    "df.set_index(\"Id\", inplace=True) # removes the useless index which pandas created, inplace=True to change in the df itself\n",
    "print(df.head())"
   ]
  },
  {
   "cell_type": "code",
   "execution_count": 16,
   "metadata": {},
   "outputs": [
    {
     "name": "stdout",
     "output_type": "stream",
     "text": [
      "   Met_Color Automatic Mfr_Guarantee BOVAG_Guarantee  ABS Airbag_1 Airbag_2  \\\n",
      "Id                                                                            \n",
      "1        Yes        No            No             Yes  Yes      Yes      Yes   \n",
      "2        Yes        No            No             Yes  Yes      Yes      Yes   \n",
      "3        Yes        No           Yes             Yes  Yes      Yes      Yes   \n",
      "4         No        No           Yes             Yes  Yes      Yes      Yes   \n",
      "5         No        No           Yes             Yes  Yes      Yes      Yes   \n",
      "\n",
      "   Airco Automatic_airco Boardcomputer  ... Powered_Windows Power_Steering  \\\n",
      "Id                                      ...                                  \n",
      "1     No              No           Yes  ...             Yes            Yes   \n",
      "2    Yes              No           Yes  ...              No            Yes   \n",
      "3     No              No           Yes  ...              No            Yes   \n",
      "4     No              No           Yes  ...              No            Yes   \n",
      "5    Yes              No           Yes  ...             Yes            Yes   \n",
      "\n",
      "   Radio Mistlamps Sport_Model Backseat_Divider Metallic_Rim Radio_cassette  \\\n",
      "Id                                                                            \n",
      "1     No        No          No              Yes           No             No   \n",
      "2     No        No          No              Yes           No             No   \n",
      "3     No        No          No              Yes           No             No   \n",
      "4     No        No          No              Yes           No             No   \n",
      "5     No       Yes          No              Yes           No             No   \n",
      "\n",
      "   Parking_Assistant Tow_Bar  \n",
      "Id                            \n",
      "1                 No      No  \n",
      "2                 No      No  \n",
      "3                 No      No  \n",
      "4                 No      No  \n",
      "5                 No      No  \n",
      "\n",
      "[5 rows x 22 columns]\n"
     ]
    }
   ],
   "source": [
    "columns_true_false = [\"Met_Color\", \"Automatic\", \"Mfr_Guarantee\", \"BOVAG_Guarantee\", \"ABS\", \"Airbag_1\", \"Airbag_2\", \"Airco\", \"Automatic_airco\", \"Boardcomputer\", \"CD_Player\", \"Central_Lock\", \"Powered_Windows\", \"Power_Steering\", \"Radio\", \"Mistlamps\", \"Sport_Model\", \"Backseat_Divider\", \"Metallic_Rim\", \"Radio_cassette\", \"Parking_Assistant\", \"Tow_Bar\"]\n",
    "df[columns_true_false] = df[columns_true_false].replace({0: \"No\", 1: \"Yes\"}) # changes all 0 to No and 1 to Yes\n",
    "print(df[columns_true_false].head())"
   ]
  },
  {
   "cell_type": "code",
   "execution_count": 17,
   "metadata": {},
   "outputs": [
    {
     "name": "stdout",
     "output_type": "stream",
     "text": [
      "Empty DataFrame\n",
      "Columns: [Model, Price, Age_08_04, Mfg_Month, Mfg_Year, KM, Fuel_Type, HP, Met_Color, Color, Automatic, CC, Doors, Cylinders, Gears, Quarterly_Tax, Weight, Mfr_Guarantee, BOVAG_Guarantee, Guarantee_Period, ABS, Airbag_1, Airbag_2, Airco, Automatic_airco, Boardcomputer, CD_Player, Central_Lock, Powered_Windows, Power_Steering, Radio, Mistlamps, Sport_Model, Backseat_Divider, Metallic_Rim, Radio_cassette, Parking_Assistant, Tow_Bar]\n",
      "Index: []\n",
      "\n",
      "[0 rows x 38 columns]\n"
     ]
    }
   ],
   "source": [
    "nan_rows = df[df.isna().any(axis=1)] # checking for any nan values, which were not found\n",
    "print(nan_rows)"
   ]
  },
  {
   "cell_type": "code",
   "execution_count": 18,
   "metadata": {},
   "outputs": [
    {
     "name": "stdout",
     "output_type": "stream",
     "text": [
      "                                            Model  Price  Age_08_04  \\\n",
      "Id                                                                    \n",
      "1   TOYOTA Corolla 2.0 D4D HATCHB TERRA 2/3-Doors  13500         23   \n",
      "2   TOYOTA Corolla 2.0 D4D HATCHB TERRA 2/3-Doors  13750         23   \n",
      "3   TOYOTA Corolla 2.0 D4D HATCHB TERRA 2/3-Doors  13950         24   \n",
      "4   TOYOTA Corolla 2.0 D4D HATCHB TERRA 2/3-Doors  14950         26   \n",
      "5     TOYOTA Corolla 2.0 D4D HATCHB SOL 2/3-Doors  13750         30   \n",
      "\n",
      "    Mfg_Month  Mfg_Year     KM Fuel_Type  HP Met_Color   Color  ...  \\\n",
      "Id                                                              ...   \n",
      "1          10      2002  46986    Diesel  90       Yes    Blue  ...   \n",
      "2          10      2002  72937    Diesel  90       Yes  Silver  ...   \n",
      "3           9      2002  41711    Diesel  90       Yes    Blue  ...   \n",
      "4           7      2002  48000    Diesel  90        No   Black  ...   \n",
      "5           3      2002  38500    Diesel  90        No   Black  ...   \n",
      "\n",
      "   Powered_Windows  Power_Steering  Radio  Mistlamps  Sport_Model  \\\n",
      "Id                                                                  \n",
      "1              Yes             Yes     No         No           No   \n",
      "2               No             Yes     No         No           No   \n",
      "3               No             Yes     No         No           No   \n",
      "4               No             Yes     No         No           No   \n",
      "5              Yes             Yes     No        Yes           No   \n",
      "\n",
      "    Backseat_Divider  Metallic_Rim Radio_cassette Parking_Assistant  Tow_Bar  \n",
      "Id                                                                            \n",
      "1                Yes            No             No                No       No  \n",
      "2                Yes            No             No                No       No  \n",
      "3                Yes            No             No                No       No  \n",
      "4                Yes            No             No                No       No  \n",
      "5                Yes            No             No                No       No  \n",
      "\n",
      "[5 rows x 38 columns]\n"
     ]
    }
   ],
   "source": [
    "duplicates = df.duplicated().sum() # 1 duplicated row\n",
    "df.drop_duplicates(inplace=True)\n",
    "print(df.head())"
   ]
  },
  {
   "cell_type": "code",
   "execution_count": 19,
   "metadata": {},
   "outputs": [
    {
     "name": "stdout",
     "output_type": "stream",
     "text": [
      "    Mfg_Month  Mfg_Year\n",
      "Id                     \n",
      "1          10      2002\n",
      "2          10      2002\n",
      "3           9      2002\n",
      "4           7      2002\n",
      "5           3      2002\n"
     ]
    }
   ],
   "source": [
    "date_columns = [\"Mfg_Month\", \"Mfg_Year\"] # columns to change to date\n",
    "print(df[date_columns].head())"
   ]
  },
  {
   "cell_type": "code",
   "execution_count": 20,
   "metadata": {},
   "outputs": [
    {
     "name": "stdout",
     "output_type": "stream",
     "text": [
      "                                            Model  Price  Age_08_04     KM  \\\n",
      "Id                                                                           \n",
      "1   TOYOTA Corolla 2.0 D4D HATCHB TERRA 2/3-Doors  13500         23  46986   \n",
      "2   TOYOTA Corolla 2.0 D4D HATCHB TERRA 2/3-Doors  13750         23  72937   \n",
      "3   TOYOTA Corolla 2.0 D4D HATCHB TERRA 2/3-Doors  13950         24  41711   \n",
      "4   TOYOTA Corolla 2.0 D4D HATCHB TERRA 2/3-Doors  14950         26  48000   \n",
      "5     TOYOTA Corolla 2.0 D4D HATCHB SOL 2/3-Doors  13750         30  38500   \n",
      "\n",
      "   Fuel_Type  HP Met_Color   Color Automatic    CC  ...  Power_Steering  \\\n",
      "Id                                                  ...                   \n",
      "1     Diesel  90       Yes    Blue        No  2000  ...             Yes   \n",
      "2     Diesel  90       Yes  Silver        No  2000  ...             Yes   \n",
      "3     Diesel  90       Yes    Blue        No  2000  ...             Yes   \n",
      "4     Diesel  90        No   Black        No  2000  ...             Yes   \n",
      "5     Diesel  90        No   Black        No  2000  ...             Yes   \n",
      "\n",
      "    Radio  Mistlamps  Sport_Model  Backseat_Divider Metallic_Rim  \\\n",
      "Id                                                                 \n",
      "1      No         No           No               Yes           No   \n",
      "2      No         No           No               Yes           No   \n",
      "3      No         No           No               Yes           No   \n",
      "4      No         No           No               Yes           No   \n",
      "5      No        Yes           No               Yes           No   \n",
      "\n",
      "   Radio_cassette  Parking_Assistant Tow_Bar Manufacture_Date  \n",
      "Id                                                             \n",
      "1              No                 No      No       2002-10-01  \n",
      "2              No                 No      No       2002-10-01  \n",
      "3              No                 No      No       2002-09-01  \n",
      "4              No                 No      No       2002-07-01  \n",
      "5              No                 No      No       2002-03-01  \n",
      "\n",
      "[5 rows x 37 columns]\n"
     ]
    }
   ],
   "source": [
    "df[\"Manufacture_Date\"] = pd.to_datetime(df[date_columns].astype(str).agg('-'.join, axis=1), format=\"%m-%Y\")\n",
    "# first, create a column named Manufacture Date, which converts date_columns to time (assuming the day is 01) in the format month-year. Axis=1 for column, - to make the date clearer\n",
    "df.drop(date_columns, axis=1, inplace=True) # removes the month and year columns in the df itself with no need to create a copy\n",
    "print(df.head())"
   ]
  },
  {
   "cell_type": "code",
   "execution_count": 21,
   "metadata": {},
   "outputs": [
    {
     "name": "stdout",
     "output_type": "stream",
     "text": [
      "Id\n",
      "1           TOYOTA Corolla 2.0 D4D HATCHB TERRA 2/3-Doors\n",
      "2           TOYOTA Corolla 2.0 D4D HATCHB TERRA 2/3-Doors\n",
      "3           TOYOTA Corolla 2.0 D4D HATCHB TERRA 2/3-Doors\n",
      "4           TOYOTA Corolla 2.0 D4D HATCHB TERRA 2/3-Doors\n",
      "5             TOYOTA Corolla 2.0 D4D HATCHB SOL 2/3-Doors\n",
      "                              ...                        \n",
      "1438           TOYOTA Corolla 1.3 16V HATCHB G6 2/3-Doors\n",
      "1439    TOYOTA Corolla 1.3 16V HATCHB LINEA TERRA 2/3-...\n",
      "1440    TOYOTA Corolla 1.3 16V HATCHB LINEA TERRA 2/3-...\n",
      "1441    TOYOTA Corolla 1.3 16V HATCHB LINEA TERRA 2/3-...\n",
      "1442          TOYOTA Corolla 1.6 LB LINEA TERRA 4/5-Doors\n",
      "Name: Model, Length: 1435, dtype: object\n",
      "\n",
      "\n",
      "Id\n",
      "1             TOYOTA Corolla 2.0 D4D HATCHB TERRA\n",
      "2             TOYOTA Corolla 2.0 D4D HATCHB TERRA\n",
      "3             TOYOTA Corolla 2.0 D4D HATCHB TERRA\n",
      "4             TOYOTA Corolla 2.0 D4D HATCHB TERRA\n",
      "5               TOYOTA Corolla 2.0 D4D HATCHB SOL\n",
      "                          ...                    \n",
      "1438             TOYOTA Corolla 1.3 16V HATCHB G6\n",
      "1439    TOYOTA Corolla 1.3 16V HATCHB LINEA TERRA\n",
      "1440    TOYOTA Corolla 1.3 16V HATCHB LINEA TERRA\n",
      "1441    TOYOTA Corolla 1.3 16V HATCHB LINEA TERRA\n",
      "1442            TOYOTA Corolla 1.6 LB LINEA TERRA\n",
      "Name: Model, Length: 1435, dtype: object\n"
     ]
    }
   ],
   "source": [
    "print(df[\"Model\"]) # note that the model column tells us how many doors the car has even though there is a column with this function, so we'll remove the doors infos here\n",
    "pattern = r'\\s*\\d+/\\d+-Doors' # the regex pattern used to identify the doors section in the string\n",
    "df[\"Model\"] = df[\"Model\"].str.replace(pattern, '', regex=True) # replacing the doors section with nothing\n",
    "print(\"\\n\")\n",
    "print(df[\"Model\"]) # doors section removed"
   ]
  },
  {
   "cell_type": "code",
   "execution_count": 22,
   "metadata": {},
   "outputs": [
    {
     "name": "stdout",
     "output_type": "stream",
     "text": [
      "                                  Model  Price  Age_08_04     KM Fuel_Type  \\\n",
      "Id                                                                           \n",
      "1   Toyota Corolla 2.0 D4D Hatchb Terra  13500         23  46986    Diesel   \n",
      "2   Toyota Corolla 2.0 D4D Hatchb Terra  13750         23  72937    Diesel   \n",
      "3   Toyota Corolla 2.0 D4D Hatchb Terra  13950         24  41711    Diesel   \n",
      "4   Toyota Corolla 2.0 D4D Hatchb Terra  14950         26  48000    Diesel   \n",
      "5     Toyota Corolla 2.0 D4D Hatchb Sol  13750         30  38500    Diesel   \n",
      "\n",
      "    HP Met_Color   Color Automatic    CC  ...  Power_Steering  Radio  \\\n",
      "Id                                        ...                          \n",
      "1   90       Yes    Blue        No  2000  ...             Yes     No   \n",
      "2   90       Yes  Silver        No  2000  ...             Yes     No   \n",
      "3   90       Yes    Blue        No  2000  ...             Yes     No   \n",
      "4   90        No   Black        No  2000  ...             Yes     No   \n",
      "5   90        No   Black        No  2000  ...             Yes     No   \n",
      "\n",
      "    Mistlamps  Sport_Model  Backseat_Divider Metallic_Rim Radio_cassette  \\\n",
      "Id                                                                         \n",
      "1          No           No               Yes           No             No   \n",
      "2          No           No               Yes           No             No   \n",
      "3          No           No               Yes           No             No   \n",
      "4          No           No               Yes           No             No   \n",
      "5         Yes           No               Yes           No             No   \n",
      "\n",
      "    Parking_Assistant Tow_Bar Manufacture_Date  \n",
      "Id                                              \n",
      "1                  No      No       2002-10-01  \n",
      "2                  No      No       2002-10-01  \n",
      "3                  No      No       2002-09-01  \n",
      "4                  No      No       2002-07-01  \n",
      "5                  No      No       2002-03-01  \n",
      "\n",
      "[5 rows x 37 columns]\n"
     ]
    }
   ],
   "source": [
    "df[\"Model\"] = df[\"Model\"].str.title() # the model column is too ugly since almost every char is uppercase, that needs to be changed\n",
    "print(df.head())"
   ]
  },
  {
   "cell_type": "code",
   "execution_count": 23,
   "metadata": {},
   "outputs": [
    {
     "name": "stdout",
     "output_type": "stream",
     "text": [
      "Id\n",
      "1                 Low\n",
      "2            Very low\n",
      "3                 Low\n",
      "4                 Low\n",
      "5                 Low\n",
      "6                 Low\n",
      "7            Very low\n",
      "8                 Low\n",
      "9     Incredibly high\n",
      "10           Very low\n",
      "11               High\n",
      "12             Medium\n",
      "13               High\n",
      "14          Very high\n",
      "15               High\n",
      "16    Incredibly high\n",
      "17               High\n",
      "18          Very high\n",
      "19               High\n",
      "20                Low\n",
      "Name: Cost_Benefit_Category, dtype: category\n",
      "Categories (6, object): ['Very low' < 'Low' < 'Medium' < 'High' < 'Very high' < 'Incredibly high']\n"
     ]
    }
   ],
   "source": [
    "bins = [0, 0.2, 0.4, 0.6, 0.8, 1, 100000] # bins to create discrete values for a column to be created\n",
    "labels = [\"Very low\", \"Low\", \"Medium\", \"High\", \"Very high\", \"Incredibly high\"] # names of the discrete values\n",
    "df[\"Cost_Benefit\"] = df[\"Price\"] / df[\"KM\"] # creating a temporary column to represent a relation between price and km\n",
    "df[\"Cost_Benefit_Category\"] = pd.cut(df[\"Cost_Benefit\"], bins=bins, labels=labels, right=False) # real column to represent the cost benefit discretally\n",
    "df.drop(\"Cost_Benefit\", axis=1, inplace=True) # removing the temporary column in the df itself\n",
    "print(df[\"Cost_Benefit_Category\"].head(20)) # printing some columns to see that everything is allright"
   ]
  }
 ],
 "metadata": {
  "kernelspec": {
   "display_name": "Python 3",
   "language": "python",
   "name": "python3"
  },
  "language_info": {
   "codemirror_mode": {
    "name": "ipython",
    "version": 3
   },
   "file_extension": ".py",
   "mimetype": "text/x-python",
   "name": "python",
   "nbconvert_exporter": "python",
   "pygments_lexer": "ipython3",
   "version": "3.11.3"
  }
 },
 "nbformat": 4,
 "nbformat_minor": 2
}
