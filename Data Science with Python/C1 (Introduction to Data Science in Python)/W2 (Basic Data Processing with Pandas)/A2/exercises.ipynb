{
 "cells": [
  {
   "cell_type": "code",
   "execution_count": 2,
   "metadata": {},
   "outputs": [],
   "source": [
    "import pandas as pd \n",
    "import numpy as np \n",
    "import re"
   ]
  },
  {
   "cell_type": "markdown",
   "metadata": {},
   "source": [
    "### Question 1\n",
    "\n",
    "Write a Pandas program to convert a given list of lists into a Dataframe.\n",
    "Sample data:\n",
    "Original list of lists:\n",
    "\n",
    "[[2, 4], [1, 3]]\n",
    "\n",
    "New DataFrame\n",
    "\n",
    "col1 col2\n",
    "\n",
    "0 2 4\n",
    "\n",
    "1 1 3"
   ]
  },
  {
   "cell_type": "code",
   "execution_count": 4,
   "metadata": {},
   "outputs": [
    {
     "name": "stdout",
     "output_type": "stream",
     "text": [
      "   col1  col2\n",
      "0     2     4\n",
      "1     1     3\n"
     ]
    }
   ],
   "source": [
    "list_of_lists = eval(input())\n",
    "df = pd.DataFrame(list_of_lists, columns=[\"col1\", \"col2\"])\n",
    "print(df)"
   ]
  },
  {
   "cell_type": "markdown",
   "metadata": {},
   "source": [
    "### Question 2\n",
    "Write a Pandas program to sort a given DataFrame by two or more columns.\n",
    "Sample data:\n",
    "\n",
    "exam_data = {'name': ['Anastasia', 'Dima', 'Katherine', 'James', 'Emily', 'Michael', 'Matthew', 'Laura', 'Kevin', 'Jonas'],\n",
    "        'score': [12.5, 9, 16.5, np.nan, 9, 20, 14.5, np.nan, 8, 19],\n",
    "        'attempts': [1, 3, 2, 3, 2, 3, 1, 1, 2, 1],\n",
    "        'qualify': ['yes', 'no', 'yes', 'no', 'no', 'yes', 'yes', 'no', 'no', 'yes']}"
   ]
  },
  {
   "cell_type": "code",
   "execution_count": 6,
   "metadata": {},
   "outputs": [
    {
     "name": "stdout",
     "output_type": "stream",
     "text": [
      "                     name qualify\n",
      "score attempts                   \n",
      "12.5  1         Anastasia     yes\n",
      "9.0   3              Dima      no\n",
      "16.5  2         Katherine     yes\n",
      "NaN   3             James      no\n",
      "9.0   2             Emily      no\n",
      "20.0  3           Michael     yes\n",
      "14.5  1           Matthew     yes\n",
      "NaN   1             Laura      no\n",
      "8.0   2             Kevin      no\n",
      "19.0  1             Jonas     yes\n"
     ]
    }
   ],
   "source": [
    "df = pd.DataFrame({'name': ['Anastasia', 'Dima', 'Katherine', 'James', 'Emily', 'Michael', 'Matthew', 'Laura', 'Kevin', 'Jonas'],\n",
    "        'score': [12.5, 9, 16.5, np.nan, 9, 20, 14.5, np.nan, 8, 19],\n",
    "        'attempts': [1, 3, 2, 3, 2, 3, 1, 1, 2, 1],\n",
    "        'qualify': ['yes', 'no', 'yes', 'no', 'no', 'yes', 'yes', 'no', 'no', 'yes']})\n",
    "df.set_index([\"score\", \"attempts\"], inplace=True)\n",
    "print(df)"
   ]
  },
  {
   "cell_type": "markdown",
   "metadata": {},
   "source": [
    "### Question 3\n",
    "\n",
    "Write a Pandas program to convert continuous values of a column in a given DataFrame to categorical.\n",
    "Input:\n",
    "\n",
    "\n",
    "{ 'Name': ['Alberto Franco','Gino Mcneill','Ryan Parkes', 'Eesha Hinton', 'Syed Wharton'],\n",
    "'Age': [18, 22, 40, 50, 80, 5] }"
   ]
  },
  {
   "cell_type": "code",
   "execution_count": 10,
   "metadata": {},
   "outputs": [
    {
     "name": "stdout",
     "output_type": "stream",
     "text": [
      "0    Child/Adolescent\n",
      "1         Early adult\n",
      "2         Early adult\n",
      "3           End adult\n",
      "4       Early elderly\n",
      "5    Child/Adolescent\n",
      "Name: Age, dtype: category\n",
      "Categories (5, object): ['Child/Adolescent' < 'Early adult' < 'End adult' < 'Early elderly' < 'End elderly']\n"
     ]
    }
   ],
   "source": [
    "infos = {\"Name\": [\"Alberto Franco\", \"Gino Mcneill\", \"Ryan Parkes\", \"Eesha Hinton\", \"Syed Wharton\", \"Hayley Winson\"], \n",
    "        \"Age\": [18, 22, 40, 50, 80, 5]}\n",
    "df = pd.DataFrame(infos) # creates the dataframe structure\n",
    "bins = [0, 20, 40, 60, 80, 100] # the groups which the people will be put in\n",
    "group_names = [\"Child/Adolescent\", \"Early adult\", \"End adult\", \"Early elderly\", \"End elderly\"] # the name of each group\n",
    "print(pd.cut(df[\"Age\"], bins, labels=group_names)) # consider the age section from df and label the groups names"
   ]
  },
  {
   "cell_type": "markdown",
   "metadata": {},
   "source": [
    "### Question 4\n",
    "How to get the minimum, 25th percentile, median, 75th, and max of a numeric series?"
   ]
  },
  {
   "cell_type": "code",
   "execution_count": 25,
   "metadata": {},
   "outputs": [
    {
     "name": "stdout",
     "output_type": "stream",
     "text": [
      "25th percentile: 27.25\n",
      "median: 52.5\n",
      "75th percentile: 77.25\n",
      "max: 98.0\n"
     ]
    }
   ],
   "source": [
    "series = pd.Series(np.random.randint(0, 100, 50))\n",
    "print(f\"25th percentile: {series.describe()['25%']}\")\n",
    "print(f\"median: {series.describe()['50%']}\")\n",
    "print(f\"75th percentile: {series.describe()['75%']}\")\n",
    "print(f\"max: {series.describe()['max']}\")\n",
    "# .describes() gives us many informations including these and the mean, standard deviation and the min, for example"
   ]
  }
 ],
 "metadata": {
  "kernelspec": {
   "display_name": "Python 3",
   "language": "python",
   "name": "python3"
  },
  "language_info": {
   "codemirror_mode": {
    "name": "ipython",
    "version": 3
   },
   "file_extension": ".py",
   "mimetype": "text/x-python",
   "name": "python",
   "nbconvert_exporter": "python",
   "pygments_lexer": "ipython3",
   "version": "3.11.3"
  }
 },
 "nbformat": 4,
 "nbformat_minor": 2
}
