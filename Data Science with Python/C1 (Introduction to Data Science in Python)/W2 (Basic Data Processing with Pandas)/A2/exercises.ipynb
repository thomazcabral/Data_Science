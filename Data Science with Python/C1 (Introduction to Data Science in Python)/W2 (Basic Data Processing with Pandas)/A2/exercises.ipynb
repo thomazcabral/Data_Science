{
 "cells": [
  {
   "cell_type": "code",
   "execution_count": 3,
   "metadata": {},
   "outputs": [],
   "source": [
    "import pandas as pd \n",
    "import numpy as np \n",
    "import re"
   ]
  },
  {
   "cell_type": "markdown",
   "metadata": {},
   "source": [
    "### Question 1\n",
    "\n",
    "Write a Pandas program to convert a given list of lists into a Dataframe.\n",
    "Sample data:\n",
    "Original list of lists:\n",
    "\n",
    "[[2, 4], [1, 3]]\n",
    "\n",
    "New DataFrame\n",
    "\n",
    "col1 col2\n",
    "\n",
    "0 2 4\n",
    "\n",
    "1 1 3"
   ]
  },
  {
   "cell_type": "code",
   "execution_count": 4,
   "metadata": {},
   "outputs": [
    {
     "name": "stdout",
     "output_type": "stream",
     "text": [
      "   col1  col2\n",
      "0     2     4\n",
      "1     1     3\n"
     ]
    }
   ],
   "source": [
    "list_of_lists = eval(input())\n",
    "df = pd.DataFrame(list_of_lists, columns=[\"col1\", \"col2\"])\n",
    "print(df)"
   ]
  },
  {
   "cell_type": "markdown",
   "metadata": {},
   "source": [
    "### Question 2\n",
    "Write a Pandas program to sort a given DataFrame by two or more columns.\n",
    "Sample data:\n",
    "\n",
    "exam_data = {'name': ['Anastasia', 'Dima', 'Katherine', 'James', 'Emily', 'Michael', 'Matthew', 'Laura', 'Kevin', 'Jonas'],\n",
    "        'score': [12.5, 9, 16.5, np.nan, 9, 20, 14.5, np.nan, 8, 19],\n",
    "        'attempts': [1, 3, 2, 3, 2, 3, 1, 1, 2, 1],\n",
    "        'qualify': ['yes', 'no', 'yes', 'no', 'no', 'yes', 'yes', 'no', 'no', 'yes']}"
   ]
  },
  {
   "cell_type": "code",
   "execution_count": 6,
   "metadata": {},
   "outputs": [
    {
     "name": "stdout",
     "output_type": "stream",
     "text": [
      "                     name qualify\n",
      "score attempts                   \n",
      "12.5  1         Anastasia     yes\n",
      "9.0   3              Dima      no\n",
      "16.5  2         Katherine     yes\n",
      "NaN   3             James      no\n",
      "9.0   2             Emily      no\n",
      "20.0  3           Michael     yes\n",
      "14.5  1           Matthew     yes\n",
      "NaN   1             Laura      no\n",
      "8.0   2             Kevin      no\n",
      "19.0  1             Jonas     yes\n"
     ]
    }
   ],
   "source": [
    "df = pd.DataFrame({'name': ['Anastasia', 'Dima', 'Katherine', 'James', 'Emily', 'Michael', 'Matthew', 'Laura', 'Kevin', 'Jonas'],\n",
    "        'score': [12.5, 9, 16.5, np.nan, 9, 20, 14.5, np.nan, 8, 19],\n",
    "        'attempts': [1, 3, 2, 3, 2, 3, 1, 1, 2, 1],\n",
    "        'qualify': ['yes', 'no', 'yes', 'no', 'no', 'yes', 'yes', 'no', 'no', 'yes']})\n",
    "df.set_index([\"score\", \"attempts\"], inplace=True)\n",
    "print(df)"
   ]
  },
  {
   "cell_type": "markdown",
   "metadata": {},
   "source": [
    "### Question 3\n",
    "\n",
    "Write a Pandas program to convert continuous values of a column in a given DataFrame to categorical.\n",
    "Input:\n",
    "\n",
    "\n",
    "{ 'Name': ['Alberto Franco','Gino Mcneill','Ryan Parkes', 'Eesha Hinton', 'Syed Wharton'],\n",
    "'Age': [18, 22, 40, 50, 80, 5] }"
   ]
  },
  {
   "cell_type": "code",
   "execution_count": 10,
   "metadata": {},
   "outputs": [
    {
     "name": "stdout",
     "output_type": "stream",
     "text": [
      "0    Child/Adolescent\n",
      "1         Early adult\n",
      "2         Early adult\n",
      "3           End adult\n",
      "4       Early elderly\n",
      "5    Child/Adolescent\n",
      "Name: Age, dtype: category\n",
      "Categories (5, object): ['Child/Adolescent' < 'Early adult' < 'End adult' < 'Early elderly' < 'End elderly']\n"
     ]
    }
   ],
   "source": [
    "infos = {\"Name\": [\"Alberto Franco\", \"Gino Mcneill\", \"Ryan Parkes\", \"Eesha Hinton\", \"Syed Wharton\", \"Hayley Winson\"], \n",
    "        \"Age\": [18, 22, 40, 50, 80, 5]}\n",
    "df = pd.DataFrame(infos) # creates the dataframe structure\n",
    "bins = [0, 20, 40, 60, 80, 100] # the groups which the people will be put in\n",
    "group_names = [\"Child/Adolescent\", \"Early adult\", \"End adult\", \"Early elderly\", \"End elderly\"] # the name of each group\n",
    "print(pd.cut(df[\"Age\"], bins, labels=group_names)) # consider the age section from df and label the groups names"
   ]
  },
  {
   "cell_type": "markdown",
   "metadata": {},
   "source": [
    "### Question 4\n",
    "How to get the minimum, 25th percentile, median, 75th, and max of a numeric series?"
   ]
  },
  {
   "cell_type": "code",
   "execution_count": 25,
   "metadata": {},
   "outputs": [
    {
     "name": "stdout",
     "output_type": "stream",
     "text": [
      "25th percentile: 27.25\n",
      "median: 52.5\n",
      "75th percentile: 77.25\n",
      "max: 98.0\n"
     ]
    }
   ],
   "source": [
    "series = pd.Series(np.random.randint(0, 100, 50))\n",
    "print(f\"25th percentile: {series.describe()['25%']}\")\n",
    "print(f\"median: {series.describe()['50%']}\")\n",
    "print(f\"75th percentile: {series.describe()['75%']}\")\n",
    "print(f\"max: {series.describe()['max']}\")\n",
    "# .describes() gives us many informations including these and the mean, standard deviation and the min, for example"
   ]
  },
  {
   "cell_type": "markdown",
   "metadata": {},
   "source": [
    "### Question 5\n",
    "Write a Pandas program to change the order of index of a given series."
   ]
  },
  {
   "cell_type": "code",
   "execution_count": 4,
   "metadata": {},
   "outputs": [
    {
     "name": "stdout",
     "output_type": "stream",
     "text": [
      "c    3\n",
      "d    4\n",
      "e    5\n",
      "b    2\n",
      "a    1\n",
      "dtype: int64\n"
     ]
    }
   ],
   "source": [
    "series = pd.Series([1, 2, 3, 4, 5], index=['a', 'b', 'c', 'd', 'e'])\n",
    "series = series.reindex(index=['c', 'd', 'e', 'b', 'a'])\n",
    "print(series)"
   ]
  },
  {
   "cell_type": "markdown",
   "metadata": {},
   "source": [
    "### Question 6\n",
    "Write a Pandas program to calculate the frequency counts of each unique value of a given series."
   ]
  },
  {
   "cell_type": "code",
   "execution_count": 16,
   "metadata": {},
   "outputs": [
    {
     "name": "stdout",
     "output_type": "stream",
     "text": [
      "566    5\n",
      "735    5\n",
      "72     4\n",
      "706    4\n",
      "147    4\n",
      "      ..\n",
      "595    1\n",
      "455    1\n",
      "98     1\n",
      "95     1\n",
      "374    1\n",
      "Name: count, Length: 636, dtype: int64\n"
     ]
    }
   ],
   "source": [
    "series = pd.Series(np.random.randint(0, 1000, 1000))\n",
    "print(series.value_counts())"
   ]
  },
  {
   "cell_type": "markdown",
   "metadata": {},
   "source": [
    "### Question 7\n",
    "Change the temperature anomaly csv file."
   ]
  },
  {
   "cell_type": "code",
   "execution_count": 4,
   "metadata": {},
   "outputs": [
    {
     "name": "stdout",
     "output_type": "stream",
     "text": [
      "   Entity  Year  Global average temperature anomaly relative to 1961-1990  \\\n",
      "0  Global  1850                                          -0.417659          \n",
      "1  Global  1851                                          -0.233350          \n",
      "2  Global  1852                                          -0.229399          \n",
      "3  Global  1853                                          -0.270354          \n",
      "4  Global  1854                                          -0.291630          \n",
      "\n",
      "   Upper bound of the annual temperature anomaly (95% confidence interval)  \\\n",
      "0                                          -0.246115                         \n",
      "1                                          -0.054832                         \n",
      "2                                          -0.049416                         \n",
      "3                                          -0.110700                         \n",
      "4                                          -0.150436                         \n",
      "\n",
      "   Lower bound of the annual temperature anomaly (95% confidence interval)  \n",
      "0                                          -0.589203                        \n",
      "1                                          -0.411868                        \n",
      "2                                          -0.409382                        \n",
      "3                                          -0.430009                        \n",
      "4                                          -0.432824                        \n"
     ]
    }
   ],
   "source": [
    "file = pd.read_csv(\"1- temperature-anomaly.csv\")\n",
    "df = pd.DataFrame(file)\n",
    "df.drop(\"Code\", axis=1, inplace=True)\n",
    "print(df.head())"
   ]
  },
  {
   "cell_type": "code",
   "execution_count": 47,
   "metadata": {},
   "outputs": [
    {
     "name": "stdout",
     "output_type": "stream",
     "text": [
      "   Entity  Year  GATA (1961-1990)  Upper Bound  Lower Bound\n",
      "0  Global  1850         -0.417659    -0.246115    -0.589203\n",
      "1  Global  1851         -0.233350    -0.054832    -0.411868\n",
      "2  Global  1852         -0.229399    -0.049416    -0.409382\n",
      "3  Global  1853         -0.270354    -0.110700    -0.430009\n",
      "4  Global  1854         -0.291630    -0.150436    -0.432824\n"
     ]
    }
   ],
   "source": [
    "new_columns = [\"Entity\", \"Year\", \"GATA (1961-1990)\", \"Upper Bound\", \"Lower Bound\"]\n",
    "df.columns = new_columns\n",
    "print(df.head())"
   ]
  },
  {
   "cell_type": "code",
   "execution_count": 49,
   "metadata": {},
   "outputs": [
    {
     "name": "stdout",
     "output_type": "stream",
     "text": [
      "                  Entity  Year  GATA (1961-1990)  Upper Bound  Lower Bound\n",
      "344  Northern hemisphere  2020          1.275727     1.314590     1.236863\n",
      "340  Northern hemisphere  2016          1.255193     1.286537     1.223849\n",
      "347  Northern hemisphere  2023          1.237812     1.333305     1.142318\n",
      "343  Northern hemisphere  2019          1.143743     1.179197     1.108290\n",
      "339  Northern hemisphere  2015          1.130840     1.165842     1.095838\n"
     ]
    }
   ],
   "source": [
    "df.sort_values(by=\"GATA (1961-1990)\", ascending=False, inplace=True)\n",
    "print(df.head())"
   ]
  }
 ],
 "metadata": {
  "kernelspec": {
   "display_name": "Python 3",
   "language": "python",
   "name": "python3"
  },
  "language_info": {
   "codemirror_mode": {
    "name": "ipython",
    "version": 3
   },
   "file_extension": ".py",
   "mimetype": "text/x-python",
   "name": "python",
   "nbconvert_exporter": "python",
   "pygments_lexer": "ipython3",
   "version": "3.11.3"
  }
 },
 "nbformat": 4,
 "nbformat_minor": 2
}
