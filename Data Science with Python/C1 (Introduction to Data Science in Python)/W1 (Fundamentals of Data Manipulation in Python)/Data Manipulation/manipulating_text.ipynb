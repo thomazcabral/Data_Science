{
 "cells": [
  {
   "cell_type": "code",
   "execution_count": 2,
   "metadata": {},
   "outputs": [],
   "source": [
    "import re"
   ]
  },
  {
   "cell_type": "code",
   "execution_count": 3,
   "metadata": {},
   "outputs": [
    {
     "name": "stdout",
     "output_type": "stream",
     "text": [
      "Wonderful!\n"
     ]
    }
   ],
   "source": [
    "text = \"This is a good day.\"\n",
    "\n",
    "if (re.search(\"good\", text)): # (word to be seached, text origin)\n",
    "    print(\"Wonderful!\")\n",
    "else:\n",
    "    print(\"/\")"
   ]
  },
  {
   "cell_type": "code",
   "execution_count": 4,
   "metadata": {},
   "outputs": [
    {
     "name": "stdout",
     "output_type": "stream",
     "text": [
      "['', ' works diligently. ', ' gets good grades. Our student ', ' is succesful']\n"
     ]
    }
   ],
   "source": [
    "text = \"Amy works diligently. Amy gets good grades. Our student Amy is succesful\"\n",
    "print(re.split(\"Amy\", text))"
   ]
  },
  {
   "cell_type": "code",
   "execution_count": 5,
   "metadata": {},
   "outputs": [
    {
     "name": "stdout",
     "output_type": "stream",
     "text": [
      "['Amy', 'Amy', 'Amy']\n"
     ]
    }
   ],
   "source": [
    "print(re.findall(\"Amy\", text)) # pull oyt all occurences"
   ]
  },
  {
   "cell_type": "code",
   "execution_count": 6,
   "metadata": {},
   "outputs": [
    {
     "name": "stdout",
     "output_type": "stream",
     "text": [
      "<re.Match object; span=(0, 3), match='Amy'>\n"
     ]
    }
   ],
   "source": [
    "text = \"Amy works diligently. Amy gets good grades. Our student Amy is succesful\"\n",
    "print(re.search(\"^Amy\", text))\n",
    "# ^ Before the string to check if it starts with this\n",
    "# $ After the string to check it ends with this"
   ]
  },
  {
   "cell_type": "markdown",
   "metadata": {},
   "source": [
    "# Patterns and Character Classes"
   ]
  },
  {
   "cell_type": "code",
   "execution_count": 7,
   "metadata": {},
   "outputs": [
    {
     "name": "stdout",
     "output_type": "stream",
     "text": [
      "['B', 'B']\n"
     ]
    }
   ],
   "source": [
    "grades = \"ACAAAAABCCCAAB\"\n",
    "print(re.findall(\"B\", grades)) # prints all the Bs in grades"
   ]
  },
  {
   "cell_type": "code",
   "execution_count": 8,
   "metadata": {},
   "outputs": [
    {
     "name": "stdout",
     "output_type": "stream",
     "text": [
      "['A', 'A', 'A', 'A', 'A', 'A', 'B', 'A', 'A', 'B']\n"
     ]
    }
   ],
   "source": [
    "print(re.findall(\"[AB]\", grades)) #prints all the As and Bs in grades"
   ]
  },
  {
   "cell_type": "code",
   "execution_count": 9,
   "metadata": {},
   "outputs": [
    {
     "name": "stdout",
     "output_type": "stream",
     "text": [
      "['AC', 'AB', 'AB']\n"
     ]
    }
   ],
   "source": [
    "print(re.findall(\"[A][B-C]\", grades)) # prints all the ABs and ACs in grades"
   ]
  },
  {
   "cell_type": "code",
   "execution_count": 10,
   "metadata": {},
   "outputs": [
    {
     "name": "stdout",
     "output_type": "stream",
     "text": [
      "['AC', 'AB', 'AB']\n"
     ]
    }
   ],
   "source": [
    "print(re.findall(\"AB|AC\", grades)) # same thing as above"
   ]
  },
  {
   "cell_type": "code",
   "execution_count": 11,
   "metadata": {},
   "outputs": [
    {
     "name": "stdout",
     "output_type": "stream",
     "text": [
      "['C', 'B', 'C', 'C', 'C', 'B']\n"
     ]
    }
   ],
   "source": [
    "print(re.findall(\"[^A]\", grades)) # prints each element which is NOT A"
   ]
  },
  {
   "cell_type": "code",
   "execution_count": 16,
   "metadata": {},
   "outputs": [
    {
     "name": "stdout",
     "output_type": "stream",
     "text": [
      "[]\n"
     ]
    }
   ],
   "source": [
    "print(re.findall(\"^[^A]\", grades)) # prints the first element if it is not A\n",
    "# In this case, it is an A"
   ]
  },
  {
   "cell_type": "markdown",
   "metadata": {},
   "source": [
    "# Quantifiers"
   ]
  },
  {
   "cell_type": "code",
   "execution_count": 21,
   "metadata": {},
   "outputs": [
    {
     "name": "stdout",
     "output_type": "stream",
     "text": [
      "['AAAAA', 'AA']\n"
     ]
    }
   ],
   "source": [
    "grades = \"ACAAAAABCCCAAB\"\n",
    "print(re.findall(\"A{2,10}\", grades)) # prints the consecutive As with 2 <= len <= 10"
   ]
  },
  {
   "cell_type": "code",
   "execution_count": 24,
   "metadata": {},
   "outputs": [
    {
     "name": "stdout",
     "output_type": "stream",
     "text": [
      "['AA', 'AA', 'AA']\n",
      "['AA', 'AA', 'AA']\n",
      "['AA', 'AA', 'AA']\n"
     ]
    }
   ],
   "source": [
    "print(re.findall(\"A{1,1}A{1,1}\", grades))\n",
    "print(re.findall(\"AA\", grades)) # the default value for the {} is {1,1}\n",
    "print(re.findall(\"A{2}\", grades)) # if there is only one number inside {}, it is both the min and the max"
   ]
  },
  {
   "cell_type": "code",
   "execution_count": 25,
   "metadata": {},
   "outputs": [
    {
     "name": "stdout",
     "output_type": "stream",
     "text": [
      "['AAAAABCCC']\n"
     ]
    }
   ],
   "source": [
    "print(re.findall(\"A{1,10}B{1,10}C{1,10}\", grades))"
   ]
  },
  {
   "cell_type": "code",
   "execution_count": 26,
   "metadata": {},
   "outputs": [
    {
     "name": "stdout",
     "output_type": "stream",
     "text": [
      "Overview[edit]\n",
      "FERPA gives parents access to their child's education records, an opportunity to seek to have the records amended, and some control over the disclosure of information from the records. With several exceptions, schools must have a student's consent prior to the disclosure of education records after that student is 18 years old. The law applies only to educational agencies and institutions that receive funds under a program administered by the U.S. Department of Education.\n",
      "\n",
      "Other regulations under this act, effective starting January 3, 2012, allow for greater disclosures of personal and directory student identifying information and regulate student IDs and e-mail addresses.[2] For example, schools may provide external companies with a student's personally identifiable information without the student's consent.[2]\n",
      "\n",
      "Examples of situations affected by FERPA include school employees divulging information to anyone other than the student about the student's grades or behavior, and school work posted on a bulletin board with a grade. Generally, schools must have written permission from the parent or eligible student in order to release any information from a student's education record.\n",
      "\n",
      "This privacy policy also governs how state agencies transmit testing data to federal agencies, such as the Education Data Exchange Network.\n",
      "\n",
      "This U.S. federal law also gave students 18 years of age or older, or students of any age if enrolled in any post-secondary educational institution, the right of privacy regarding grades, enrollment, and even billing information unless the school has specific permission from the student to share that specific type of information.\n",
      "\n",
      "FERPA also permits a school to disclose personally identifiable information from education records of an \"eligible student\" (a student age 18 or older or enrolled in a postsecondary institution at any age) to his or her parents if the student is a \"dependent student\" as that term is defined in Section 152 of the Internal Revenue Code. Generally, if either parent has claimed the student as a dependent on the parent's most recent income tax statement, the school may non-consensually disclose the student's education records to both parents.[3]\n",
      "\n",
      "The law allowed students who apply to an educational institution such as graduate school permission to view recommendations submitted by others as part of the application. However, on standard application forms, students are given the option to waive this right.\n",
      "\n",
      "FERPA specifically excludes employees of an educational institution if they are not students.\n",
      "\n",
      "The act is also referred to as the Buckley Amendment, for one of its proponents, Senator James L. Buckley of New York.\n",
      "\n",
      "Access to public records[edit]\n",
      "The citing of FERPA to conceal public records that are not \"educational\" in nature has been widely criticized, including by the act's primary Senate sponsor.[4] For example, in the Owasso Independent School District v. Falvo case, an important part of the debate was determining the relationship between peer-grading and \"education records\" as defined in FERPA. In the Court of Appeals, it was ruled that students placing grades on the work of other students made such work into an \"education record.\" Thus, peer-grading was determined as a violation of FERPA privacy policies because students had access to other students' academic performance without full consent.[5] However, when the case went to the Supreme Court, it was officially ruled that peer-grading was not a violation of FERPA. This is because a grade written on a student's work does not become an \"education record\" until the teacher writes the final grade into a grade book.[6]\n",
      "\n",
      "Student medical records[edit]\n",
      "Legal experts have debated the issue of whether student medical records (for example records of therapy sessions with a therapist at an on-campus counseling center) might be released to the school administration under certain triggering events, such as when a student sued his college or university.[7][8]\n",
      "\n",
      "Usually, student medical treatment records will remain under the protection of FERPA, not the Health Insurance Portability and Accountability Act (HIPAA). This is due to the \"FERPA Exception\" written within HIPAA.[9]\n"
     ]
    }
   ],
   "source": [
    "with open(\"ferpa.txt\", \"r\") as file:\n",
    "    wiki = file.read()\n",
    "print(wiki)"
   ]
  },
  {
   "cell_type": "code",
   "execution_count": 35,
   "metadata": {},
   "outputs": [
    {
     "name": "stdout",
     "output_type": "stream",
     "text": [
      "['Overview[edit]', 'records[edit]', 'records[edit]']\n",
      "['Overview[edit]', 'records[edit]', 'records[edit]']\n"
     ]
    }
   ],
   "source": [
    "print(re.findall(\"[a-zA-Z]{1,100}\\[edit\\]\", wiki))\n",
    "print(re.findall(\"[\\w]{1,100}\\[edit\\]\", wiki)) # \\w represents any character\n",
    "# .represents any single character\n",
    "# \\d represents any digit\n",
    "# \\s represents any space character, including tab"
   ]
  },
  {
   "cell_type": "code",
   "execution_count": 36,
   "metadata": {},
   "outputs": [
    {
     "name": "stdout",
     "output_type": "stream",
     "text": [
      "['Overview[edit]', 'records[edit]', 'records[edit]']\n"
     ]
    }
   ],
   "source": [
    "print(re.findall(\"[\\w]*\\[edit\\]\", wiki)) # \\w happens 0 or more times"
   ]
  },
  {
   "cell_type": "code",
   "execution_count": 37,
   "metadata": {},
   "outputs": [
    {
     "name": "stdout",
     "output_type": "stream",
     "text": [
      "['Overview[edit]', 'Access to public records[edit]', 'Student medical records[edit]']\n"
     ]
    }
   ],
   "source": [
    "print(re.findall(\"[\\w ]*\\[edit\\]\", wiki)) # \\w or space"
   ]
  },
  {
   "cell_type": "code",
   "execution_count": 38,
   "metadata": {},
   "outputs": [
    {
     "name": "stdout",
     "output_type": "stream",
     "text": [
      "Overview\n",
      "Access to public records\n",
      "Student medical records\n"
     ]
    }
   ],
   "source": [
    "for title in re.findall(\"[\\w ]*\\[edit\\]\", wiki):\n",
    "    print(re.split(\"[\\[]\", title)[0])"
   ]
  },
  {
   "cell_type": "markdown",
   "metadata": {},
   "source": [
    "# Groups"
   ]
  },
  {
   "cell_type": "code",
   "execution_count": 39,
   "metadata": {},
   "outputs": [
    {
     "name": "stdout",
     "output_type": "stream",
     "text": [
      "[('Overview', '[edit]'), ('Access to public records', '[edit]'), ('Student medical records', '[edit]')]\n"
     ]
    }
   ],
   "source": [
    "print(re.findall(\"([\\w ]*)(\\[edit\\])\", wiki)) # () to represent groups"
   ]
  },
  {
   "cell_type": "code",
   "execution_count": 50,
   "metadata": {},
   "outputs": [
    {
     "name": "stdout",
     "output_type": "stream",
     "text": [
      "('Overview', '[edit]')\n",
      "('\\n\\nAccess to public records', '[edit]')\n",
      "('\\n\\nStudent medical records', '[edit]')\n"
     ]
    }
   ],
   "source": [
    "for item in re.finditer(\"([\\w ]*)(\\[edit\\])\", wiki):\n",
    "    print(item.groups()) # .groups() returns a tuple of the group"
   ]
  },
  {
   "cell_type": "code",
   "execution_count": 45,
   "metadata": {},
   "outputs": [
    {
     "name": "stdout",
     "output_type": "stream",
     "text": [
      "Overview\n",
      "Access to public records\n",
      "Student medical records\n"
     ]
    }
   ],
   "source": [
    "for item in re.finditer(\"([\\w ]*)(\\[edit\\])\", wiki):\n",
    "    print(item.group(1))\n",
    "# group(0) is all the group\n",
    "# group(1) is the first \"index\" of the tuple\n",
    "# ..."
   ]
  },
  {
   "cell_type": "code",
   "execution_count": 49,
   "metadata": {},
   "outputs": [
    {
     "name": "stdout",
     "output_type": "stream",
     "text": [
      "{'title': 'Overview', 'edit_link': '[edit]'}\n",
      "Overview\n",
      "{'title': 'Access to public records', 'edit_link': '[edit]'}\n",
      "Access to public records\n",
      "{'title': 'Student medical records', 'edit_link': '[edit]'}\n",
      "Student medical records\n"
     ]
    }
   ],
   "source": [
    "for item in re.finditer(\"(?P<title>[\\w ]*)(?P<edit_link>\\[edit\\])\", wiki):\n",
    "    print(item.groupdict())\n",
    "    print(item.groupdict()[\"title\"])"
   ]
  },
  {
   "cell_type": "markdown",
   "metadata": {},
   "source": [
    "# Look-ahead and Look-behind"
   ]
  },
  {
   "cell_type": "code",
   "execution_count": 51,
   "metadata": {},
   "outputs": [
    {
     "name": "stdout",
     "output_type": "stream",
     "text": [
      "<re.Match object; span=(0, 8), match='Overview'>\n",
      "<re.Match object; span=(2715, 2739), match='Access to public records'>\n",
      "<re.Match object; span=(3692, 3715), match='Student medical records'>\n"
     ]
    }
   ],
   "source": [
    "for item in re.finditer(\"(?P<title>[\\w ]+)(?=\\[edit\\])\",wiki): # we dont care about the edit\n",
    "    print(item)"
   ]
  }
 ],
 "metadata": {
  "kernelspec": {
   "display_name": "Python 3",
   "language": "python",
   "name": "python3"
  },
  "language_info": {
   "codemirror_mode": {
    "name": "ipython",
    "version": 3
   },
   "file_extension": ".py",
   "mimetype": "text/x-python",
   "name": "python",
   "nbconvert_exporter": "python",
   "pygments_lexer": "ipython3",
   "version": "3.11.3"
  }
 },
 "nbformat": 4,
 "nbformat_minor": 2
}
