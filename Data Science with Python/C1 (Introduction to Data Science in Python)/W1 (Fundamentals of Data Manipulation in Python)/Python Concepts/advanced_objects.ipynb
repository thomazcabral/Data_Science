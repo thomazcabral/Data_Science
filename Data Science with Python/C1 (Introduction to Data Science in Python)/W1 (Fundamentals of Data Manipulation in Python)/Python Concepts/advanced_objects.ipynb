{
 "cells": [
  {
   "cell_type": "code",
   "execution_count": null,
   "metadata": {},
   "outputs": [],
   "source": [
    "class Person:\n",
    "    department = \"School of Information\"\n",
    "\n",
    "    def set_name(self, new_name):\n",
    "        self.name = new_name\n",
    "    def set_location(self, new_location):\n",
    "        self.location = new_location"
   ]
  },
  {
   "cell_type": "code",
   "execution_count": 8,
   "metadata": {},
   "outputs": [
    {
     "name": "stdout",
     "output_type": "stream",
     "text": [
      "store 2\n"
     ]
    }
   ],
   "source": [
    "store1 = [10, 11, 12.34, 2.34]\n",
    "store2 = [9, 11.1, 12.34, 2.01]\n",
    "cheapest = map(min, store1, store2)\n",
    "result = list(cheapest)\n",
    "average = sum(result) / len(result)\n",
    "cheap_store = \"store 1\" if result in store1 else \"store 2\"\n",
    "print(cheap_store)"
   ]
  },
  {
   "cell_type": "code",
   "execution_count": 9,
   "metadata": {},
   "outputs": [
    {
     "name": "stdout",
     "output_type": "stream",
     "text": [
      "[1, 4, 9, 16, 25, 36]\n"
     ]
    }
   ],
   "source": [
    "numbers = [1, 2, 3, 4, 5, 6]\n",
    "squared = map(lambda x: x**2, numbers)\n",
    "result = list(squared)\n",
    "print(result)"
   ]
  },
  {
   "cell_type": "code",
   "execution_count": 10,
   "metadata": {},
   "outputs": [
    {
     "name": "stdout",
     "output_type": "stream",
     "text": [
      "[9, 11, 13, 15, 17]\n"
     ]
    }
   ],
   "source": [
    "list1 = [1, 2, 3, 4, 5]\n",
    "list2 = [8, 9, 10, 11, 12]\n",
    "joined = map(lambda x, y: x + y, list1, list2)\n",
    "result = list(joined)\n",
    "print(result)"
   ]
  }
 ],
 "metadata": {
  "kernelspec": {
   "display_name": "Python 3",
   "language": "python",
   "name": "python3"
  },
  "language_info": {
   "codemirror_mode": {
    "name": "ipython",
    "version": 3
   },
   "file_extension": ".py",
   "mimetype": "text/x-python",
   "name": "python",
   "nbconvert_exporter": "python",
   "pygments_lexer": "ipython3",
   "version": "3.11.3"
  }
 },
 "nbformat": 4,
 "nbformat_minor": 2
}
