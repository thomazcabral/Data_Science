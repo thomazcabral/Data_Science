{
 "cells": [
  {
   "cell_type": "markdown",
   "metadata": {},
   "source": [
    "### In this practice, I'll use the knowledge I gained through these last learnings and create a subplot of many kinds of distributions while I learn a bit more about each of them"
   ]
  },
  {
   "cell_type": "code",
   "execution_count": 1,
   "metadata": {},
   "outputs": [],
   "source": [
    "import numpy as np\n",
    "import pandas as pd\n",
    "import matplotlib.pyplot as plt"
   ]
  },
  {
   "cell_type": "markdown",
   "metadata": {},
   "source": [
    "##### Normal distribution"
   ]
  },
  {
   "cell_type": "code",
   "execution_count": 39,
   "metadata": {},
   "outputs": [],
   "source": [
    "def normal(samples_size, ax1):\n",
    "    normal = np.random.normal(loc=0, scale=1, size=samples_size)\n",
    "    ax1.hist(normal, color=\"blue\")\n",
    "    ax1.set_title(\"Normal\");"
   ]
  },
  {
   "cell_type": "markdown",
   "metadata": {},
   "source": [
    "##### Binomial distribution"
   ]
  },
  {
   "cell_type": "code",
   "execution_count": 40,
   "metadata": {},
   "outputs": [],
   "source": [
    "def binomial(samples_size, ax2):\n",
    "    binomial = np.random.binomial(n=10, p=0.5, size=samples_size) # n is the number of trials and p is the probability of each trial\n",
    "    ax2.hist(binomial, color=\"red\")\n",
    "    ax2.set_title(\"Binomial\")"
   ]
  },
  {
   "cell_type": "markdown",
   "metadata": {},
   "source": [
    "##### Poisson Distribution"
   ]
  },
  {
   "cell_type": "code",
   "execution_count": 41,
   "metadata": {},
   "outputs": [],
   "source": [
    "def poisson(samples_size, ax3):\n",
    "    poisson = np.random.poisson(lam=2, size=samples_size) # lam is the known number of occurrences, 2 is the most common number\n",
    "    ax3.hist(poisson, color=\"green\")\n",
    "    ax3.set_title(\"Poisson\")"
   ]
  },
  {
   "cell_type": "markdown",
   "metadata": {},
   "source": [
    "##### Uniform Distribution"
   ]
  },
  {
   "cell_type": "code",
   "execution_count": 42,
   "metadata": {},
   "outputs": [],
   "source": [
    "def uniform(samples_size, ax4):\n",
    "    uniform = np.random.uniform(low=0, high=5, size=samples_size) # using 0 as lower bound and 5 as upper bound for better visualization here\n",
    "    ax4.hist(uniform, color=\"purple\")\n",
    "    ax4.set_title(\"Uniform\")"
   ]
  },
  {
   "cell_type": "markdown",
   "metadata": {},
   "source": [
    "##### Logistic Distribution (commonly used to describe growth and used in machine learning in logistic regression and neural networks)"
   ]
  },
  {
   "cell_type": "code",
   "execution_count": 43,
   "metadata": {},
   "outputs": [],
   "source": [
    "def logistic(samples_size, ax5):\n",
    "    logistic = np.random.logistic(loc=0, scale=1, size=samples_size) # loc and scale here are default but it's good to know the possible parameters\n",
    "    ax5.hist(logistic, color=\"yellow\")\n",
    "    ax5.set_title(\"Logistic\")"
   ]
  },
  {
   "cell_type": "markdown",
   "metadata": {},
   "source": [
    "##### Exponential Distribution"
   ]
  },
  {
   "cell_type": "code",
   "execution_count": 44,
   "metadata": {},
   "outputs": [],
   "source": [
    "def exponential(exp_samples_size, ax6):\n",
    "    exponential = np.random.exponential(scale=0.5, size=exp_samples_size) # scale should be the inverse of the lam used in the poisson distribution\n",
    "    ax6.hist(exponential, color=\"cyan\")\n",
    "    ax6.set_title(\"Exponential\")"
   ]
  },
  {
   "cell_type": "markdown",
   "metadata": {},
   "source": [
    "##### Chi Square Distribution (used as a basis to verify the hypothesis)"
   ]
  },
  {
   "cell_type": "code",
   "execution_count": 45,
   "metadata": {},
   "outputs": [],
   "source": [
    "def chi_squared(exp_samples_size, ax7):\n",
    "    chi_squared = np.random.chisquare(df=2, size=exp_samples_size) # df stands for degrees of freedom\n",
    "    ax7.hist(chi_squared, color=\"magenta\")\n",
    "    ax7.set_title(\"Chi Square\")"
   ]
  },
  {
   "cell_type": "markdown",
   "metadata": {},
   "source": [
    "##### Rayleigh Distribution (used in signal processing)"
   ]
  },
  {
   "cell_type": "code",
   "execution_count": 46,
   "metadata": {},
   "outputs": [],
   "source": [
    "def rayleigh(samples_size, ax8):\n",
    "    rayleigh = np.random.rayleigh(scale=1, size=samples_size)\n",
    "    ax8.hist(rayleigh, color=\"orange\")\n",
    "    ax8.set_title(\"Rayleigh\")"
   ]
  },
  {
   "cell_type": "markdown",
   "metadata": {},
   "source": [
    "##### Gamma Distribution"
   ]
  },
  {
   "cell_type": "code",
   "execution_count": 47,
   "metadata": {},
   "outputs": [],
   "source": [
    "def gamma(samples_size, ax9):\n",
    "    gamma = np.random.gamma(shape=2, scale=1, size=samples_size) # a is the distribution parameter\n",
    "    ax9.hist(gamma, color=\"teal\")\n",
    "    ax9.set_title(\"Gamma\")"
   ]
  },
  {
   "cell_type": "markdown",
   "metadata": {},
   "source": [
    "##### Beta Distribution"
   ]
  },
  {
   "cell_type": "code",
   "execution_count": 48,
   "metadata": {},
   "outputs": [],
   "source": [
    "def beta(samples_size, ax10):\n",
    "    beta = np.random.beta(1, 3, size=samples_size) # 1 and 3 are positional arguments\n",
    "    ax10.hist(beta, color=\"pink\")\n",
    "    ax10.set_title(\"Beta\")"
   ]
  },
  {
   "cell_type": "markdown",
   "metadata": {},
   "source": [
    "##### Triangular distribution"
   ]
  },
  {
   "cell_type": "code",
   "execution_count": 49,
   "metadata": {},
   "outputs": [],
   "source": [
    "def triangular(samples_size, ax11):\n",
    "    triangular = np.random.triangular(left=0, mode=6, right=10, size=samples_size)\n",
    "    ax11.hist(triangular, color=\"silver\")\n",
    "    ax11.set_title(\"Triangular\")"
   ]
  },
  {
   "cell_type": "markdown",
   "metadata": {},
   "source": [
    "##### Random distribution"
   ]
  },
  {
   "cell_type": "code",
   "execution_count": 50,
   "metadata": {},
   "outputs": [],
   "source": [
    "def random(samples_size, ax12):\n",
    "    random = np.random.random(size=samples_size)\n",
    "    ax12.hist(random, color=\"goldenrod\")\n",
    "    ax12.set_title(\"Random\")"
   ]
  },
  {
   "cell_type": "markdown",
   "metadata": {},
   "source": [
    "##### Initializing the axes, I'm going to use 12 different distributions on a 4x3 grid"
   ]
  },
  {
   "cell_type": "code",
   "execution_count": 51,
   "metadata": {},
   "outputs": [
    {
     "data": {
      "image/png": "[encoded data removed]",
      "text/plain": [
       "<Figure size 640x480 with 12 Axes>"
      ]
     },
     "metadata": {},
     "output_type": "display_data"
    }
   ],
   "source": [
    "fig, ((ax1, ax2, ax3), (ax4, ax5, ax6), (ax7, ax8, ax9), (ax10, ax11, ax12)) = plt.subplots(4, 3, sharex=True, sharey=True, layout=\"constrained\")\n",
    "samples_size = 1000\n",
    "exp_samples_size = 500 # used in the exponentials distributions so that the plots are not distorted in relation to the others\n",
    "\n",
    "normal(samples_size, ax1)\n",
    "binomial(samples_size, ax2)\n",
    "poisson(samples_size, ax3)\n",
    "uniform(samples_size, ax4)\n",
    "logistic(samples_size, ax5)\n",
    "exponential(exp_samples_size, ax6)\n",
    "chi_squared(exp_samples_size, ax7)\n",
    "rayleigh(samples_size, ax8)\n",
    "gamma(samples_size, ax9)\n",
    "beta(samples_size, ax10)\n",
    "triangular(samples_size, ax11)\n",
    "random(samples_size, ax12)"
   ]
  }
 ],
 "metadata": {
  "kernelspec": {
   "display_name": "Python 3",
   "language": "python",
   "name": "python3"
  },
  "language_info": {
   "codemirror_mode": {
    "name": "ipython",
    "version": 3
   },
   "file_extension": ".py",
   "mimetype": "text/x-python",
   "name": "python",
   "nbconvert_exporter": "python",
   "pygments_lexer": "ipython3",
   "version": "3.11.3"
  }
 },
 "nbformat": 4,
 "nbformat_minor": 2
}
