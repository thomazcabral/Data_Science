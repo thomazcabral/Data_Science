{
 "cells": [
  {
   "cell_type": "markdown",
   "metadata": {},
   "source": [
    "# AlexNet"
   ]
  },
  {
   "cell_type": "markdown",
   "metadata": {},
   "source": [
    "## Objectives\n",
    "- **Improving Image Classification Performance**: AlexNet aimed to outperform existing models on image classification benchmarks, particularly the ImageNet dataset, which contains millions of labeled images across thousands of categories\n",
    "\n",
    "- **Leveraging GPU Computing for Training**: Training deep neural networks requires significant computational resources. AlexNet was one of the first models to effectively leverage GPUs for training, which drastially reduced training time and enabled the exploration of deeper and more complex models\n",
    "\n",
    "- **Introducing ReLU Non-linearity**: ReLU activation functions were introduced to mitigate the vanishing gradient problem"
   ]
  },
  {
   "cell_type": "markdown",
   "metadata": {},
   "source": [
    "## Architecture"
   ]
  },
  {
   "cell_type": "markdown",
   "metadata": {},
   "source": [
    "AlexNet's architecture is a CNN that consists of 12 layers: 5 convolutional layers and 3 pooling layers followed by 3 fully connected layers:\n",
    "\n",
    "1. **Input Layer**: The input to AlexNet is a colored image of size 224x224 pixels with 3 color channels (RGB)\n",
    "2. **First Convolutional Layer**: This layer applies 96 convolutional filters with a kernel size of 11x11 and a stride of 4. This results in an output volume of 55x55x96\n",
    "3. **First Pooling Layer**: Max-pooling with 3x3 window, stride of 2, reducing the spatial dimensions to 27x27x96\n",
    "4. **Second Convolutional Layer**: Applies 256 convolutional filters with a kernel size of 5x5, stride of 1, and padding of 2, resulting in an output volume of 27x27x256\n",
    "5. **Second Pooling Layer**: Max-pooling with 3x3 window, stride of 2, reducing the spatial dimensions to 13x13x256\n",
    "6. **Third Convolutional Layer**: Applies 384 convolutional filters with a kernel size of 3x3, stride of 1, and padding of 1, resulting in an output volume of 13x13x384\n",
    "7. **Fourth Convolutional Layer**: Similar to the third convolutional layer, it applies 384 filters with the same parameters, resulting in an output volume of 13x13x384\n",
    "8. **Fifth Convolutional Layer**: Applies 256 convolutional filters with a kernel size of 3x3, stride of 1, and padding of 1, resulting in an output volume of 13x13x256\n",
    "9. **Third Pooling Layer**: Max-pooling with 3x3 window, stride of 2, reducing the spatial dimensions to 6x6x256\n",
    "10. **First Fully Connected Layer**: 4096 neurons\n",
    "11. **Second Fully Connected Layer**: 4096 neurons\n",
    "12. **Third Fully Connected Layer (Output Layer)**: Dense layer with 1000 neurons, one for each class in the ImageNet dataset."
   ]
  },
  {
   "cell_type": "markdown",
   "metadata": {},
   "source": [
    "### Use AlexNet:\n",
    "\n",
    "- On medium-scale image classification tasks with moderate computational resources\n",
    "- In legacy systems where compatibility is necessary\n",
    "- For transfer learning with pretrained models for less complex tasks\n",
    "\n",
    "### Avoid AlexNet:\n",
    "\n",
    "- When state-of-the-art performance and high accuracy are required\n",
    "- On very large-scale datasets where newer models excel\n",
    "- In resource-constrained environments where more efficient models are needed\n",
    "- For cutting-edge research and development exploring new deep learning techniques\n",
    "- When more advanced models can provide better feature extraction and performance in transfer learning"
   ]
  },
  {
   "cell_type": "markdown",
   "metadata": {},
   "source": [
    "### Libraries"
   ]
  },
  {
   "cell_type": "code",
   "execution_count": 1,
   "metadata": {},
   "outputs": [],
   "source": [
    "import torch\n",
    "from torch import nn\n",
    "from d2l import torch as d2l"
   ]
  }
 ],
 "metadata": {
  "kernelspec": {
   "display_name": "Python 3",
   "language": "python",
   "name": "python3"
  },
  "language_info": {
   "codemirror_mode": {
    "name": "ipython",
    "version": 3
   },
   "file_extension": ".py",
   "mimetype": "text/x-python",
   "name": "python",
   "nbconvert_exporter": "python",
   "pygments_lexer": "ipython3",
   "version": "3.11.3"
  }
 },
 "nbformat": 4,
 "nbformat_minor": 2
}
